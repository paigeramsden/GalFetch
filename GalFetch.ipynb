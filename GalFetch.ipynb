{
 "cells": [
  {
   "cell_type": "code",
   "execution_count": 20,
   "id": "ded74134",
   "metadata": {},
   "outputs": [],
   "source": [
    "from astropy.coordinates import SkyCoord \n",
    "from astropy.coordinates import Angle\n",
    "from astroquery.vizier import Vizier\n",
    "import astropy.coordinates as coord\n",
    "from extinctions import reddening\n",
    "from astropy.io import fits\n",
    "import astropy.units as u\n",
    "from io import BytesIO\n",
    "import pandas as pd\n",
    "import numpy as np\n",
    "import extinctions\n",
    "import extinction\n",
    "import mechanize\n",
    "import requests\n",
    "import json"
   ]
  },
  {
   "cell_type": "markdown",
   "id": "3a5b05d1",
   "metadata": {},
   "source": [
    "## Query Catalogues"
   ]
  },
  {
   "cell_type": "code",
   "execution_count": 21,
   "id": "13ff1dcf",
   "metadata": {},
   "outputs": [],
   "source": [
    "def retrieve_SDSS(input_ra, input_dec, input_name):\n",
    "    '''Queries the SDSS catalogue DR16 for galaxy matches on Ra and Dec, within a search radius of \n",
    "       +/- 2 arcsecs, returning a dictionary of u,g,r,i,z magnitudes and errors, or of zero values if \n",
    "       the target isn't a catalogue match.\n",
    "       \n",
    "       input: target coordinates in degrees and name.\n",
    "       output: a dictionary of results and a data collection note.'''\n",
    "    \n",
    "    # Execute SQL query in SDSS.\n",
    "    br = mechanize.Browser()\n",
    "    br.open(\"http://skyserver.sdss.org/dr16/en/tools/search/sql.aspx\")\n",
    "    \n",
    "    sql = f'''SELECT TOP 5    \\\n",
    "        ra, dec, u, err_u, g, err_g, r, err_r, i, err_i, z, err_z \\\n",
    "        FROM  PhotoPrimary p              \\\n",
    "        WHERE ra BETWEEN {input_ra - 0.0014} and {input_ra + 0.0014} \n",
    "        AND dec BETWEEN {input_dec - 0.0014} and {input_dec + 0.0014}\n",
    "        '''\n",
    "    \n",
    "    br.select_form(name=\"sql\")\n",
    "    br['cmd'] = sql\n",
    "    br['format']=['csv']\n",
    "    response = br.submit()\n",
    "    file_like = BytesIO(response.get_data())\n",
    "    dataframe = pd.read_csv(file_like, skiprows=1)\n",
    "\n",
    "    print('\\nQuerying SDSS for host galaxy data...\\n')\n",
    "\n",
    "    if dataframe.empty:\n",
    "        result_sdss = {f\"SDSS_{band}\": 0 for band in ['u', 'err_u', 'g', 'err_g', 'r', 'err_r', 'i', 'err_i', 'z', 'err_z']}\n",
    "        sdss_note = {\"SDSS\": f'{input_name} has no SDSS data'}\n",
    "    \n",
    "    # closest match on sky\n",
    "    else:\n",
    "        c = coord.SkyCoord(ra=str(input_ra), dec=str(input_dec), unit=(u.deg, u.deg))\n",
    "        cat_sdss = SkyCoord(ra=dataframe['ra']*u.degree, dec=dataframe['dec']*u.degree)\n",
    "        idx, d2d, d3d = c.match_to_catalog_sky(cat_sdss)\n",
    "\n",
    "        dataframe.drop(columns=['ra', 'dec'], axis=1, inplace=True)\n",
    "        dataframe.rename(lambda x: f'SDSS_{x}', axis='columns', inplace=True)\n",
    "        result_sdss = (dataframe.to_dict('records'))[idx]\n",
    "        sdss_note = {\"SDSS\": f'{input_name} has SDSS data'}\n",
    "    \n",
    "    return result_sdss, sdss_note"
   ]
  },
  {
   "cell_type": "code",
   "execution_count": 22,
   "id": "c04d88ee",
   "metadata": {},
   "outputs": [],
   "source": [
    "def retrieve_pans(input_ra, input_dec):\n",
    "    '''Queries the PanSTARRS catalogue DR2 (or DR1) for galaxy matches on Ra and Dec, within a search radius of \n",
    "       +/- 2 arcsecs, returning a dictionary of g,r,i,z,y magnitudes and errors, or of zero values if \n",
    "       the target isn't a catalogue match.\n",
    "       \n",
    "       input: target coordinates in degrees.\n",
    "       output: a dictionary of results and a data collection note.'''\n",
    "    \n",
    "    print('\\nQuerying PS1 for host galaxy data...\\n')\n",
    "    \n",
    "    def get_data(data_release):\n",
    "        '''aims to pull PanSTARRS data from DR2 but checks DR1 if needed'''\n",
    "    \n",
    "        queryurl = f'https://catalogs.mast.stsci.edu/api/v0.1/panstarrs/{data_release}/stack.json?'\n",
    "        queryurl += 'ra='+str(input_ra)   \n",
    "        queryurl += '&dec='+str(input_dec) \n",
    "        queryurl += '&radius=0.0014'        # Radius in degrees, 1 arcsec = 0.0003 deg (when looking for nearby objects want to look within a 4\" radius because this is the aperture size?)\n",
    "        queryurl += '&columns=[raStack,decStack,gKronMag,gKronMagErr,rKronMag,rKronMagErr,iKronMag,iKronMagErr,zKronMag,zKronMagErr,yKronMag,yKronMagErr,gPSFMag,gPSFMagErr]'\n",
    "    \n",
    "    \n",
    "        query = requests.get(queryurl)\n",
    "        results = query.json()\n",
    "        return np.array(results['data'])\n",
    "\n",
    "    def closest_match(data, data_release):\n",
    "        '''finds the closest match to target in the returned PanSTARRS data'''\n",
    "        \n",
    "        # consider zero matches\n",
    "        if data.size == 0:\n",
    "            pans_note = {\"PANS\": ' has no PanSTARRS data'}\n",
    "            return {}, pans_note\n",
    "        \n",
    "        # consider multiple matches and find closest match\n",
    "        c = coord.SkyCoord(ra=str(input_ra), dec=str(input_dec), unit=(u.deg, u.deg))\n",
    "        cat_pan = coord.SkyCoord(ra=data[:,0]*u.degree, dec=data[:,1]*u.degree)\n",
    "        idx, d2d, d3d = c.match_to_catalog_sky(cat_pan)\n",
    "        \n",
    "        df = pd.DataFrame(data, columns =[\n",
    "            'Ra','Dec','PSTARRS_g','PSTARRS_e_g','PSTARRS_r','PSTARRS_e_r',\n",
    "            'PSTARRS_i','PSTARRS_e_i','PSTARRS_z','PSTARRS_e_z','PSTARRS_y','PSTARRS_e_y'\n",
    "            ,'PS_gPSF','PS_e_gPSF'\n",
    "        ])\n",
    "        \n",
    "        closest_match = (df.to_dict('records'))[idx] \n",
    "        closest_match_df = df.loc[(df['Ra'] == df['Ra'][idx]) & (df['Dec'] == df['Dec'][idx])] \n",
    "        closest_match_df.drop(columns=['Ra', 'Dec'], axis=1, inplace=True)\n",
    "        \n",
    "        pans_note = {\"PANS\": f' has PanSTARRS {data_release} data'}\n",
    "        \n",
    "        if len(closest_match_df) > 1:\n",
    "            # select result with no -999 values\n",
    "            zero_val = []\n",
    "            \n",
    "            for i in range(len(closest_match_df)):\n",
    "                try: \n",
    "                    zero_val.append(closest_match_df.loc[i].value_counts()[-999])\n",
    "                except:\n",
    "                    zero_val.append(0)\n",
    "                \n",
    "            idx_z = np.argmin(zero_val)\n",
    "            \n",
    "            #closest_match_df.drop(columns=['Ra', 'Dec'], axis=1, inplace=True)\n",
    "            result_pans = (closest_match_df.to_dict('records'))[idx_z]\n",
    "            pans_note = {\"PANS\": f' has PanSTARRS {data_release} data'}\n",
    "        \n",
    "        else:\n",
    "            result_pans = (closest_match_df).to_dict('records')[0]\n",
    "            \n",
    "        # Replace any negative values \n",
    "        for key in result_pans.keys():\n",
    "            if result_pans[key] < 0: \n",
    "                result_pans[key] = 0\n",
    "                pans_note = {\"PANS\": f' had -999.0 PanSTARRS {data_release} data'}\n",
    "            \n",
    "        return result_pans, pans_note\n",
    "                    \n",
    "    # Attempt to query DR2 \n",
    "    result_pans, pans_note = closest_match(get_data('dr2'), 'dr2')\n",
    "    \n",
    "    # If no data from DR2, query DR1\n",
    "    if not result_pans:\n",
    "        result_pans, pans_note = closest_match(get_data('dr1'), 'dr1')\n",
    "        \n",
    "    # If no data from either\n",
    "    if not result_pans:\n",
    "        result_pans = {f\"PSTARRS_{band}\": 0 for band in ['g', 'e_g', 'r', 'e_r', 'i', 'e_i', 'z', 'e_z', 'y', 'e_y', 'PS_gPSF', 'PS_e_gPSF']}\n",
    "        #pans_note = {\"PANS\": ' has no PanSTARRS data'}\n",
    "          \n",
    "    return result_pans, pans_note"
   ]
  },
  {
   "cell_type": "code",
   "execution_count": 23,
   "id": "165aea96",
   "metadata": {},
   "outputs": [],
   "source": [
    "def retrieve_2mass(input_ra, input_dec):\n",
    "    '''Queries the 2MASS ESC catalogue, in ViZieR, for galaxy matches on Ra and Dec, within a search radius \n",
    "       of +/- 2 arcsecs, returning a dictionary of J,H,K magnitudes and errors, or of zero values if the target \n",
    "       isn't a catalogue match. \n",
    "       \n",
    "       input: target ra, dec and name.\n",
    "       output: a dictionary of results and a data collection note.'''\n",
    "\n",
    "    # Create a coordinate object from input RA and Dec\n",
    "    c = coord.SkyCoord(ra=str(input_ra), dec=str(input_dec), unit=(u.deg, u.deg))\n",
    "\n",
    "    print('\\nQuerying ViZieR for host galaxy data via 2MASS...\\n')\n",
    "    \n",
    "    def get_data(catalog, columns):\n",
    "        \"\"\"Query a specified 2MASS catalog.\"\"\"\n",
    "        mass_catalog = Vizier(columns=columns, catalog=catalog)\n",
    "        \n",
    "        catalogue_result = mass_catalog.query_region(c, radius=Angle(0.0014, \"deg\"))\n",
    "            \n",
    "        return catalogue_result\n",
    "\n",
    "    def process_data(result, ext=True):\n",
    "        \"\"\"Process and rename columns in the result.\"\"\"\n",
    "        \n",
    "        if len(result) == 0:\n",
    "            return None\n",
    "        \n",
    "        data = result[0]\n",
    "        data.remove_columns((\"RAJ2000\", \"DEJ2000\"))\n",
    "        prefix = \"2MASS_\"\n",
    "        data.rename_columns(\n",
    "            [\"J.ext\", \"e_J.ext\", \"H.ext\", \"e_H.ext\", \"K.ext\", \"e_K.ext\"] if ext else [\"J.K20e\", \"e_J.K20e\", \"H.K20e\", \"e_H.K20e\", \"K.K20e\", \"e_K.K20e\"],\n",
    "            [f\"{prefix}J\", f\"{prefix}e_J\", f\"{prefix}H\", f\"{prefix}e_H\", f\"{prefix}K\", f\"{prefix}e_K\"]\n",
    "        )\n",
    "        \n",
    "        df_data = data.to_pandas()\n",
    "        \n",
    "        result_mass = df_data.to_dict('records')[0]\n",
    "        \n",
    "        return result_mass\n",
    "\n",
    "    def check_blending():\n",
    "        \"\"\"Check for blending with nearby objects using Pan-STARRS.\"\"\"\n",
    "        query = f'https://catalogs.mast.stsci.edu/api/v0.1/panstarrs/dr2/stack.json?ra={input_ra}&dec={input_dec}&radius=0.0012&columns=[raStack,decStack]'\n",
    "\n",
    "        pan_query = requests.get(query)\n",
    "        pan_results = pan_query.json()\n",
    "        pan_data = np.array(pan_results['data'])\n",
    "        \n",
    "        return len(pan_data) > 1, pan_data\n",
    "        \n",
    "    # Query for extrapolated data\n",
    "    ext_result = get_data(\"VII/233/xsc\", [\"RAJ2000\", \"DEJ2000\", \"J.ext\", \"e_J.ext\", \"H.ext\", \"e_H.ext\", \"K.ext\", \"e_K.ext\"])\n",
    "    \n",
    "    result_mass = process_data(ext_result, ext=True)\n",
    "    mass_note = {\"2MASS\": ' has 2MASS ESC extrapolated data'}\n",
    "\n",
    "    # if there is no extrapolated data, or if it contains null values - query for isophotal data\n",
    "    if result_mass is None or any(np.isnan(val) for val in result_mass.values()):\n",
    "        iso_result = get_data(\"VII/233/xsc\", [\"RAJ2000\", \"DEJ2000\", \"J.K20e\", \"e_J.K20e\", \"H.K20e\", \"e_H.K20e\", \"K.K20e\", \"e_K.K20e\"])\n",
    "        result_mass = process_data(iso_result, ext=False)\n",
    "        mass_note = {\"2MASS\": ' has 2MASS ESC isophotal data due to having no extrapolated data/ null values'}\n",
    "        \n",
    "    if result_mass is None:\n",
    "        # Query for PSC data\n",
    "        psc_result = get_data(\"II/246/out\", [\"Jstdap\", \"e_Jstdap\", \"Hstdap\", \"e_Hstdap\", \"Kstdap\", \"e_Kstdap\"])\n",
    "\n",
    "        if len(psc_result) == 1:\n",
    "            has_blending, pan_data = check_blending()\n",
    "            if has_blending:\n",
    "                result_mass = {\"2MASS_J\": 0, \"2MASS_e_J\": 0, \"2MASS_H\": 0, \"2MASS_e_H\": 0, \"2MASS_K\": 0, \"2MASS_e_K\": 0}\n",
    "                mass_note = {\"2MASS\": ' has no 2MASS ESC data and there is blending in the PSC'}\n",
    "            else:\n",
    "                result_mass = {\"2MASS_J\": 0, \"2MASS_e_J\": 0, \"2MASS_H\": 0, \"2MASS_e_H\": 0, \"2MASS_K\": 0, \"2MASS_e_K\": 0}\n",
    "                mass_note = {\"2MASS\": ' has 2MASS PSC data but not using it in this study'}\n",
    "        else:\n",
    "            result_mass = {\"2MASS_J\": 0, \"2MASS_e_J\": 0, \"2MASS_H\": 0, \"2MASS_e_H\": 0, \"2MASS_K\": 0, \"2MASS_e_K\": 0}\n",
    "            mass_note = {\"2MASS\": ' has no 2MASS data'}\n",
    "\n",
    "    return result_mass, mass_note"
   ]
  },
  {
   "cell_type": "code",
   "execution_count": 24,
   "id": "c5d6b445",
   "metadata": {},
   "outputs": [],
   "source": [
    "def retrieve_legacy(input_ra, input_dec):\n",
    "    '''Queries the Legacy catalogue for galaxy matches on Ra and Dec, within a search radius of \n",
    "       +/- 10 arcsecs, returning a dictionary of g,r,i,z and W1,W2,W3,W4 magnitudes and errors, or \n",
    "       of zero values if the target isn't a catalogue match. \n",
    "       \n",
    "       input: target ra, dec and name.\n",
    "       output: a dictionary of results and a data collection note.'''\n",
    "    \n",
    "    print('\\nQuerying Legacy Survey for host galaxy data...\\n')\n",
    "    \n",
    "    def flux_to_mag_leg(input_flux): \n",
    "        #Just a convience function to make a flux into a magnitude\n",
    "        return 22.5 - 2.5*np.log10(input_flux)\n",
    "\n",
    "    # Define matching range\n",
    "    search_radius = 0.0014\n",
    "    ralow = input_ra - search_radius\n",
    "    rahigh = input_ra + search_radius\n",
    "    declow = input_dec - search_radius\n",
    "    dechigh = input_dec + search_radius\n",
    "\n",
    "    # attempt to query legacy survey and define required fields \n",
    "    try: \n",
    "        url = f'https://www.legacysurvey.org/viewer/ls-dr10/cat.fits?ralo={ralow:.5f}&rahi={rahigh:.5f}&declo={declow:.5f}&dechi={dechigh:.5f}'\n",
    "        hdu = fits.open(url)\n",
    "        hdu_data = hdu[1].data\n",
    "        \n",
    "        fields = ['ra','dec','mjd_max','mjd_min','flux_g','flux_r', 'flux_i', 'flux_z', \n",
    "                  'flux_w1', 'flux_w2', 'flux_w3', 'flux_w4', \n",
    "                  'flux_ivar_g', 'flux_ivar_r', 'flux_ivar_i', 'flux_ivar_z', \n",
    "                  'flux_ivar_w1', 'flux_ivar_w2', 'flux_ivar_w3', 'flux_ivar_w4']\n",
    "    \n",
    "        #Match the catalogue to give the closest match to the input ra/dec\n",
    "        #Remove any DUP sources which are GAIA duplicates with no fluxes\n",
    "        c = SkyCoord(ra=input_ra*u.degree, dec=input_dec*u.degree)\n",
    "        inds = (hdu_data['type'] != 'DUP')  \n",
    "        catalog = SkyCoord(ra=hdu_data['ra'][inds]*u.degree, dec=hdu_data['dec'][inds]*u.degree) \n",
    "        idx, d2d, d3d = c.match_to_catalog_sky(catalog)\n",
    "    \n",
    "        #Create dictionary\n",
    "        r = {}\n",
    "        for field in fields:\n",
    "            try:\n",
    "                r[field] = []\n",
    "                r[field].append(hdu_data[field][idx]) \n",
    "                if (field[0:4] == 'flux'):\n",
    "                    if (field[5:9] != 'ivar'): \n",
    "                        r[field.replace('flux', 'mag')] = []\n",
    "                        r[field.replace('flux', 'mag')].append(flux_to_mag_leg(hdu_data[field][idx]))\n",
    "                if (field[0:9] == 'flux_ivar'): \n",
    "                    r[field.replace('flux_ivar', 'mag_err')] = []\n",
    "                    flux_error = 1./np.sqrt(hdu_data[field][idx])\n",
    "                    error_calc = 2.5/np.log(10)*(flux_error)/hdu_data[field.replace('flux_ivar', 'flux')][idx]\n",
    "                    r[field.replace('flux_ivar', 'mag_err')].append(error_calc)\n",
    "                \n",
    "            except:\n",
    "                r[field].append('-99.98') \n",
    "                if (field[0:4] == 'flux'):\n",
    "                    if (field[5:9] != 'ivar'): \n",
    "                        r[field.replace('flux', 'mag')] = []\n",
    "                        r[field.replace('flux', 'mag')].append(0)\n",
    "                if (field[0:9] == 'flux_ivar'): \n",
    "                    r[field.replace('flux_ivar', 'mag_err')] = []\n",
    "                    r[field.replace('flux_ivar', 'mag_err')].append(0)\n",
    "        \n",
    "        \n",
    "        report_fields = ['mag_g','mag_r', 'mag_i', 'mag_z', 'mag_w1', 'mag_w2', 'mag_w3', 'mag_w4']\n",
    "        result_legacy = {}\n",
    "        legacy_note = {\"LEGACY\": ' has Legacy data'}\n",
    "        \n",
    "        for rfield in report_fields:\n",
    "            if (rfield[0:3] == 'mag'):          \n",
    "                if (np.isfinite(r[rfield][0])): \n",
    "                    if (r[rfield][0] > 0):      \n",
    "                        result_legacy[rfield]=round(r[rfield][0],3) \n",
    "                        result_legacy[rfield.replace('mag_', 'mag_err_')] = round(r[rfield.replace('mag_', 'mag_err_')][0],4) # now instead of working with mag, you replace that and work with mag_err, rounding to 4dp\n",
    "                        \n",
    "                        # if error is larger than 0.5\n",
    "                        if round(r[rfield.replace('mag_', 'mag_err_')][0],4) > 0.5: \n",
    "                                result_legacy[rfield] = 0 \n",
    "                                result_legacy[rfield.replace('mag_', 'mag_err_')] = 0 \n",
    "                                legacy_note = {\"LEGACY\": ' has Legacy data but some WISE has been removed due to large errors'}\n",
    "                \n",
    "                    # if magnitude value is zero        \n",
    "                    else: \n",
    "                        result_legacy[rfield] = 0 \n",
    "                        result_legacy[rfield.replace('mag_', 'mag_err_')] = 0 \n",
    "                        legacy_note = {\"LEGACY\": ' has some Legacy data'}\n",
    "    \n",
    "    except: \n",
    "        result_legacy = {'mag_g': 0, 'mag_err_g': 0, 'mag_r': 0, 'mag_err_r': 0, 'mag_i': 0, 'mag_err_i': 0, \n",
    "                             'mag_z': 0, 'mag_err_z': 0, 'mag_w1': 0, 'mag_err_w1': 0, 'mag_w2': 0, 'mag_err_w2': 0, \n",
    "                             'mag_w3': 0, 'mag_err_w3': 0, 'mag_w4': 0, 'mag_err_w4': 0}\n",
    "        legacy_note = {\"LEGACY\": ' has no Legacy data'}\n",
    "     \n",
    "    if len(result_legacy.keys()) < 16:\n",
    "        zero_val = {'mag_g': 0, 'mag_err_g': 0, 'mag_r': 0, 'mag_err_r': 0, 'mag_i': 0, 'mag_err_i': 0, \n",
    "                             'mag_z': 0, 'mag_err_z': 0, 'mag_w1': 0, 'mag_err_w1': 0, 'mag_w2': 0, 'mag_err_w2': 0, \n",
    "                             'mag_w3': 0, 'mag_err_w3': 0, 'mag_w4': 0, 'mag_err_w4': 0}\n",
    "        legacy_note = {\"LEGACY\": ' has some Legacy data'} \n",
    "        comb_dict ={k:v for d in (zero_val,result_legacy) for k,v in d.items()}\n",
    "        comb_dict = {**zero_val,**result_legacy}\n",
    "        result_legacy = comb_dict\n",
    "            \n",
    "    return result_legacy, legacy_note, len(result_legacy.keys())"
   ]
  },
  {
   "cell_type": "code",
   "execution_count": 25,
   "id": "6a5ebce6",
   "metadata": {},
   "outputs": [],
   "source": [
    "def retrieve_galex(input_ra, input_dec):\n",
    "    '''Queries the GALEX catalogue for galaxy matches on Ra and Dec, within a search radius of \n",
    "       +/- 2 arcsecs, returning a dictionary of FUV,NUV magnitudes and errors, or of zero values \n",
    "       if the target isn't a catalogue match.\n",
    "       \n",
    "       input: target ra and dec.\n",
    "       output: a dictionary of results and a data collection note.'''\n",
    "\n",
    "    #Make query to GALEX.\n",
    "    galex = Vizier(columns=[\"RAJ2000\", \"DEJ2000\",\"FUVmag\", \"e_FUVmag\", \"NUVmag\", \"e_NUVmag\"], catalog=\"II/335/galex_ais\")\n",
    "\n",
    "    print('\\nQuerying ViZieR for host galaxy data via GALEX...\\n')\n",
    "    \n",
    "    c = coord.SkyCoord(ra=str(input_ra), dec=str(input_dec), unit=(u.deg, u.deg))\n",
    "    gal_result = galex.query_region(c, radius=Angle(0.0014, \"deg\"))\n",
    "\n",
    "    if len(gal_result) == 1:\n",
    "        #Reduce the catalogue to the closest match to the input coordinates and return the dictionary results.\n",
    "        gal_result = gal_result[0]\n",
    "        cat_gal = SkyCoord(ra=gal_result['RAJ2000'], dec=gal_result['DEJ2000']) \n",
    "    \n",
    "        idx, d2d, d3d = c.match_to_catalog_sky(cat_gal)\n",
    "    \n",
    "        gal_result.remove_columns((\"RAJ2000\", \"DEJ2000\"))\n",
    "        gal_result.rename_columns((\"FUVmag\", \"e_FUVmag\", \"NUVmag\", \"e_NUVmag\"), (\"GALEX_FUV\", \"GALEX_e_FUV\", \"GALEX_NUV\", \"GALEX_e_NUV\"))\n",
    "    \n",
    "        df_gal = (gal_result.to_pandas())\n",
    "        \n",
    "        if df_gal.isnull().values.any():                      # Replace any NaN results with zeroes.\n",
    "            remove_nan = df_gal.fillna(0)\n",
    "            result_galex = remove_nan.to_dict('records')[idx] # Dictionary of closest match\n",
    "            galex_note = {\"GALEX\": ' has some GALEX data'}\n",
    "        \n",
    "        else:\n",
    "            result_galex = (df_gal.to_dict('records'))[idx]   # Dictionary of closest match\n",
    "            galex_note = {\"GALEX\": ' has GALEX data'}\n",
    "    \n",
    "    if len(gal_result) == 0:\n",
    "        result_galex = {'GALEX_FUV': 0, 'GALEX_e_FUV':0, 'GALEX_NUV': 0, 'GALEX_e_NUV': 0}\n",
    "        galex_note = {\"GALEX\": ' has no GALEX data'}\n",
    "    \n",
    "    return result_galex, galex_note"
   ]
  },
  {
   "cell_type": "markdown",
   "id": "7d8b9665",
   "metadata": {},
   "source": [
    "## Extinction Correction"
   ]
  },
  {
   "cell_type": "code",
   "execution_count": 26,
   "id": "da3ab49c",
   "metadata": {},
   "outputs": [],
   "source": [
    "def ext(input_ra,input_dec):\n",
    "    '''Calculates the extinction values for various wavelengths based on the given RA and Dec.\n",
    "    \n",
    "    input: target ra and dec \n",
    "    output: a dictionary of extinction corrected results'''\n",
    "    \n",
    "    red = (reddening.Reddening(input_ra, input_dec)).query_local_map(dustmap='sfd')*0.86\n",
    "    AV = 3.1*float(str(red)[1:-1])\n",
    "    \n",
    "    # effective wavelengths for all filters\n",
    "    wave = np.array([3587., 4717., 6165., 7476., 8923.,                # SDSS u, g, r, i, z\n",
    "                     4810., 6170., 7520., 8660., 9620., 4810.,         # PS1 g, r, i, z, y, gPSF\n",
    "                     12300., 16400., 21600.,                           # 2MASS J, H, K\n",
    "                     4717., 6165., 7476., 8923.,                       # LEGACY g, r, i, z\n",
    "                     34000., 46000., 120000., 220000.,                 # LEGACY W1,, W2, W3, W4\n",
    "                     1516., 2267.])                                    # GALEX FUV, NUV\n",
    "    \n",
    "\n",
    "    # extinction keys for respective filters\n",
    "    AC_keys = ['SDSS_u', 'SDSS_g', 'SDSS_r', 'SDSS_i', 'SDSS_z', \n",
    "               'PSTARRS_g', 'PSTARRS_r', 'PSTARRS_i', 'PSTARRS_z', 'PSTARRS_y', 'PS_gPSF', \n",
    "               '2MASS_J', '2MASS_H', '2MASS_K', \n",
    "               'mag_g', 'mag_r', 'mag_i', 'mag_z', \n",
    "               'mag_w1', 'mag_w2', 'mag_w3', 'mag_w4', \n",
    "               'GALEX_FUV', 'GALEX_NUV']\n",
    "    \n",
    "    AC = extinction.fitzpatrick99(wave, AV, 3.1)\n",
    "    \n",
    "    ext_val = {}\n",
    "    for A, B in zip(AC_keys, AC):\n",
    "        ext_val[A] = B\n",
    "    \n",
    "    return ext_val"
   ]
  },
  {
   "cell_type": "markdown",
   "id": "ba2ef115",
   "metadata": {},
   "source": [
    "## PSF/Kron Mag (B/T)g Estimate"
   ]
  },
  {
   "cell_type": "code",
   "execution_count": 27,
   "id": "fe34ed9f",
   "metadata": {},
   "outputs": [],
   "source": [
    "def bulge_to_total(ra,dec):\n",
    "    \n",
    "    pans_data = retrieve_pans(ra,dec)\n",
    "    \n",
    "    if pans_data[0]['PSTARRS_g'] and pans_data[0]['PS_gPSF'] > 0:\n",
    "        b_t = 10**(0.4*(pans_data[0]['PSTARRS_g'] - pans_data[0]['PS_gPSF']))\n",
    "        e_1 = np.sqrt(pans_data[0]['PSTARRS_e_g']**2 + pans_data[0]['PS_e_gPSF']**2) \n",
    "        e_2 = 0.4*e_1\n",
    "        b_t_e = 2.303*b_t*e_2\n",
    "        \n",
    "        \n",
    "        bt_note = {\"(B/T)g\": f' (B/T)g = {np.round(b_t,3)} (+/- {np.round(b_t_e,3)}) derived using PanSTARRS PSF/Kron Mags'}\n",
    "        \n",
    "    else:\n",
    "        bt_note = {\"(B/T)g\": ' (B/T)g cannot be calculated with PS1 data'}\n",
    "        \n",
    "    return(bt_note)"
   ]
  },
  {
   "cell_type": "markdown",
   "id": "6d7e92e7",
   "metadata": {},
   "source": [
    "## Collect Data for Targets "
   ]
  },
  {
   "cell_type": "code",
   "execution_count": null,
   "id": "486ad332",
   "metadata": {},
   "outputs": [
    {
     "name": "stdout",
     "output_type": "stream",
     "text": [
      "\n",
      "Querying SDSS for host galaxy data...\n",
      "\n",
      "\n",
      "Querying PS1 for host galaxy data...\n",
      "\n"
     ]
    },
    {
     "name": "stderr",
     "output_type": "stream",
     "text": [
      "/var/folders/x7/yl76x1s54ml4dckx50h4dfm9mztcwv/T/ipykernel_68053/4101882693.py:46: SettingWithCopyWarning: \n",
      "A value is trying to be set on a copy of a slice from a DataFrame\n",
      "\n",
      "See the caveats in the documentation: https://pandas.pydata.org/pandas-docs/stable/user_guide/indexing.html#returning-a-view-versus-a-copy\n",
      "  closest_match_df.drop(columns=['Ra', 'Dec'], axis=1, inplace=True)\n"
     ]
    },
    {
     "name": "stdout",
     "output_type": "stream",
     "text": [
      "\n",
      "Querying ViZieR for host galaxy data via 2MASS...\n",
      "\n",
      "\n",
      "Querying Legacy Survey for host galaxy data...\n",
      "\n",
      "\n",
      "Querying ViZieR for host galaxy data via GALEX...\n",
      "\n",
      "Raw Data Collected for NGC1332.\n",
      "\n",
      "Querying SDSS for host galaxy data...\n",
      "\n",
      "\n",
      "Querying PS1 for host galaxy data...\n",
      "\n"
     ]
    },
    {
     "name": "stderr",
     "output_type": "stream",
     "text": [
      "/var/folders/x7/yl76x1s54ml4dckx50h4dfm9mztcwv/T/ipykernel_68053/4101882693.py:46: SettingWithCopyWarning: \n",
      "A value is trying to be set on a copy of a slice from a DataFrame\n",
      "\n",
      "See the caveats in the documentation: https://pandas.pydata.org/pandas-docs/stable/user_guide/indexing.html#returning-a-view-versus-a-copy\n",
      "  closest_match_df.drop(columns=['Ra', 'Dec'], axis=1, inplace=True)\n"
     ]
    },
    {
     "name": "stdout",
     "output_type": "stream",
     "text": [
      "\n",
      "Querying ViZieR for host galaxy data via 2MASS...\n",
      "\n",
      "\n",
      "Querying Legacy Survey for host galaxy data...\n",
      "\n",
      "\n",
      "Querying ViZieR for host galaxy data via GALEX...\n",
      "\n",
      "\n",
      "Querying PS1 for host galaxy data...\n",
      "\n"
     ]
    },
    {
     "name": "stderr",
     "output_type": "stream",
     "text": [
      "/var/folders/x7/yl76x1s54ml4dckx50h4dfm9mztcwv/T/ipykernel_68053/4101882693.py:46: SettingWithCopyWarning: \n",
      "A value is trying to be set on a copy of a slice from a DataFrame\n",
      "\n",
      "See the caveats in the documentation: https://pandas.pydata.org/pandas-docs/stable/user_guide/indexing.html#returning-a-view-versus-a-copy\n",
      "  closest_match_df.drop(columns=['Ra', 'Dec'], axis=1, inplace=True)\n",
      "/Users/pxr754/opt/anaconda3/lib/python3.9/site-packages/extinctions/reddening.py:53: YAMLLoadWarning: calling yaml.load() without Loader=... is deprecated, as the default Loader is unsafe. Please read https://msg.pyyaml.org/load for full details.\n",
      "  self.maps = yaml.load(open(pmap))\n",
      "WARNING: AstropyDeprecationWarning: \"verbose\" was deprecated in version 1.15.0 and will be removed in a future version.  [extinctions.reddening]\n"
     ]
    },
    {
     "name": "stdout",
     "output_type": "stream",
     "text": [
      "Collection Notes Compiled for NGC1332.\n",
      "INFO: Loading the maps from /Users/pxr754/.extinction/maps//maps.yaml\n",
      " -  sfd is loaded\n",
      "\n",
      "Querying SDSS for host galaxy data...\n",
      "\n",
      "\n",
      "Querying PS1 for host galaxy data...\n",
      "\n",
      "\n",
      "Querying ViZieR for host galaxy data via 2MASS...\n",
      "\n",
      "\n",
      "Querying Legacy Survey for host galaxy data...\n",
      "\n",
      "\n",
      "Querying ViZieR for host galaxy data via GALEX...\n",
      "\n",
      "Raw Data Collected for NGC1374.\n",
      "\n",
      "Querying SDSS for host galaxy data...\n",
      "\n",
      "\n",
      "Querying PS1 for host galaxy data...\n",
      "\n",
      "\n",
      "Querying ViZieR for host galaxy data via 2MASS...\n",
      "\n",
      "\n",
      "Querying Legacy Survey for host galaxy data...\n",
      "\n",
      "\n",
      "Querying ViZieR for host galaxy data via GALEX...\n",
      "\n",
      "\n",
      "Querying PS1 for host galaxy data...\n",
      "\n",
      "Collection Notes Compiled for NGC1374.\n",
      "INFO: Loading the maps from /Users/pxr754/.extinction/maps//maps.yaml\n"
     ]
    },
    {
     "name": "stderr",
     "output_type": "stream",
     "text": [
      "/Users/pxr754/opt/anaconda3/lib/python3.9/site-packages/extinctions/reddening.py:53: YAMLLoadWarning: calling yaml.load() without Loader=... is deprecated, as the default Loader is unsafe. Please read https://msg.pyyaml.org/load for full details.\n",
      "  self.maps = yaml.load(open(pmap))\n",
      "WARNING: AstropyDeprecationWarning: \"verbose\" was deprecated in version 1.15.0 and will be removed in a future version.  [extinctions.reddening]\n"
     ]
    },
    {
     "name": "stdout",
     "output_type": "stream",
     "text": [
      " -  sfd is loaded\n",
      "\n",
      "Querying SDSS for host galaxy data...\n",
      "\n",
      "\n",
      "Querying PS1 for host galaxy data...\n",
      "\n",
      "\n",
      "Querying ViZieR for host galaxy data via 2MASS...\n",
      "\n",
      "\n",
      "Querying Legacy Survey for host galaxy data...\n",
      "\n",
      "\n",
      "Querying ViZieR for host galaxy data via GALEX...\n",
      "\n",
      "Raw Data Collected for NGC1399.\n",
      "\n",
      "Querying SDSS for host galaxy data...\n",
      "\n",
      "\n",
      "Querying PS1 for host galaxy data...\n",
      "\n",
      "\n",
      "Querying ViZieR for host galaxy data via 2MASS...\n",
      "\n",
      "\n",
      "Querying Legacy Survey for host galaxy data...\n",
      "\n",
      "\n",
      "Querying ViZieR for host galaxy data via GALEX...\n",
      "\n",
      "\n",
      "Querying PS1 for host galaxy data...\n",
      "\n",
      "Collection Notes Compiled for NGC1399.\n",
      "INFO: Loading the maps from /Users/pxr754/.extinction/maps//maps.yaml\n"
     ]
    },
    {
     "name": "stderr",
     "output_type": "stream",
     "text": [
      "/Users/pxr754/opt/anaconda3/lib/python3.9/site-packages/extinctions/reddening.py:53: YAMLLoadWarning: calling yaml.load() without Loader=... is deprecated, as the default Loader is unsafe. Please read https://msg.pyyaml.org/load for full details.\n",
      "  self.maps = yaml.load(open(pmap))\n",
      "WARNING: AstropyDeprecationWarning: \"verbose\" was deprecated in version 1.15.0 and will be removed in a future version.  [extinctions.reddening]\n"
     ]
    },
    {
     "name": "stdout",
     "output_type": "stream",
     "text": [
      " -  sfd is loaded\n",
      "\n",
      "Querying SDSS for host galaxy data...\n",
      "\n",
      "\n",
      "Querying PS1 for host galaxy data...\n",
      "\n"
     ]
    },
    {
     "name": "stderr",
     "output_type": "stream",
     "text": [
      "/var/folders/x7/yl76x1s54ml4dckx50h4dfm9mztcwv/T/ipykernel_68053/4101882693.py:46: SettingWithCopyWarning: \n",
      "A value is trying to be set on a copy of a slice from a DataFrame\n",
      "\n",
      "See the caveats in the documentation: https://pandas.pydata.org/pandas-docs/stable/user_guide/indexing.html#returning-a-view-versus-a-copy\n",
      "  closest_match_df.drop(columns=['Ra', 'Dec'], axis=1, inplace=True)\n"
     ]
    },
    {
     "name": "stdout",
     "output_type": "stream",
     "text": [
      "\n",
      "Querying ViZieR for host galaxy data via 2MASS...\n",
      "\n",
      "\n",
      "Querying Legacy Survey for host galaxy data...\n",
      "\n",
      "\n",
      "Querying ViZieR for host galaxy data via GALEX...\n",
      "\n",
      "Raw Data Collected for NGC1407.\n",
      "\n",
      "Querying SDSS for host galaxy data...\n",
      "\n",
      "\n",
      "Querying PS1 for host galaxy data...\n",
      "\n"
     ]
    },
    {
     "name": "stderr",
     "output_type": "stream",
     "text": [
      "/var/folders/x7/yl76x1s54ml4dckx50h4dfm9mztcwv/T/ipykernel_68053/4101882693.py:46: SettingWithCopyWarning: \n",
      "A value is trying to be set on a copy of a slice from a DataFrame\n",
      "\n",
      "See the caveats in the documentation: https://pandas.pydata.org/pandas-docs/stable/user_guide/indexing.html#returning-a-view-versus-a-copy\n",
      "  closest_match_df.drop(columns=['Ra', 'Dec'], axis=1, inplace=True)\n"
     ]
    },
    {
     "name": "stdout",
     "output_type": "stream",
     "text": [
      "\n",
      "Querying ViZieR for host galaxy data via 2MASS...\n",
      "\n",
      "\n",
      "Querying Legacy Survey for host galaxy data...\n",
      "\n",
      "\n",
      "Querying ViZieR for host galaxy data via GALEX...\n",
      "\n",
      "\n",
      "Querying PS1 for host galaxy data...\n",
      "\n"
     ]
    },
    {
     "name": "stderr",
     "output_type": "stream",
     "text": [
      "/var/folders/x7/yl76x1s54ml4dckx50h4dfm9mztcwv/T/ipykernel_68053/4101882693.py:46: SettingWithCopyWarning: \n",
      "A value is trying to be set on a copy of a slice from a DataFrame\n",
      "\n",
      "See the caveats in the documentation: https://pandas.pydata.org/pandas-docs/stable/user_guide/indexing.html#returning-a-view-versus-a-copy\n",
      "  closest_match_df.drop(columns=['Ra', 'Dec'], axis=1, inplace=True)\n",
      "/Users/pxr754/opt/anaconda3/lib/python3.9/site-packages/extinctions/reddening.py:53: YAMLLoadWarning: calling yaml.load() without Loader=... is deprecated, as the default Loader is unsafe. Please read https://msg.pyyaml.org/load for full details.\n",
      "  self.maps = yaml.load(open(pmap))\n",
      "WARNING: AstropyDeprecationWarning: \"verbose\" was deprecated in version 1.15.0 and will be removed in a future version.  [extinctions.reddening]\n"
     ]
    },
    {
     "name": "stdout",
     "output_type": "stream",
     "text": [
      "Collection Notes Compiled for NGC1407.\n",
      "INFO: Loading the maps from /Users/pxr754/.extinction/maps//maps.yaml\n",
      " -  sfd is loaded\n",
      "\n",
      "Querying SDSS for host galaxy data...\n",
      "\n",
      "\n",
      "Querying PS1 for host galaxy data...\n",
      "\n",
      "\n",
      "Querying ViZieR for host galaxy data via 2MASS...\n",
      "\n",
      "\n",
      "Querying Legacy Survey for host galaxy data...\n",
      "\n",
      "\n",
      "Querying ViZieR for host galaxy data via GALEX...\n",
      "\n",
      "Raw Data Collected for NGC1550.\n",
      "\n",
      "Querying SDSS for host galaxy data...\n",
      "\n",
      "\n",
      "Querying PS1 for host galaxy data...\n",
      "\n",
      "\n",
      "Querying ViZieR for host galaxy data via 2MASS...\n",
      "\n",
      "\n",
      "Querying Legacy Survey for host galaxy data...\n",
      "\n",
      "\n",
      "Querying ViZieR for host galaxy data via GALEX...\n",
      "\n",
      "\n",
      "Querying PS1 for host galaxy data...\n",
      "\n",
      "Collection Notes Compiled for NGC1550.\n",
      "INFO: Loading the maps from /Users/pxr754/.extinction/maps//maps.yaml\n"
     ]
    },
    {
     "name": "stderr",
     "output_type": "stream",
     "text": [
      "/Users/pxr754/opt/anaconda3/lib/python3.9/site-packages/extinctions/reddening.py:53: YAMLLoadWarning: calling yaml.load() without Loader=... is deprecated, as the default Loader is unsafe. Please read https://msg.pyyaml.org/load for full details.\n",
      "  self.maps = yaml.load(open(pmap))\n",
      "WARNING: AstropyDeprecationWarning: \"verbose\" was deprecated in version 1.15.0 and will be removed in a future version.  [extinctions.reddening]\n"
     ]
    },
    {
     "name": "stdout",
     "output_type": "stream",
     "text": [
      " -  sfd is loaded\n",
      "\n",
      "Querying SDSS for host galaxy data...\n",
      "\n",
      "\n",
      "Querying PS1 for host galaxy data...\n",
      "\n"
     ]
    },
    {
     "name": "stderr",
     "output_type": "stream",
     "text": [
      "/var/folders/x7/yl76x1s54ml4dckx50h4dfm9mztcwv/T/ipykernel_68053/4101882693.py:46: SettingWithCopyWarning: \n",
      "A value is trying to be set on a copy of a slice from a DataFrame\n",
      "\n",
      "See the caveats in the documentation: https://pandas.pydata.org/pandas-docs/stable/user_guide/indexing.html#returning-a-view-versus-a-copy\n",
      "  closest_match_df.drop(columns=['Ra', 'Dec'], axis=1, inplace=True)\n"
     ]
    },
    {
     "name": "stdout",
     "output_type": "stream",
     "text": [
      "\n",
      "Querying ViZieR for host galaxy data via 2MASS...\n",
      "\n",
      "\n",
      "Querying Legacy Survey for host galaxy data...\n",
      "\n",
      "\n",
      "Querying ViZieR for host galaxy data via GALEX...\n",
      "\n",
      "Raw Data Collected for NGC3091.\n",
      "\n",
      "Querying SDSS for host galaxy data...\n",
      "\n",
      "\n",
      "Querying PS1 for host galaxy data...\n",
      "\n"
     ]
    },
    {
     "name": "stderr",
     "output_type": "stream",
     "text": [
      "/var/folders/x7/yl76x1s54ml4dckx50h4dfm9mztcwv/T/ipykernel_68053/4101882693.py:46: SettingWithCopyWarning: \n",
      "A value is trying to be set on a copy of a slice from a DataFrame\n",
      "\n",
      "See the caveats in the documentation: https://pandas.pydata.org/pandas-docs/stable/user_guide/indexing.html#returning-a-view-versus-a-copy\n",
      "  closest_match_df.drop(columns=['Ra', 'Dec'], axis=1, inplace=True)\n"
     ]
    },
    {
     "name": "stdout",
     "output_type": "stream",
     "text": [
      "\n",
      "Querying ViZieR for host galaxy data via 2MASS...\n",
      "\n",
      "\n",
      "Querying Legacy Survey for host galaxy data...\n",
      "\n",
      "\n",
      "Querying ViZieR for host galaxy data via GALEX...\n",
      "\n",
      "\n",
      "Querying PS1 for host galaxy data...\n",
      "\n"
     ]
    },
    {
     "name": "stderr",
     "output_type": "stream",
     "text": [
      "/var/folders/x7/yl76x1s54ml4dckx50h4dfm9mztcwv/T/ipykernel_68053/4101882693.py:46: SettingWithCopyWarning: \n",
      "A value is trying to be set on a copy of a slice from a DataFrame\n",
      "\n",
      "See the caveats in the documentation: https://pandas.pydata.org/pandas-docs/stable/user_guide/indexing.html#returning-a-view-versus-a-copy\n",
      "  closest_match_df.drop(columns=['Ra', 'Dec'], axis=1, inplace=True)\n",
      "/Users/pxr754/opt/anaconda3/lib/python3.9/site-packages/extinctions/reddening.py:53: YAMLLoadWarning: calling yaml.load() without Loader=... is deprecated, as the default Loader is unsafe. Please read https://msg.pyyaml.org/load for full details.\n",
      "  self.maps = yaml.load(open(pmap))\n",
      "WARNING: AstropyDeprecationWarning: \"verbose\" was deprecated in version 1.15.0 and will be removed in a future version.  [extinctions.reddening]\n"
     ]
    },
    {
     "name": "stdout",
     "output_type": "stream",
     "text": [
      "Collection Notes Compiled for NGC3091.\n",
      "INFO: Loading the maps from /Users/pxr754/.extinction/maps//maps.yaml\n",
      " -  sfd is loaded\n",
      "\n",
      "Querying SDSS for host galaxy data...\n",
      "\n",
      "\n",
      "Querying PS1 for host galaxy data...\n",
      "\n",
      "\n",
      "Querying ViZieR for host galaxy data via 2MASS...\n",
      "\n",
      "\n",
      "Querying Legacy Survey for host galaxy data...\n",
      "\n",
      "\n",
      "Querying ViZieR for host galaxy data via GALEX...\n",
      "\n",
      "Raw Data Collected for NGC3377.\n",
      "\n",
      "Querying SDSS for host galaxy data...\n",
      "\n",
      "\n",
      "Querying PS1 for host galaxy data...\n",
      "\n",
      "\n",
      "Querying ViZieR for host galaxy data via 2MASS...\n",
      "\n",
      "\n",
      "Querying Legacy Survey for host galaxy data...\n",
      "\n",
      "\n",
      "Querying ViZieR for host galaxy data via GALEX...\n",
      "\n",
      "\n",
      "Querying PS1 for host galaxy data...\n",
      "\n",
      "Collection Notes Compiled for NGC3377.\n",
      "INFO: Loading the maps from /Users/pxr754/.extinction/maps//maps.yaml\n"
     ]
    },
    {
     "name": "stderr",
     "output_type": "stream",
     "text": [
      "/Users/pxr754/opt/anaconda3/lib/python3.9/site-packages/extinctions/reddening.py:53: YAMLLoadWarning: calling yaml.load() without Loader=... is deprecated, as the default Loader is unsafe. Please read https://msg.pyyaml.org/load for full details.\n",
      "  self.maps = yaml.load(open(pmap))\n",
      "WARNING: AstropyDeprecationWarning: \"verbose\" was deprecated in version 1.15.0 and will be removed in a future version.  [extinctions.reddening]\n"
     ]
    },
    {
     "name": "stdout",
     "output_type": "stream",
     "text": [
      " -  sfd is loaded\n",
      "\n",
      "Querying SDSS for host galaxy data...\n",
      "\n",
      "\n",
      "Querying PS1 for host galaxy data...\n",
      "\n"
     ]
    },
    {
     "name": "stderr",
     "output_type": "stream",
     "text": [
      "/var/folders/x7/yl76x1s54ml4dckx50h4dfm9mztcwv/T/ipykernel_68053/4101882693.py:46: SettingWithCopyWarning: \n",
      "A value is trying to be set on a copy of a slice from a DataFrame\n",
      "\n",
      "See the caveats in the documentation: https://pandas.pydata.org/pandas-docs/stable/user_guide/indexing.html#returning-a-view-versus-a-copy\n",
      "  closest_match_df.drop(columns=['Ra', 'Dec'], axis=1, inplace=True)\n"
     ]
    },
    {
     "name": "stdout",
     "output_type": "stream",
     "text": [
      "\n",
      "Querying ViZieR for host galaxy data via 2MASS...\n",
      "\n",
      "\n",
      "Querying Legacy Survey for host galaxy data...\n",
      "\n",
      "\n",
      "Querying ViZieR for host galaxy data via GALEX...\n",
      "\n",
      "Raw Data Collected for NGC3608.\n",
      "\n",
      "Querying SDSS for host galaxy data...\n",
      "\n",
      "\n",
      "Querying PS1 for host galaxy data...\n",
      "\n"
     ]
    },
    {
     "name": "stderr",
     "output_type": "stream",
     "text": [
      "/var/folders/x7/yl76x1s54ml4dckx50h4dfm9mztcwv/T/ipykernel_68053/4101882693.py:46: SettingWithCopyWarning: \n",
      "A value is trying to be set on a copy of a slice from a DataFrame\n",
      "\n",
      "See the caveats in the documentation: https://pandas.pydata.org/pandas-docs/stable/user_guide/indexing.html#returning-a-view-versus-a-copy\n",
      "  closest_match_df.drop(columns=['Ra', 'Dec'], axis=1, inplace=True)\n"
     ]
    },
    {
     "name": "stdout",
     "output_type": "stream",
     "text": [
      "\n",
      "Querying ViZieR for host galaxy data via 2MASS...\n",
      "\n",
      "\n",
      "Querying Legacy Survey for host galaxy data...\n",
      "\n",
      "\n",
      "Querying ViZieR for host galaxy data via GALEX...\n",
      "\n",
      "\n",
      "Querying PS1 for host galaxy data...\n",
      "\n"
     ]
    },
    {
     "name": "stderr",
     "output_type": "stream",
     "text": [
      "/var/folders/x7/yl76x1s54ml4dckx50h4dfm9mztcwv/T/ipykernel_68053/4101882693.py:46: SettingWithCopyWarning: \n",
      "A value is trying to be set on a copy of a slice from a DataFrame\n",
      "\n",
      "See the caveats in the documentation: https://pandas.pydata.org/pandas-docs/stable/user_guide/indexing.html#returning-a-view-versus-a-copy\n",
      "  closest_match_df.drop(columns=['Ra', 'Dec'], axis=1, inplace=True)\n",
      "/Users/pxr754/opt/anaconda3/lib/python3.9/site-packages/extinctions/reddening.py:53: YAMLLoadWarning: calling yaml.load() without Loader=... is deprecated, as the default Loader is unsafe. Please read https://msg.pyyaml.org/load for full details.\n",
      "  self.maps = yaml.load(open(pmap))\n",
      "WARNING: AstropyDeprecationWarning: \"verbose\" was deprecated in version 1.15.0 and will be removed in a future version.  [extinctions.reddening]\n"
     ]
    },
    {
     "name": "stdout",
     "output_type": "stream",
     "text": [
      "Collection Notes Compiled for NGC3608.\n",
      "INFO: Loading the maps from /Users/pxr754/.extinction/maps//maps.yaml\n",
      " -  sfd is loaded\n",
      "\n",
      "Querying SDSS for host galaxy data...\n",
      "\n",
      "\n",
      "Querying PS1 for host galaxy data...\n",
      "\n"
     ]
    },
    {
     "name": "stderr",
     "output_type": "stream",
     "text": [
      "/var/folders/x7/yl76x1s54ml4dckx50h4dfm9mztcwv/T/ipykernel_68053/4101882693.py:46: SettingWithCopyWarning: \n",
      "A value is trying to be set on a copy of a slice from a DataFrame\n",
      "\n",
      "See the caveats in the documentation: https://pandas.pydata.org/pandas-docs/stable/user_guide/indexing.html#returning-a-view-versus-a-copy\n",
      "  closest_match_df.drop(columns=['Ra', 'Dec'], axis=1, inplace=True)\n"
     ]
    },
    {
     "name": "stdout",
     "output_type": "stream",
     "text": [
      "\n",
      "Querying ViZieR for host galaxy data via 2MASS...\n",
      "\n",
      "\n",
      "Querying Legacy Survey for host galaxy data...\n",
      "\n",
      "\n",
      "Querying ViZieR for host galaxy data via GALEX...\n",
      "\n",
      "Raw Data Collected for NGC4291.\n",
      "\n",
      "Querying SDSS for host galaxy data...\n",
      "\n",
      "\n",
      "Querying PS1 for host galaxy data...\n",
      "\n"
     ]
    },
    {
     "name": "stderr",
     "output_type": "stream",
     "text": [
      "/var/folders/x7/yl76x1s54ml4dckx50h4dfm9mztcwv/T/ipykernel_68053/4101882693.py:46: SettingWithCopyWarning: \n",
      "A value is trying to be set on a copy of a slice from a DataFrame\n",
      "\n",
      "See the caveats in the documentation: https://pandas.pydata.org/pandas-docs/stable/user_guide/indexing.html#returning-a-view-versus-a-copy\n",
      "  closest_match_df.drop(columns=['Ra', 'Dec'], axis=1, inplace=True)\n"
     ]
    },
    {
     "name": "stdout",
     "output_type": "stream",
     "text": [
      "\n",
      "Querying ViZieR for host galaxy data via 2MASS...\n",
      "\n",
      "\n",
      "Querying Legacy Survey for host galaxy data...\n",
      "\n",
      "\n",
      "Querying ViZieR for host galaxy data via GALEX...\n",
      "\n",
      "\n",
      "Querying PS1 for host galaxy data...\n",
      "\n"
     ]
    },
    {
     "name": "stderr",
     "output_type": "stream",
     "text": [
      "/var/folders/x7/yl76x1s54ml4dckx50h4dfm9mztcwv/T/ipykernel_68053/4101882693.py:46: SettingWithCopyWarning: \n",
      "A value is trying to be set on a copy of a slice from a DataFrame\n",
      "\n",
      "See the caveats in the documentation: https://pandas.pydata.org/pandas-docs/stable/user_guide/indexing.html#returning-a-view-versus-a-copy\n",
      "  closest_match_df.drop(columns=['Ra', 'Dec'], axis=1, inplace=True)\n",
      "/Users/pxr754/opt/anaconda3/lib/python3.9/site-packages/extinctions/reddening.py:53: YAMLLoadWarning: calling yaml.load() without Loader=... is deprecated, as the default Loader is unsafe. Please read https://msg.pyyaml.org/load for full details.\n",
      "  self.maps = yaml.load(open(pmap))\n",
      "WARNING: AstropyDeprecationWarning: \"verbose\" was deprecated in version 1.15.0 and will be removed in a future version.  [extinctions.reddening]\n"
     ]
    },
    {
     "name": "stdout",
     "output_type": "stream",
     "text": [
      "Collection Notes Compiled for NGC4291.\n",
      "INFO: Loading the maps from /Users/pxr754/.extinction/maps//maps.yaml\n",
      " -  sfd is loaded\n",
      "\n",
      "Querying SDSS for host galaxy data...\n",
      "\n",
      "\n",
      "Querying PS1 for host galaxy data...\n",
      "\n"
     ]
    },
    {
     "name": "stderr",
     "output_type": "stream",
     "text": [
      "/var/folders/x7/yl76x1s54ml4dckx50h4dfm9mztcwv/T/ipykernel_68053/4101882693.py:46: SettingWithCopyWarning: \n",
      "A value is trying to be set on a copy of a slice from a DataFrame\n",
      "\n",
      "See the caveats in the documentation: https://pandas.pydata.org/pandas-docs/stable/user_guide/indexing.html#returning-a-view-versus-a-copy\n",
      "  closest_match_df.drop(columns=['Ra', 'Dec'], axis=1, inplace=True)\n"
     ]
    },
    {
     "name": "stdout",
     "output_type": "stream",
     "text": [
      "\n",
      "Querying ViZieR for host galaxy data via 2MASS...\n",
      "\n",
      "\n",
      "Querying Legacy Survey for host galaxy data...\n",
      "\n",
      "\n",
      "Querying ViZieR for host galaxy data via GALEX...\n",
      "\n",
      "Raw Data Collected for NGC4374.\n",
      "\n",
      "Querying SDSS for host galaxy data...\n",
      "\n",
      "\n",
      "Querying PS1 for host galaxy data...\n",
      "\n"
     ]
    },
    {
     "name": "stderr",
     "output_type": "stream",
     "text": [
      "/var/folders/x7/yl76x1s54ml4dckx50h4dfm9mztcwv/T/ipykernel_68053/4101882693.py:46: SettingWithCopyWarning: \n",
      "A value is trying to be set on a copy of a slice from a DataFrame\n",
      "\n",
      "See the caveats in the documentation: https://pandas.pydata.org/pandas-docs/stable/user_guide/indexing.html#returning-a-view-versus-a-copy\n",
      "  closest_match_df.drop(columns=['Ra', 'Dec'], axis=1, inplace=True)\n"
     ]
    },
    {
     "name": "stdout",
     "output_type": "stream",
     "text": [
      "\n",
      "Querying ViZieR for host galaxy data via 2MASS...\n",
      "\n",
      "\n",
      "Querying Legacy Survey for host galaxy data...\n",
      "\n",
      "\n",
      "Querying ViZieR for host galaxy data via GALEX...\n",
      "\n",
      "\n",
      "Querying PS1 for host galaxy data...\n",
      "\n"
     ]
    },
    {
     "name": "stderr",
     "output_type": "stream",
     "text": [
      "/var/folders/x7/yl76x1s54ml4dckx50h4dfm9mztcwv/T/ipykernel_68053/4101882693.py:46: SettingWithCopyWarning: \n",
      "A value is trying to be set on a copy of a slice from a DataFrame\n",
      "\n",
      "See the caveats in the documentation: https://pandas.pydata.org/pandas-docs/stable/user_guide/indexing.html#returning-a-view-versus-a-copy\n",
      "  closest_match_df.drop(columns=['Ra', 'Dec'], axis=1, inplace=True)\n",
      "/Users/pxr754/opt/anaconda3/lib/python3.9/site-packages/extinctions/reddening.py:53: YAMLLoadWarning: calling yaml.load() without Loader=... is deprecated, as the default Loader is unsafe. Please read https://msg.pyyaml.org/load for full details.\n",
      "  self.maps = yaml.load(open(pmap))\n",
      "WARNING: AstropyDeprecationWarning: \"verbose\" was deprecated in version 1.15.0 and will be removed in a future version.  [extinctions.reddening]\n"
     ]
    },
    {
     "name": "stdout",
     "output_type": "stream",
     "text": [
      "Collection Notes Compiled for NGC4374.\n",
      "INFO: Loading the maps from /Users/pxr754/.extinction/maps//maps.yaml\n",
      " -  sfd is loaded\n",
      "\n",
      "Querying SDSS for host galaxy data...\n",
      "\n",
      "\n",
      "Querying PS1 for host galaxy data...\n",
      "\n"
     ]
    },
    {
     "name": "stderr",
     "output_type": "stream",
     "text": [
      "/var/folders/x7/yl76x1s54ml4dckx50h4dfm9mztcwv/T/ipykernel_68053/4101882693.py:46: SettingWithCopyWarning: \n",
      "A value is trying to be set on a copy of a slice from a DataFrame\n",
      "\n",
      "See the caveats in the documentation: https://pandas.pydata.org/pandas-docs/stable/user_guide/indexing.html#returning-a-view-versus-a-copy\n",
      "  closest_match_df.drop(columns=['Ra', 'Dec'], axis=1, inplace=True)\n",
      "/var/folders/x7/yl76x1s54ml4dckx50h4dfm9mztcwv/T/ipykernel_68053/3868000565.py:13: RuntimeWarning: divide by zero encountered in log10\n",
      "  return 22.5 - 2.5*np.log10(input_flux)\n",
      "/var/folders/x7/yl76x1s54ml4dckx50h4dfm9mztcwv/T/ipykernel_68053/3868000565.py:52: RuntimeWarning: divide by zero encountered in divide\n",
      "  flux_error = 1./np.sqrt(hdu_data[field][idx])\n"
     ]
    },
    {
     "name": "stdout",
     "output_type": "stream",
     "text": [
      "\n",
      "Querying ViZieR for host galaxy data via 2MASS...\n",
      "\n",
      "\n",
      "Querying Legacy Survey for host galaxy data...\n",
      "\n",
      "\n",
      "Querying ViZieR for host galaxy data via GALEX...\n",
      "\n",
      "Raw Data Collected for NGC4472.\n",
      "\n",
      "Querying SDSS for host galaxy data...\n",
      "\n",
      "\n",
      "Querying PS1 for host galaxy data...\n",
      "\n"
     ]
    },
    {
     "name": "stderr",
     "output_type": "stream",
     "text": [
      "/var/folders/x7/yl76x1s54ml4dckx50h4dfm9mztcwv/T/ipykernel_68053/4101882693.py:46: SettingWithCopyWarning: \n",
      "A value is trying to be set on a copy of a slice from a DataFrame\n",
      "\n",
      "See the caveats in the documentation: https://pandas.pydata.org/pandas-docs/stable/user_guide/indexing.html#returning-a-view-versus-a-copy\n",
      "  closest_match_df.drop(columns=['Ra', 'Dec'], axis=1, inplace=True)\n",
      "/var/folders/x7/yl76x1s54ml4dckx50h4dfm9mztcwv/T/ipykernel_68053/3868000565.py:13: RuntimeWarning: divide by zero encountered in log10\n",
      "  return 22.5 - 2.5*np.log10(input_flux)\n",
      "/var/folders/x7/yl76x1s54ml4dckx50h4dfm9mztcwv/T/ipykernel_68053/3868000565.py:52: RuntimeWarning: divide by zero encountered in divide\n",
      "  flux_error = 1./np.sqrt(hdu_data[field][idx])\n"
     ]
    },
    {
     "name": "stdout",
     "output_type": "stream",
     "text": [
      "\n",
      "Querying ViZieR for host galaxy data via 2MASS...\n",
      "\n",
      "\n",
      "Querying Legacy Survey for host galaxy data...\n",
      "\n",
      "\n",
      "Querying ViZieR for host galaxy data via GALEX...\n",
      "\n",
      "\n",
      "Querying PS1 for host galaxy data...\n",
      "\n"
     ]
    },
    {
     "name": "stderr",
     "output_type": "stream",
     "text": [
      "/var/folders/x7/yl76x1s54ml4dckx50h4dfm9mztcwv/T/ipykernel_68053/4101882693.py:46: SettingWithCopyWarning: \n",
      "A value is trying to be set on a copy of a slice from a DataFrame\n",
      "\n",
      "See the caveats in the documentation: https://pandas.pydata.org/pandas-docs/stable/user_guide/indexing.html#returning-a-view-versus-a-copy\n",
      "  closest_match_df.drop(columns=['Ra', 'Dec'], axis=1, inplace=True)\n",
      "/Users/pxr754/opt/anaconda3/lib/python3.9/site-packages/extinctions/reddening.py:53: YAMLLoadWarning: calling yaml.load() without Loader=... is deprecated, as the default Loader is unsafe. Please read https://msg.pyyaml.org/load for full details.\n",
      "  self.maps = yaml.load(open(pmap))\n",
      "WARNING: AstropyDeprecationWarning: \"verbose\" was deprecated in version 1.15.0 and will be removed in a future version.  [extinctions.reddening]\n"
     ]
    },
    {
     "name": "stdout",
     "output_type": "stream",
     "text": [
      "Collection Notes Compiled for NGC4472.\n",
      "INFO: Loading the maps from /Users/pxr754/.extinction/maps//maps.yaml\n",
      " -  sfd is loaded\n",
      "\n",
      "Querying SDSS for host galaxy data...\n",
      "\n",
      "\n",
      "Querying PS1 for host galaxy data...\n",
      "\n",
      "\n",
      "Querying ViZieR for host galaxy data via 2MASS...\n",
      "\n",
      "\n",
      "Querying Legacy Survey for host galaxy data...\n",
      "\n",
      "\n",
      "Querying ViZieR for host galaxy data via GALEX...\n",
      "\n",
      "Raw Data Collected for NGC4473.\n",
      "\n",
      "Querying SDSS for host galaxy data...\n",
      "\n",
      "\n",
      "Querying PS1 for host galaxy data...\n",
      "\n",
      "\n",
      "Querying ViZieR for host galaxy data via 2MASS...\n",
      "\n",
      "\n",
      "Querying Legacy Survey for host galaxy data...\n",
      "\n",
      "\n",
      "Querying ViZieR for host galaxy data via GALEX...\n",
      "\n",
      "\n",
      "Querying PS1 for host galaxy data...\n",
      "\n",
      "Collection Notes Compiled for NGC4473.\n",
      "INFO: Loading the maps from /Users/pxr754/.extinction/maps//maps.yaml\n"
     ]
    },
    {
     "name": "stderr",
     "output_type": "stream",
     "text": [
      "/Users/pxr754/opt/anaconda3/lib/python3.9/site-packages/extinctions/reddening.py:53: YAMLLoadWarning: calling yaml.load() without Loader=... is deprecated, as the default Loader is unsafe. Please read https://msg.pyyaml.org/load for full details.\n",
      "  self.maps = yaml.load(open(pmap))\n",
      "WARNING: AstropyDeprecationWarning: \"verbose\" was deprecated in version 1.15.0 and will be removed in a future version.  [extinctions.reddening]\n"
     ]
    },
    {
     "name": "stdout",
     "output_type": "stream",
     "text": [
      " -  sfd is loaded\n",
      "\n",
      "Querying SDSS for host galaxy data...\n",
      "\n",
      "\n",
      "Querying PS1 for host galaxy data...\n",
      "\n",
      "\n",
      "Querying ViZieR for host galaxy data via 2MASS...\n",
      "\n",
      "\n",
      "Querying Legacy Survey for host galaxy data...\n",
      "\n",
      "\n",
      "Querying ViZieR for host galaxy data via GALEX...\n",
      "\n",
      "Raw Data Collected for M87.\n",
      "\n",
      "Querying SDSS for host galaxy data...\n",
      "\n",
      "\n",
      "Querying PS1 for host galaxy data...\n",
      "\n",
      "\n",
      "Querying ViZieR for host galaxy data via 2MASS...\n",
      "\n",
      "\n",
      "Querying Legacy Survey for host galaxy data...\n",
      "\n",
      "\n",
      "Querying ViZieR for host galaxy data via GALEX...\n",
      "\n",
      "\n",
      "Querying PS1 for host galaxy data...\n",
      "\n",
      "Collection Notes Compiled for M87.\n",
      "INFO: Loading the maps from /Users/pxr754/.extinction/maps//maps.yaml\n"
     ]
    },
    {
     "name": "stderr",
     "output_type": "stream",
     "text": [
      "/Users/pxr754/opt/anaconda3/lib/python3.9/site-packages/extinctions/reddening.py:53: YAMLLoadWarning: calling yaml.load() without Loader=... is deprecated, as the default Loader is unsafe. Please read https://msg.pyyaml.org/load for full details.\n",
      "  self.maps = yaml.load(open(pmap))\n",
      "WARNING: AstropyDeprecationWarning: \"verbose\" was deprecated in version 1.15.0 and will be removed in a future version.  [extinctions.reddening]\n"
     ]
    },
    {
     "name": "stdout",
     "output_type": "stream",
     "text": [
      " -  sfd is loaded\n",
      "\n",
      "Querying SDSS for host galaxy data...\n",
      "\n",
      "\n",
      "Querying PS1 for host galaxy data...\n",
      "\n"
     ]
    },
    {
     "name": "stderr",
     "output_type": "stream",
     "text": [
      "/var/folders/x7/yl76x1s54ml4dckx50h4dfm9mztcwv/T/ipykernel_68053/4101882693.py:46: SettingWithCopyWarning: \n",
      "A value is trying to be set on a copy of a slice from a DataFrame\n",
      "\n",
      "See the caveats in the documentation: https://pandas.pydata.org/pandas-docs/stable/user_guide/indexing.html#returning-a-view-versus-a-copy\n",
      "  closest_match_df.drop(columns=['Ra', 'Dec'], axis=1, inplace=True)\n",
      "/var/folders/x7/yl76x1s54ml4dckx50h4dfm9mztcwv/T/ipykernel_68053/3868000565.py:13: RuntimeWarning: invalid value encountered in log10\n",
      "  return 22.5 - 2.5*np.log10(input_flux)\n"
     ]
    },
    {
     "name": "stdout",
     "output_type": "stream",
     "text": [
      "\n",
      "Querying ViZieR for host galaxy data via 2MASS...\n",
      "\n",
      "\n",
      "Querying Legacy Survey for host galaxy data...\n",
      "\n",
      "\n",
      "Querying ViZieR for host galaxy data via GALEX...\n",
      "\n",
      "Raw Data Collected for NGC4486A.\n",
      "\n",
      "Querying SDSS for host galaxy data...\n",
      "\n",
      "\n",
      "Querying PS1 for host galaxy data...\n",
      "\n"
     ]
    },
    {
     "name": "stderr",
     "output_type": "stream",
     "text": [
      "/var/folders/x7/yl76x1s54ml4dckx50h4dfm9mztcwv/T/ipykernel_68053/4101882693.py:46: SettingWithCopyWarning: \n",
      "A value is trying to be set on a copy of a slice from a DataFrame\n",
      "\n",
      "See the caveats in the documentation: https://pandas.pydata.org/pandas-docs/stable/user_guide/indexing.html#returning-a-view-versus-a-copy\n",
      "  closest_match_df.drop(columns=['Ra', 'Dec'], axis=1, inplace=True)\n",
      "/var/folders/x7/yl76x1s54ml4dckx50h4dfm9mztcwv/T/ipykernel_68053/3868000565.py:13: RuntimeWarning: invalid value encountered in log10\n",
      "  return 22.5 - 2.5*np.log10(input_flux)\n"
     ]
    },
    {
     "name": "stdout",
     "output_type": "stream",
     "text": [
      "\n",
      "Querying ViZieR for host galaxy data via 2MASS...\n",
      "\n",
      "\n",
      "Querying Legacy Survey for host galaxy data...\n",
      "\n",
      "\n",
      "Querying ViZieR for host galaxy data via GALEX...\n",
      "\n",
      "\n",
      "Querying PS1 for host galaxy data...\n",
      "\n"
     ]
    },
    {
     "name": "stderr",
     "output_type": "stream",
     "text": [
      "/var/folders/x7/yl76x1s54ml4dckx50h4dfm9mztcwv/T/ipykernel_68053/4101882693.py:46: SettingWithCopyWarning: \n",
      "A value is trying to be set on a copy of a slice from a DataFrame\n",
      "\n",
      "See the caveats in the documentation: https://pandas.pydata.org/pandas-docs/stable/user_guide/indexing.html#returning-a-view-versus-a-copy\n",
      "  closest_match_df.drop(columns=['Ra', 'Dec'], axis=1, inplace=True)\n",
      "/Users/pxr754/opt/anaconda3/lib/python3.9/site-packages/extinctions/reddening.py:53: YAMLLoadWarning: calling yaml.load() without Loader=... is deprecated, as the default Loader is unsafe. Please read https://msg.pyyaml.org/load for full details.\n",
      "  self.maps = yaml.load(open(pmap))\n",
      "WARNING: AstropyDeprecationWarning: \"verbose\" was deprecated in version 1.15.0 and will be removed in a future version.  [extinctions.reddening]\n"
     ]
    },
    {
     "name": "stdout",
     "output_type": "stream",
     "text": [
      "Collection Notes Compiled for NGC4486A.\n",
      "INFO: Loading the maps from /Users/pxr754/.extinction/maps//maps.yaml\n",
      " -  sfd is loaded\n",
      "\n",
      "Querying SDSS for host galaxy data...\n",
      "\n",
      "\n",
      "Querying PS1 for host galaxy data...\n",
      "\n",
      "\n",
      "Querying ViZieR for host galaxy data via 2MASS...\n",
      "\n",
      "\n",
      "Querying Legacy Survey for host galaxy data...\n",
      "\n",
      "\n",
      "Querying ViZieR for host galaxy data via GALEX...\n",
      "\n",
      "Raw Data Collected for NGC4649.\n",
      "\n",
      "Querying SDSS for host galaxy data...\n",
      "\n",
      "\n",
      "Querying PS1 for host galaxy data...\n",
      "\n",
      "\n",
      "Querying ViZieR for host galaxy data via 2MASS...\n",
      "\n",
      "\n",
      "Querying Legacy Survey for host galaxy data...\n",
      "\n",
      "\n",
      "Querying ViZieR for host galaxy data via GALEX...\n",
      "\n",
      "\n",
      "Querying PS1 for host galaxy data...\n",
      "\n",
      "Collection Notes Compiled for NGC4649.\n",
      "INFO: Loading the maps from /Users/pxr754/.extinction/maps//maps.yaml\n",
      " -  sfd is loaded\n"
     ]
    },
    {
     "name": "stderr",
     "output_type": "stream",
     "text": [
      "/Users/pxr754/opt/anaconda3/lib/python3.9/site-packages/extinctions/reddening.py:53: YAMLLoadWarning: calling yaml.load() without Loader=... is deprecated, as the default Loader is unsafe. Please read https://msg.pyyaml.org/load for full details.\n",
      "  self.maps = yaml.load(open(pmap))\n",
      "WARNING: AstropyDeprecationWarning: \"verbose\" was deprecated in version 1.15.0 and will be removed in a future version.  [extinctions.reddening]\n"
     ]
    },
    {
     "name": "stdout",
     "output_type": "stream",
     "text": [
      "\n",
      "Querying SDSS for host galaxy data...\n",
      "\n",
      "\n",
      "Querying PS1 for host galaxy data...\n",
      "\n",
      "\n",
      "Querying ViZieR for host galaxy data via 2MASS...\n",
      "\n",
      "\n",
      "Querying Legacy Survey for host galaxy data...\n",
      "\n",
      "\n",
      "Querying ViZieR for host galaxy data via GALEX...\n",
      "\n",
      "Raw Data Collected for NGC4697.\n"
     ]
    },
    {
     "name": "stderr",
     "output_type": "stream",
     "text": [
      "/var/folders/x7/yl76x1s54ml4dckx50h4dfm9mztcwv/T/ipykernel_68053/3868000565.py:13: RuntimeWarning: invalid value encountered in log10\n",
      "  return 22.5 - 2.5*np.log10(input_flux)\n"
     ]
    },
    {
     "name": "stdout",
     "output_type": "stream",
     "text": [
      "\n",
      "Querying SDSS for host galaxy data...\n",
      "\n",
      "\n",
      "Querying PS1 for host galaxy data...\n",
      "\n",
      "\n",
      "Querying ViZieR for host galaxy data via 2MASS...\n",
      "\n",
      "\n",
      "Querying Legacy Survey for host galaxy data...\n",
      "\n",
      "\n",
      "Querying ViZieR for host galaxy data via GALEX...\n",
      "\n",
      "\n",
      "Querying PS1 for host galaxy data...\n",
      "\n"
     ]
    },
    {
     "name": "stderr",
     "output_type": "stream",
     "text": [
      "/var/folders/x7/yl76x1s54ml4dckx50h4dfm9mztcwv/T/ipykernel_68053/3868000565.py:13: RuntimeWarning: invalid value encountered in log10\n",
      "  return 22.5 - 2.5*np.log10(input_flux)\n"
     ]
    },
    {
     "name": "stdout",
     "output_type": "stream",
     "text": [
      "Collection Notes Compiled for NGC4697.\n",
      "INFO: Loading the maps from /Users/pxr754/.extinction/maps//maps.yaml\n",
      " -  sfd is loaded\n"
     ]
    },
    {
     "name": "stderr",
     "output_type": "stream",
     "text": [
      "/Users/pxr754/opt/anaconda3/lib/python3.9/site-packages/extinctions/reddening.py:53: YAMLLoadWarning: calling yaml.load() without Loader=... is deprecated, as the default Loader is unsafe. Please read https://msg.pyyaml.org/load for full details.\n",
      "  self.maps = yaml.load(open(pmap))\n",
      "WARNING: AstropyDeprecationWarning: \"verbose\" was deprecated in version 1.15.0 and will be removed in a future version.  [extinctions.reddening]\n"
     ]
    },
    {
     "name": "stdout",
     "output_type": "stream",
     "text": [
      "\n",
      "Querying SDSS for host galaxy data...\n",
      "\n",
      "\n",
      "Querying PS1 for host galaxy data...\n",
      "\n",
      "\n",
      "Querying ViZieR for host galaxy data via 2MASS...\n",
      "\n",
      "\n",
      "Querying Legacy Survey for host galaxy data...\n",
      "\n",
      "\n",
      "Querying ViZieR for host galaxy data via GALEX...\n",
      "\n",
      "Raw Data Collected for NGC4751.\n",
      "\n",
      "Querying SDSS for host galaxy data...\n",
      "\n",
      "\n",
      "Querying PS1 for host galaxy data...\n",
      "\n",
      "\n",
      "Querying ViZieR for host galaxy data via 2MASS...\n",
      "\n",
      "\n",
      "Querying Legacy Survey for host galaxy data...\n",
      "\n",
      "\n",
      "Querying ViZieR for host galaxy data via GALEX...\n",
      "\n",
      "\n",
      "Querying PS1 for host galaxy data...\n",
      "\n",
      "Collection Notes Compiled for NGC4751.\n",
      "INFO: Loading the maps from /Users/pxr754/.extinction/maps//maps.yaml\n"
     ]
    },
    {
     "name": "stderr",
     "output_type": "stream",
     "text": [
      "/Users/pxr754/opt/anaconda3/lib/python3.9/site-packages/extinctions/reddening.py:53: YAMLLoadWarning: calling yaml.load() without Loader=... is deprecated, as the default Loader is unsafe. Please read https://msg.pyyaml.org/load for full details.\n",
      "  self.maps = yaml.load(open(pmap))\n",
      "WARNING: AstropyDeprecationWarning: \"verbose\" was deprecated in version 1.15.0 and will be removed in a future version.  [extinctions.reddening]\n"
     ]
    },
    {
     "name": "stdout",
     "output_type": "stream",
     "text": [
      " -  sfd is loaded\n",
      "\n",
      "Querying SDSS for host galaxy data...\n",
      "\n",
      "\n",
      "Querying PS1 for host galaxy data...\n",
      "\n"
     ]
    },
    {
     "name": "stderr",
     "output_type": "stream",
     "text": [
      "/var/folders/x7/yl76x1s54ml4dckx50h4dfm9mztcwv/T/ipykernel_68053/4101882693.py:46: SettingWithCopyWarning: \n",
      "A value is trying to be set on a copy of a slice from a DataFrame\n",
      "\n",
      "See the caveats in the documentation: https://pandas.pydata.org/pandas-docs/stable/user_guide/indexing.html#returning-a-view-versus-a-copy\n",
      "  closest_match_df.drop(columns=['Ra', 'Dec'], axis=1, inplace=True)\n",
      "/var/folders/x7/yl76x1s54ml4dckx50h4dfm9mztcwv/T/ipykernel_68053/3868000565.py:13: RuntimeWarning: divide by zero encountered in log10\n",
      "  return 22.5 - 2.5*np.log10(input_flux)\n",
      "/var/folders/x7/yl76x1s54ml4dckx50h4dfm9mztcwv/T/ipykernel_68053/3868000565.py:52: RuntimeWarning: divide by zero encountered in divide\n",
      "  flux_error = 1./np.sqrt(hdu_data[field][idx])\n"
     ]
    },
    {
     "name": "stdout",
     "output_type": "stream",
     "text": [
      "\n",
      "Querying ViZieR for host galaxy data via 2MASS...\n",
      "\n",
      "\n",
      "Querying Legacy Survey for host galaxy data...\n",
      "\n",
      "\n",
      "Querying ViZieR for host galaxy data via GALEX...\n",
      "\n",
      "Raw Data Collected for NGC5077.\n",
      "\n",
      "Querying SDSS for host galaxy data...\n",
      "\n",
      "\n",
      "Querying PS1 for host galaxy data...\n",
      "\n"
     ]
    },
    {
     "name": "stderr",
     "output_type": "stream",
     "text": [
      "/var/folders/x7/yl76x1s54ml4dckx50h4dfm9mztcwv/T/ipykernel_68053/4101882693.py:46: SettingWithCopyWarning: \n",
      "A value is trying to be set on a copy of a slice from a DataFrame\n",
      "\n",
      "See the caveats in the documentation: https://pandas.pydata.org/pandas-docs/stable/user_guide/indexing.html#returning-a-view-versus-a-copy\n",
      "  closest_match_df.drop(columns=['Ra', 'Dec'], axis=1, inplace=True)\n",
      "/var/folders/x7/yl76x1s54ml4dckx50h4dfm9mztcwv/T/ipykernel_68053/3868000565.py:13: RuntimeWarning: divide by zero encountered in log10\n",
      "  return 22.5 - 2.5*np.log10(input_flux)\n",
      "/var/folders/x7/yl76x1s54ml4dckx50h4dfm9mztcwv/T/ipykernel_68053/3868000565.py:52: RuntimeWarning: divide by zero encountered in divide\n",
      "  flux_error = 1./np.sqrt(hdu_data[field][idx])\n"
     ]
    },
    {
     "name": "stdout",
     "output_type": "stream",
     "text": [
      "\n",
      "Querying ViZieR for host galaxy data via 2MASS...\n",
      "\n",
      "\n",
      "Querying Legacy Survey for host galaxy data...\n",
      "\n",
      "\n",
      "Querying ViZieR for host galaxy data via GALEX...\n",
      "\n",
      "\n",
      "Querying PS1 for host galaxy data...\n",
      "\n"
     ]
    },
    {
     "name": "stderr",
     "output_type": "stream",
     "text": [
      "/var/folders/x7/yl76x1s54ml4dckx50h4dfm9mztcwv/T/ipykernel_68053/4101882693.py:46: SettingWithCopyWarning: \n",
      "A value is trying to be set on a copy of a slice from a DataFrame\n",
      "\n",
      "See the caveats in the documentation: https://pandas.pydata.org/pandas-docs/stable/user_guide/indexing.html#returning-a-view-versus-a-copy\n",
      "  closest_match_df.drop(columns=['Ra', 'Dec'], axis=1, inplace=True)\n",
      "/Users/pxr754/opt/anaconda3/lib/python3.9/site-packages/extinctions/reddening.py:53: YAMLLoadWarning: calling yaml.load() without Loader=... is deprecated, as the default Loader is unsafe. Please read https://msg.pyyaml.org/load for full details.\n",
      "  self.maps = yaml.load(open(pmap))\n",
      "WARNING: AstropyDeprecationWarning: \"verbose\" was deprecated in version 1.15.0 and will be removed in a future version.  [extinctions.reddening]\n"
     ]
    },
    {
     "name": "stdout",
     "output_type": "stream",
     "text": [
      "Collection Notes Compiled for NGC5077.\n",
      "INFO: Loading the maps from /Users/pxr754/.extinction/maps//maps.yaml\n",
      " -  sfd is loaded\n",
      "\n",
      "Querying SDSS for host galaxy data...\n",
      "\n",
      "\n",
      "Querying PS1 for host galaxy data...\n",
      "\n",
      "\n",
      "Querying ViZieR for host galaxy data via 2MASS...\n",
      "\n",
      "\n",
      "Querying Legacy Survey for host galaxy data...\n",
      "\n",
      "\n",
      "Querying ViZieR for host galaxy data via GALEX...\n",
      "\n",
      "Raw Data Collected for NGC5516.\n",
      "\n",
      "Querying SDSS for host galaxy data...\n",
      "\n",
      "\n",
      "Querying PS1 for host galaxy data...\n",
      "\n",
      "\n",
      "Querying ViZieR for host galaxy data via 2MASS...\n",
      "\n",
      "\n",
      "Querying Legacy Survey for host galaxy data...\n",
      "\n",
      "\n",
      "Querying ViZieR for host galaxy data via GALEX...\n",
      "\n",
      "\n",
      "Querying PS1 for host galaxy data...\n",
      "\n",
      "Collection Notes Compiled for NGC5516.\n",
      "INFO: Loading the maps from /Users/pxr754/.extinction/maps//maps.yaml\n",
      " -  sfd is loaded\n"
     ]
    },
    {
     "name": "stderr",
     "output_type": "stream",
     "text": [
      "/Users/pxr754/opt/anaconda3/lib/python3.9/site-packages/extinctions/reddening.py:53: YAMLLoadWarning: calling yaml.load() without Loader=... is deprecated, as the default Loader is unsafe. Please read https://msg.pyyaml.org/load for full details.\n",
      "  self.maps = yaml.load(open(pmap))\n",
      "WARNING: AstropyDeprecationWarning: \"verbose\" was deprecated in version 1.15.0 and will be removed in a future version.  [extinctions.reddening]\n"
     ]
    },
    {
     "name": "stdout",
     "output_type": "stream",
     "text": [
      "\n",
      "Querying SDSS for host galaxy data...\n",
      "\n",
      "\n",
      "Querying PS1 for host galaxy data...\n",
      "\n"
     ]
    },
    {
     "name": "stderr",
     "output_type": "stream",
     "text": [
      "/var/folders/x7/yl76x1s54ml4dckx50h4dfm9mztcwv/T/ipykernel_68053/4101882693.py:46: SettingWithCopyWarning: \n",
      "A value is trying to be set on a copy of a slice from a DataFrame\n",
      "\n",
      "See the caveats in the documentation: https://pandas.pydata.org/pandas-docs/stable/user_guide/indexing.html#returning-a-view-versus-a-copy\n",
      "  closest_match_df.drop(columns=['Ra', 'Dec'], axis=1, inplace=True)\n"
     ]
    },
    {
     "name": "stdout",
     "output_type": "stream",
     "text": [
      "\n",
      "Querying ViZieR for host galaxy data via 2MASS...\n",
      "\n",
      "\n",
      "Querying Legacy Survey for host galaxy data...\n",
      "\n",
      "\n",
      "Querying ViZieR for host galaxy data via GALEX...\n",
      "\n",
      "Raw Data Collected for NGC5576.\n",
      "\n",
      "Querying SDSS for host galaxy data...\n",
      "\n",
      "\n",
      "Querying PS1 for host galaxy data...\n",
      "\n"
     ]
    },
    {
     "name": "stderr",
     "output_type": "stream",
     "text": [
      "/var/folders/x7/yl76x1s54ml4dckx50h4dfm9mztcwv/T/ipykernel_68053/4101882693.py:46: SettingWithCopyWarning: \n",
      "A value is trying to be set on a copy of a slice from a DataFrame\n",
      "\n",
      "See the caveats in the documentation: https://pandas.pydata.org/pandas-docs/stable/user_guide/indexing.html#returning-a-view-versus-a-copy\n",
      "  closest_match_df.drop(columns=['Ra', 'Dec'], axis=1, inplace=True)\n"
     ]
    },
    {
     "name": "stdout",
     "output_type": "stream",
     "text": [
      "\n",
      "Querying ViZieR for host galaxy data via 2MASS...\n",
      "\n",
      "\n",
      "Querying Legacy Survey for host galaxy data...\n",
      "\n",
      "\n",
      "Querying ViZieR for host galaxy data via GALEX...\n",
      "\n",
      "\n",
      "Querying PS1 for host galaxy data...\n",
      "\n"
     ]
    },
    {
     "name": "stderr",
     "output_type": "stream",
     "text": [
      "/var/folders/x7/yl76x1s54ml4dckx50h4dfm9mztcwv/T/ipykernel_68053/4101882693.py:46: SettingWithCopyWarning: \n",
      "A value is trying to be set on a copy of a slice from a DataFrame\n",
      "\n",
      "See the caveats in the documentation: https://pandas.pydata.org/pandas-docs/stable/user_guide/indexing.html#returning-a-view-versus-a-copy\n",
      "  closest_match_df.drop(columns=['Ra', 'Dec'], axis=1, inplace=True)\n",
      "/Users/pxr754/opt/anaconda3/lib/python3.9/site-packages/extinctions/reddening.py:53: YAMLLoadWarning: calling yaml.load() without Loader=... is deprecated, as the default Loader is unsafe. Please read https://msg.pyyaml.org/load for full details.\n",
      "  self.maps = yaml.load(open(pmap))\n",
      "WARNING: AstropyDeprecationWarning: \"verbose\" was deprecated in version 1.15.0 and will be removed in a future version.  [extinctions.reddening]\n"
     ]
    },
    {
     "name": "stdout",
     "output_type": "stream",
     "text": [
      "Collection Notes Compiled for NGC5576.\n",
      "INFO: Loading the maps from /Users/pxr754/.extinction/maps//maps.yaml\n",
      " -  sfd is loaded\n",
      "\n",
      "Querying SDSS for host galaxy data...\n",
      "\n",
      "\n",
      "Querying PS1 for host galaxy data...\n",
      "\n",
      "\n",
      "Querying ViZieR for host galaxy data via 2MASS...\n",
      "\n",
      "\n",
      "Querying Legacy Survey for host galaxy data...\n",
      "\n",
      "\n",
      "Querying ViZieR for host galaxy data via GALEX...\n",
      "\n",
      "Raw Data Collected for NGC5845.\n",
      "\n",
      "Querying SDSS for host galaxy data...\n",
      "\n",
      "\n",
      "Querying PS1 for host galaxy data...\n",
      "\n",
      "\n",
      "Querying ViZieR for host galaxy data via 2MASS...\n",
      "\n",
      "\n",
      "Querying Legacy Survey for host galaxy data...\n",
      "\n",
      "\n",
      "Querying ViZieR for host galaxy data via GALEX...\n",
      "\n",
      "\n",
      "Querying PS1 for host galaxy data...\n",
      "\n",
      "Collection Notes Compiled for NGC5845.\n",
      "INFO: Loading the maps from /Users/pxr754/.extinction/maps//maps.yaml\n"
     ]
    },
    {
     "name": "stderr",
     "output_type": "stream",
     "text": [
      "/Users/pxr754/opt/anaconda3/lib/python3.9/site-packages/extinctions/reddening.py:53: YAMLLoadWarning: calling yaml.load() without Loader=... is deprecated, as the default Loader is unsafe. Please read https://msg.pyyaml.org/load for full details.\n",
      "  self.maps = yaml.load(open(pmap))\n",
      "WARNING: AstropyDeprecationWarning: \"verbose\" was deprecated in version 1.15.0 and will be removed in a future version.  [extinctions.reddening]\n"
     ]
    },
    {
     "name": "stdout",
     "output_type": "stream",
     "text": [
      " -  sfd is loaded\n",
      "\n",
      "Querying SDSS for host galaxy data...\n",
      "\n",
      "\n",
      "Querying PS1 for host galaxy data...\n",
      "\n"
     ]
    },
    {
     "name": "stderr",
     "output_type": "stream",
     "text": [
      "/var/folders/x7/yl76x1s54ml4dckx50h4dfm9mztcwv/T/ipykernel_68053/4101882693.py:46: SettingWithCopyWarning: \n",
      "A value is trying to be set on a copy of a slice from a DataFrame\n",
      "\n",
      "See the caveats in the documentation: https://pandas.pydata.org/pandas-docs/stable/user_guide/indexing.html#returning-a-view-versus-a-copy\n",
      "  closest_match_df.drop(columns=['Ra', 'Dec'], axis=1, inplace=True)\n"
     ]
    },
    {
     "name": "stdout",
     "output_type": "stream",
     "text": [
      "\n",
      "Querying ViZieR for host galaxy data via 2MASS...\n",
      "\n",
      "\n",
      "Querying Legacy Survey for host galaxy data...\n",
      "\n",
      "\n",
      "Querying ViZieR for host galaxy data via GALEX...\n",
      "\n",
      "Raw Data Collected for NGC6086.\n",
      "\n",
      "Querying SDSS for host galaxy data...\n",
      "\n",
      "\n",
      "Querying PS1 for host galaxy data...\n",
      "\n"
     ]
    },
    {
     "name": "stderr",
     "output_type": "stream",
     "text": [
      "/var/folders/x7/yl76x1s54ml4dckx50h4dfm9mztcwv/T/ipykernel_68053/4101882693.py:46: SettingWithCopyWarning: \n",
      "A value is trying to be set on a copy of a slice from a DataFrame\n",
      "\n",
      "See the caveats in the documentation: https://pandas.pydata.org/pandas-docs/stable/user_guide/indexing.html#returning-a-view-versus-a-copy\n",
      "  closest_match_df.drop(columns=['Ra', 'Dec'], axis=1, inplace=True)\n"
     ]
    },
    {
     "name": "stdout",
     "output_type": "stream",
     "text": [
      "\n",
      "Querying ViZieR for host galaxy data via 2MASS...\n",
      "\n",
      "\n",
      "Querying Legacy Survey for host galaxy data...\n",
      "\n",
      "\n",
      "Querying ViZieR for host galaxy data via GALEX...\n",
      "\n",
      "\n",
      "Querying PS1 for host galaxy data...\n",
      "\n"
     ]
    },
    {
     "name": "stderr",
     "output_type": "stream",
     "text": [
      "/var/folders/x7/yl76x1s54ml4dckx50h4dfm9mztcwv/T/ipykernel_68053/4101882693.py:46: SettingWithCopyWarning: \n",
      "A value is trying to be set on a copy of a slice from a DataFrame\n",
      "\n",
      "See the caveats in the documentation: https://pandas.pydata.org/pandas-docs/stable/user_guide/indexing.html#returning-a-view-versus-a-copy\n",
      "  closest_match_df.drop(columns=['Ra', 'Dec'], axis=1, inplace=True)\n",
      "/Users/pxr754/opt/anaconda3/lib/python3.9/site-packages/extinctions/reddening.py:53: YAMLLoadWarning: calling yaml.load() without Loader=... is deprecated, as the default Loader is unsafe. Please read https://msg.pyyaml.org/load for full details.\n",
      "  self.maps = yaml.load(open(pmap))\n",
      "WARNING: AstropyDeprecationWarning: \"verbose\" was deprecated in version 1.15.0 and will be removed in a future version.  [extinctions.reddening]\n"
     ]
    },
    {
     "name": "stdout",
     "output_type": "stream",
     "text": [
      "Collection Notes Compiled for NGC6086.\n",
      "INFO: Loading the maps from /Users/pxr754/.extinction/maps//maps.yaml\n",
      " -  sfd is loaded\n",
      "\n",
      "Querying SDSS for host galaxy data...\n",
      "\n",
      "\n",
      "Querying PS1 for host galaxy data...\n",
      "\n",
      "\n",
      "Querying ViZieR for host galaxy data via 2MASS...\n",
      "\n",
      "\n",
      "Querying Legacy Survey for host galaxy data...\n",
      "\n",
      "\n",
      "Querying ViZieR for host galaxy data via GALEX...\n",
      "\n",
      "Raw Data Collected for NGC6861.\n",
      "\n",
      "Querying SDSS for host galaxy data...\n",
      "\n",
      "\n",
      "Querying PS1 for host galaxy data...\n",
      "\n",
      "\n",
      "Querying ViZieR for host galaxy data via 2MASS...\n",
      "\n",
      "\n",
      "Querying Legacy Survey for host galaxy data...\n",
      "\n",
      "\n",
      "Querying ViZieR for host galaxy data via GALEX...\n",
      "\n",
      "\n",
      "Querying PS1 for host galaxy data...\n",
      "\n",
      "Collection Notes Compiled for NGC6861.\n",
      "INFO: Loading the maps from /Users/pxr754/.extinction/maps//maps.yaml\n"
     ]
    },
    {
     "name": "stderr",
     "output_type": "stream",
     "text": [
      "/Users/pxr754/opt/anaconda3/lib/python3.9/site-packages/extinctions/reddening.py:53: YAMLLoadWarning: calling yaml.load() without Loader=... is deprecated, as the default Loader is unsafe. Please read https://msg.pyyaml.org/load for full details.\n",
      "  self.maps = yaml.load(open(pmap))\n",
      "WARNING: AstropyDeprecationWarning: \"verbose\" was deprecated in version 1.15.0 and will be removed in a future version.  [extinctions.reddening]\n"
     ]
    },
    {
     "name": "stdout",
     "output_type": "stream",
     "text": [
      " -  sfd is loaded\n",
      "\n",
      "Querying SDSS for host galaxy data...\n",
      "\n",
      "\n",
      "Querying PS1 for host galaxy data...\n",
      "\n",
      "\n",
      "Querying ViZieR for host galaxy data via 2MASS...\n",
      "\n",
      "\n",
      "Querying Legacy Survey for host galaxy data...\n",
      "\n",
      "\n",
      "Querying ViZieR for host galaxy data via GALEX...\n",
      "\n",
      "Raw Data Collected for NGC7619.\n"
     ]
    },
    {
     "name": "stderr",
     "output_type": "stream",
     "text": [
      "/var/folders/x7/yl76x1s54ml4dckx50h4dfm9mztcwv/T/ipykernel_68053/3868000565.py:13: RuntimeWarning: divide by zero encountered in log10\n",
      "  return 22.5 - 2.5*np.log10(input_flux)\n",
      "/var/folders/x7/yl76x1s54ml4dckx50h4dfm9mztcwv/T/ipykernel_68053/3868000565.py:52: RuntimeWarning: divide by zero encountered in divide\n",
      "  flux_error = 1./np.sqrt(hdu_data[field][idx])\n"
     ]
    },
    {
     "name": "stdout",
     "output_type": "stream",
     "text": [
      "\n",
      "Querying SDSS for host galaxy data...\n",
      "\n",
      "\n",
      "Querying PS1 for host galaxy data...\n",
      "\n",
      "\n",
      "Querying ViZieR for host galaxy data via 2MASS...\n",
      "\n",
      "\n",
      "Querying Legacy Survey for host galaxy data...\n",
      "\n",
      "\n",
      "Querying ViZieR for host galaxy data via GALEX...\n",
      "\n",
      "\n",
      "Querying PS1 for host galaxy data...\n",
      "\n"
     ]
    },
    {
     "name": "stderr",
     "output_type": "stream",
     "text": [
      "/var/folders/x7/yl76x1s54ml4dckx50h4dfm9mztcwv/T/ipykernel_68053/3868000565.py:13: RuntimeWarning: divide by zero encountered in log10\n",
      "  return 22.5 - 2.5*np.log10(input_flux)\n",
      "/var/folders/x7/yl76x1s54ml4dckx50h4dfm9mztcwv/T/ipykernel_68053/3868000565.py:52: RuntimeWarning: divide by zero encountered in divide\n",
      "  flux_error = 1./np.sqrt(hdu_data[field][idx])\n"
     ]
    },
    {
     "name": "stdout",
     "output_type": "stream",
     "text": [
      "Collection Notes Compiled for NGC7619.\n",
      "INFO: Loading the maps from /Users/pxr754/.extinction/maps//maps.yaml\n"
     ]
    },
    {
     "name": "stderr",
     "output_type": "stream",
     "text": [
      "/Users/pxr754/opt/anaconda3/lib/python3.9/site-packages/extinctions/reddening.py:53: YAMLLoadWarning: calling yaml.load() without Loader=... is deprecated, as the default Loader is unsafe. Please read https://msg.pyyaml.org/load for full details.\n",
      "  self.maps = yaml.load(open(pmap))\n",
      "WARNING: AstropyDeprecationWarning: \"verbose\" was deprecated in version 1.15.0 and will be removed in a future version.  [extinctions.reddening]\n"
     ]
    },
    {
     "name": "stdout",
     "output_type": "stream",
     "text": [
      " -  sfd is loaded\n",
      "\n",
      "Querying SDSS for host galaxy data...\n",
      "\n",
      "\n",
      "Querying PS1 for host galaxy data...\n",
      "\n"
     ]
    },
    {
     "name": "stderr",
     "output_type": "stream",
     "text": [
      "/var/folders/x7/yl76x1s54ml4dckx50h4dfm9mztcwv/T/ipykernel_68053/4101882693.py:46: SettingWithCopyWarning: \n",
      "A value is trying to be set on a copy of a slice from a DataFrame\n",
      "\n",
      "See the caveats in the documentation: https://pandas.pydata.org/pandas-docs/stable/user_guide/indexing.html#returning-a-view-versus-a-copy\n",
      "  closest_match_df.drop(columns=['Ra', 'Dec'], axis=1, inplace=True)\n",
      "/var/folders/x7/yl76x1s54ml4dckx50h4dfm9mztcwv/T/ipykernel_68053/3868000565.py:13: RuntimeWarning: divide by zero encountered in log10\n",
      "  return 22.5 - 2.5*np.log10(input_flux)\n",
      "/var/folders/x7/yl76x1s54ml4dckx50h4dfm9mztcwv/T/ipykernel_68053/3868000565.py:52: RuntimeWarning: divide by zero encountered in divide\n",
      "  flux_error = 1./np.sqrt(hdu_data[field][idx])\n"
     ]
    },
    {
     "name": "stdout",
     "output_type": "stream",
     "text": [
      "\n",
      "Querying ViZieR for host galaxy data via 2MASS...\n",
      "\n",
      "\n",
      "Querying Legacy Survey for host galaxy data...\n",
      "\n",
      "\n",
      "Querying ViZieR for host galaxy data via GALEX...\n",
      "\n",
      "Raw Data Collected for NGC7768.\n",
      "\n",
      "Querying SDSS for host galaxy data...\n",
      "\n",
      "\n",
      "Querying PS1 for host galaxy data...\n",
      "\n"
     ]
    },
    {
     "name": "stderr",
     "output_type": "stream",
     "text": [
      "/var/folders/x7/yl76x1s54ml4dckx50h4dfm9mztcwv/T/ipykernel_68053/4101882693.py:46: SettingWithCopyWarning: \n",
      "A value is trying to be set on a copy of a slice from a DataFrame\n",
      "\n",
      "See the caveats in the documentation: https://pandas.pydata.org/pandas-docs/stable/user_guide/indexing.html#returning-a-view-versus-a-copy\n",
      "  closest_match_df.drop(columns=['Ra', 'Dec'], axis=1, inplace=True)\n",
      "/var/folders/x7/yl76x1s54ml4dckx50h4dfm9mztcwv/T/ipykernel_68053/3868000565.py:13: RuntimeWarning: divide by zero encountered in log10\n",
      "  return 22.5 - 2.5*np.log10(input_flux)\n",
      "/var/folders/x7/yl76x1s54ml4dckx50h4dfm9mztcwv/T/ipykernel_68053/3868000565.py:52: RuntimeWarning: divide by zero encountered in divide\n",
      "  flux_error = 1./np.sqrt(hdu_data[field][idx])\n"
     ]
    },
    {
     "name": "stdout",
     "output_type": "stream",
     "text": [
      "\n",
      "Querying ViZieR for host galaxy data via 2MASS...\n",
      "\n",
      "\n",
      "Querying Legacy Survey for host galaxy data...\n",
      "\n",
      "\n",
      "Querying ViZieR for host galaxy data via GALEX...\n",
      "\n",
      "\n",
      "Querying PS1 for host galaxy data...\n",
      "\n"
     ]
    },
    {
     "name": "stderr",
     "output_type": "stream",
     "text": [
      "/var/folders/x7/yl76x1s54ml4dckx50h4dfm9mztcwv/T/ipykernel_68053/4101882693.py:46: SettingWithCopyWarning: \n",
      "A value is trying to be set on a copy of a slice from a DataFrame\n",
      "\n",
      "See the caveats in the documentation: https://pandas.pydata.org/pandas-docs/stable/user_guide/indexing.html#returning-a-view-versus-a-copy\n",
      "  closest_match_df.drop(columns=['Ra', 'Dec'], axis=1, inplace=True)\n",
      "/Users/pxr754/opt/anaconda3/lib/python3.9/site-packages/extinctions/reddening.py:53: YAMLLoadWarning: calling yaml.load() without Loader=... is deprecated, as the default Loader is unsafe. Please read https://msg.pyyaml.org/load for full details.\n",
      "  self.maps = yaml.load(open(pmap))\n",
      "WARNING: AstropyDeprecationWarning: \"verbose\" was deprecated in version 1.15.0 and will be removed in a future version.  [extinctions.reddening]\n"
     ]
    },
    {
     "name": "stdout",
     "output_type": "stream",
     "text": [
      "Collection Notes Compiled for NGC7768.\n",
      "INFO: Loading the maps from /Users/pxr754/.extinction/maps//maps.yaml\n",
      " -  sfd is loaded\n",
      "\n",
      "Querying SDSS for host galaxy data...\n",
      "\n",
      "\n",
      "Querying PS1 for host galaxy data...\n",
      "\n",
      "\n",
      "Querying ViZieR for host galaxy data via 2MASS...\n",
      "\n",
      "\n",
      "Querying Legacy Survey for host galaxy data...\n",
      "\n",
      "\n",
      "Querying ViZieR for host galaxy data via GALEX...\n",
      "\n",
      "Raw Data Collected for IC1459.\n",
      "\n",
      "Querying SDSS for host galaxy data...\n",
      "\n",
      "\n",
      "Querying PS1 for host galaxy data...\n",
      "\n",
      "\n",
      "Querying ViZieR for host galaxy data via 2MASS...\n",
      "\n",
      "\n",
      "Querying Legacy Survey for host galaxy data...\n",
      "\n",
      "\n",
      "Querying ViZieR for host galaxy data via GALEX...\n",
      "\n",
      "\n",
      "Querying PS1 for host galaxy data...\n",
      "\n",
      "Collection Notes Compiled for IC1459.\n",
      "INFO: Loading the maps from /Users/pxr754/.extinction/maps//maps.yaml\n"
     ]
    },
    {
     "name": "stderr",
     "output_type": "stream",
     "text": [
      "/Users/pxr754/opt/anaconda3/lib/python3.9/site-packages/extinctions/reddening.py:53: YAMLLoadWarning: calling yaml.load() without Loader=... is deprecated, as the default Loader is unsafe. Please read https://msg.pyyaml.org/load for full details.\n",
      "  self.maps = yaml.load(open(pmap))\n",
      "WARNING: AstropyDeprecationWarning: \"verbose\" was deprecated in version 1.15.0 and will be removed in a future version.  [extinctions.reddening]\n"
     ]
    },
    {
     "name": "stdout",
     "output_type": "stream",
     "text": [
      " -  sfd is loaded\n",
      "\n",
      "Querying SDSS for host galaxy data...\n",
      "\n",
      "\n",
      "Querying PS1 for host galaxy data...\n",
      "\n"
     ]
    },
    {
     "name": "stderr",
     "output_type": "stream",
     "text": [
      "/var/folders/x7/yl76x1s54ml4dckx50h4dfm9mztcwv/T/ipykernel_68053/4101882693.py:46: SettingWithCopyWarning: \n",
      "A value is trying to be set on a copy of a slice from a DataFrame\n",
      "\n",
      "See the caveats in the documentation: https://pandas.pydata.org/pandas-docs/stable/user_guide/indexing.html#returning-a-view-versus-a-copy\n",
      "  closest_match_df.drop(columns=['Ra', 'Dec'], axis=1, inplace=True)\n",
      "/var/folders/x7/yl76x1s54ml4dckx50h4dfm9mztcwv/T/ipykernel_68053/3868000565.py:13: RuntimeWarning: divide by zero encountered in log10\n",
      "  return 22.5 - 2.5*np.log10(input_flux)\n",
      "/var/folders/x7/yl76x1s54ml4dckx50h4dfm9mztcwv/T/ipykernel_68053/3868000565.py:52: RuntimeWarning: divide by zero encountered in divide\n",
      "  flux_error = 1./np.sqrt(hdu_data[field][idx])\n"
     ]
    },
    {
     "name": "stdout",
     "output_type": "stream",
     "text": [
      "\n",
      "Querying ViZieR for host galaxy data via 2MASS...\n",
      "\n",
      "\n",
      "Querying Legacy Survey for host galaxy data...\n",
      "\n",
      "\n",
      "Querying ViZieR for host galaxy data via GALEX...\n",
      "\n",
      "Raw Data Collected for NGC524.\n",
      "\n",
      "Querying SDSS for host galaxy data...\n",
      "\n",
      "\n",
      "Querying PS1 for host galaxy data...\n",
      "\n"
     ]
    },
    {
     "name": "stderr",
     "output_type": "stream",
     "text": [
      "/var/folders/x7/yl76x1s54ml4dckx50h4dfm9mztcwv/T/ipykernel_68053/4101882693.py:46: SettingWithCopyWarning: \n",
      "A value is trying to be set on a copy of a slice from a DataFrame\n",
      "\n",
      "See the caveats in the documentation: https://pandas.pydata.org/pandas-docs/stable/user_guide/indexing.html#returning-a-view-versus-a-copy\n",
      "  closest_match_df.drop(columns=['Ra', 'Dec'], axis=1, inplace=True)\n",
      "/var/folders/x7/yl76x1s54ml4dckx50h4dfm9mztcwv/T/ipykernel_68053/3868000565.py:13: RuntimeWarning: divide by zero encountered in log10\n",
      "  return 22.5 - 2.5*np.log10(input_flux)\n",
      "/var/folders/x7/yl76x1s54ml4dckx50h4dfm9mztcwv/T/ipykernel_68053/3868000565.py:52: RuntimeWarning: divide by zero encountered in divide\n",
      "  flux_error = 1./np.sqrt(hdu_data[field][idx])\n"
     ]
    },
    {
     "name": "stdout",
     "output_type": "stream",
     "text": [
      "\n",
      "Querying ViZieR for host galaxy data via 2MASS...\n",
      "\n",
      "\n",
      "Querying Legacy Survey for host galaxy data...\n",
      "\n",
      "\n",
      "Querying ViZieR for host galaxy data via GALEX...\n",
      "\n",
      "\n",
      "Querying PS1 for host galaxy data...\n",
      "\n"
     ]
    },
    {
     "name": "stderr",
     "output_type": "stream",
     "text": [
      "/var/folders/x7/yl76x1s54ml4dckx50h4dfm9mztcwv/T/ipykernel_68053/4101882693.py:46: SettingWithCopyWarning: \n",
      "A value is trying to be set on a copy of a slice from a DataFrame\n",
      "\n",
      "See the caveats in the documentation: https://pandas.pydata.org/pandas-docs/stable/user_guide/indexing.html#returning-a-view-versus-a-copy\n",
      "  closest_match_df.drop(columns=['Ra', 'Dec'], axis=1, inplace=True)\n",
      "/Users/pxr754/opt/anaconda3/lib/python3.9/site-packages/extinctions/reddening.py:53: YAMLLoadWarning: calling yaml.load() without Loader=... is deprecated, as the default Loader is unsafe. Please read https://msg.pyyaml.org/load for full details.\n",
      "  self.maps = yaml.load(open(pmap))\n",
      "WARNING: AstropyDeprecationWarning: \"verbose\" was deprecated in version 1.15.0 and will be removed in a future version.  [extinctions.reddening]\n"
     ]
    },
    {
     "name": "stdout",
     "output_type": "stream",
     "text": [
      "Collection Notes Compiled for NGC524.\n",
      "INFO: Loading the maps from /Users/pxr754/.extinction/maps//maps.yaml\n",
      " -  sfd is loaded\n",
      "\n",
      "Querying SDSS for host galaxy data...\n",
      "\n",
      "\n",
      "Querying PS1 for host galaxy data...\n",
      "\n"
     ]
    },
    {
     "name": "stderr",
     "output_type": "stream",
     "text": [
      "/var/folders/x7/yl76x1s54ml4dckx50h4dfm9mztcwv/T/ipykernel_68053/4101882693.py:46: SettingWithCopyWarning: \n",
      "A value is trying to be set on a copy of a slice from a DataFrame\n",
      "\n",
      "See the caveats in the documentation: https://pandas.pydata.org/pandas-docs/stable/user_guide/indexing.html#returning-a-view-versus-a-copy\n",
      "  closest_match_df.drop(columns=['Ra', 'Dec'], axis=1, inplace=True)\n",
      "/var/folders/x7/yl76x1s54ml4dckx50h4dfm9mztcwv/T/ipykernel_68053/3868000565.py:13: RuntimeWarning: divide by zero encountered in log10\n",
      "  return 22.5 - 2.5*np.log10(input_flux)\n",
      "/var/folders/x7/yl76x1s54ml4dckx50h4dfm9mztcwv/T/ipykernel_68053/3868000565.py:52: RuntimeWarning: divide by zero encountered in divide\n",
      "  flux_error = 1./np.sqrt(hdu_data[field][idx])\n"
     ]
    },
    {
     "name": "stdout",
     "output_type": "stream",
     "text": [
      "\n",
      "Querying ViZieR for host galaxy data via 2MASS...\n",
      "\n",
      "\n",
      "Querying Legacy Survey for host galaxy data...\n",
      "\n",
      "\n",
      "Querying ViZieR for host galaxy data via GALEX...\n",
      "\n",
      "Raw Data Collected for NGC821.\n",
      "\n",
      "Querying SDSS for host galaxy data...\n",
      "\n",
      "\n",
      "Querying PS1 for host galaxy data...\n",
      "\n"
     ]
    },
    {
     "name": "stderr",
     "output_type": "stream",
     "text": [
      "/var/folders/x7/yl76x1s54ml4dckx50h4dfm9mztcwv/T/ipykernel_68053/4101882693.py:46: SettingWithCopyWarning: \n",
      "A value is trying to be set on a copy of a slice from a DataFrame\n",
      "\n",
      "See the caveats in the documentation: https://pandas.pydata.org/pandas-docs/stable/user_guide/indexing.html#returning-a-view-versus-a-copy\n",
      "  closest_match_df.drop(columns=['Ra', 'Dec'], axis=1, inplace=True)\n",
      "/var/folders/x7/yl76x1s54ml4dckx50h4dfm9mztcwv/T/ipykernel_68053/3868000565.py:13: RuntimeWarning: divide by zero encountered in log10\n",
      "  return 22.5 - 2.5*np.log10(input_flux)\n",
      "/var/folders/x7/yl76x1s54ml4dckx50h4dfm9mztcwv/T/ipykernel_68053/3868000565.py:52: RuntimeWarning: divide by zero encountered in divide\n",
      "  flux_error = 1./np.sqrt(hdu_data[field][idx])\n"
     ]
    },
    {
     "name": "stdout",
     "output_type": "stream",
     "text": [
      "\n",
      "Querying ViZieR for host galaxy data via 2MASS...\n",
      "\n",
      "\n",
      "Querying Legacy Survey for host galaxy data...\n",
      "\n",
      "\n",
      "Querying ViZieR for host galaxy data via GALEX...\n",
      "\n",
      "\n",
      "Querying PS1 for host galaxy data...\n",
      "\n"
     ]
    },
    {
     "name": "stderr",
     "output_type": "stream",
     "text": [
      "/var/folders/x7/yl76x1s54ml4dckx50h4dfm9mztcwv/T/ipykernel_68053/4101882693.py:46: SettingWithCopyWarning: \n",
      "A value is trying to be set on a copy of a slice from a DataFrame\n",
      "\n",
      "See the caveats in the documentation: https://pandas.pydata.org/pandas-docs/stable/user_guide/indexing.html#returning-a-view-versus-a-copy\n",
      "  closest_match_df.drop(columns=['Ra', 'Dec'], axis=1, inplace=True)\n",
      "/Users/pxr754/opt/anaconda3/lib/python3.9/site-packages/extinctions/reddening.py:53: YAMLLoadWarning: calling yaml.load() without Loader=... is deprecated, as the default Loader is unsafe. Please read https://msg.pyyaml.org/load for full details.\n",
      "  self.maps = yaml.load(open(pmap))\n",
      "WARNING: AstropyDeprecationWarning: \"verbose\" was deprecated in version 1.15.0 and will be removed in a future version.  [extinctions.reddening]\n"
     ]
    },
    {
     "name": "stdout",
     "output_type": "stream",
     "text": [
      "Collection Notes Compiled for NGC821.\n",
      "INFO: Loading the maps from /Users/pxr754/.extinction/maps//maps.yaml\n",
      " -  sfd is loaded\n",
      "\n",
      "Querying SDSS for host galaxy data...\n",
      "\n",
      "\n",
      "Querying PS1 for host galaxy data...\n",
      "\n"
     ]
    },
    {
     "name": "stderr",
     "output_type": "stream",
     "text": [
      "/var/folders/x7/yl76x1s54ml4dckx50h4dfm9mztcwv/T/ipykernel_68053/4101882693.py:46: SettingWithCopyWarning: \n",
      "A value is trying to be set on a copy of a slice from a DataFrame\n",
      "\n",
      "See the caveats in the documentation: https://pandas.pydata.org/pandas-docs/stable/user_guide/indexing.html#returning-a-view-versus-a-copy\n",
      "  closest_match_df.drop(columns=['Ra', 'Dec'], axis=1, inplace=True)\n"
     ]
    },
    {
     "name": "stdout",
     "output_type": "stream",
     "text": [
      "\n",
      "Querying ViZieR for host galaxy data via 2MASS...\n",
      "\n",
      "\n",
      "Querying Legacy Survey for host galaxy data...\n",
      "\n",
      "\n",
      "Querying ViZieR for host galaxy data via GALEX...\n",
      "\n",
      "Raw Data Collected for NGC1023.\n",
      "\n",
      "Querying SDSS for host galaxy data...\n",
      "\n",
      "\n",
      "Querying PS1 for host galaxy data...\n",
      "\n"
     ]
    },
    {
     "name": "stderr",
     "output_type": "stream",
     "text": [
      "/var/folders/x7/yl76x1s54ml4dckx50h4dfm9mztcwv/T/ipykernel_68053/4101882693.py:46: SettingWithCopyWarning: \n",
      "A value is trying to be set on a copy of a slice from a DataFrame\n",
      "\n",
      "See the caveats in the documentation: https://pandas.pydata.org/pandas-docs/stable/user_guide/indexing.html#returning-a-view-versus-a-copy\n",
      "  closest_match_df.drop(columns=['Ra', 'Dec'], axis=1, inplace=True)\n"
     ]
    },
    {
     "name": "stdout",
     "output_type": "stream",
     "text": [
      "\n",
      "Querying ViZieR for host galaxy data via 2MASS...\n",
      "\n",
      "\n",
      "Querying Legacy Survey for host galaxy data...\n",
      "\n",
      "\n",
      "Querying ViZieR for host galaxy data via GALEX...\n",
      "\n",
      "\n",
      "Querying PS1 for host galaxy data...\n",
      "\n"
     ]
    },
    {
     "name": "stderr",
     "output_type": "stream",
     "text": [
      "/var/folders/x7/yl76x1s54ml4dckx50h4dfm9mztcwv/T/ipykernel_68053/4101882693.py:46: SettingWithCopyWarning: \n",
      "A value is trying to be set on a copy of a slice from a DataFrame\n",
      "\n",
      "See the caveats in the documentation: https://pandas.pydata.org/pandas-docs/stable/user_guide/indexing.html#returning-a-view-versus-a-copy\n",
      "  closest_match_df.drop(columns=['Ra', 'Dec'], axis=1, inplace=True)\n",
      "/Users/pxr754/opt/anaconda3/lib/python3.9/site-packages/extinctions/reddening.py:53: YAMLLoadWarning: calling yaml.load() without Loader=... is deprecated, as the default Loader is unsafe. Please read https://msg.pyyaml.org/load for full details.\n",
      "  self.maps = yaml.load(open(pmap))\n",
      "WARNING: AstropyDeprecationWarning: \"verbose\" was deprecated in version 1.15.0 and will be removed in a future version.  [extinctions.reddening]\n"
     ]
    },
    {
     "name": "stdout",
     "output_type": "stream",
     "text": [
      "Collection Notes Compiled for NGC1023.\n",
      "INFO: Loading the maps from /Users/pxr754/.extinction/maps//maps.yaml\n",
      " -  sfd is loaded\n",
      "\n",
      "Querying SDSS for host galaxy data...\n",
      "\n",
      "\n",
      "Querying PS1 for host galaxy data...\n",
      "\n"
     ]
    },
    {
     "name": "stderr",
     "output_type": "stream",
     "text": [
      "/var/folders/x7/yl76x1s54ml4dckx50h4dfm9mztcwv/T/ipykernel_68053/4101882693.py:46: SettingWithCopyWarning: \n",
      "A value is trying to be set on a copy of a slice from a DataFrame\n",
      "\n",
      "See the caveats in the documentation: https://pandas.pydata.org/pandas-docs/stable/user_guide/indexing.html#returning-a-view-versus-a-copy\n",
      "  closest_match_df.drop(columns=['Ra', 'Dec'], axis=1, inplace=True)\n"
     ]
    },
    {
     "name": "stdout",
     "output_type": "stream",
     "text": [
      "\n",
      "Querying ViZieR for host galaxy data via 2MASS...\n",
      "\n",
      "\n",
      "Querying Legacy Survey for host galaxy data...\n",
      "\n",
      "\n",
      "Querying ViZieR for host galaxy data via GALEX...\n",
      "\n",
      "Raw Data Collected for NGC1194.\n",
      "\n",
      "Querying SDSS for host galaxy data...\n",
      "\n",
      "\n",
      "Querying PS1 for host galaxy data...\n",
      "\n"
     ]
    },
    {
     "name": "stderr",
     "output_type": "stream",
     "text": [
      "/var/folders/x7/yl76x1s54ml4dckx50h4dfm9mztcwv/T/ipykernel_68053/4101882693.py:46: SettingWithCopyWarning: \n",
      "A value is trying to be set on a copy of a slice from a DataFrame\n",
      "\n",
      "See the caveats in the documentation: https://pandas.pydata.org/pandas-docs/stable/user_guide/indexing.html#returning-a-view-versus-a-copy\n",
      "  closest_match_df.drop(columns=['Ra', 'Dec'], axis=1, inplace=True)\n"
     ]
    },
    {
     "name": "stdout",
     "output_type": "stream",
     "text": [
      "\n",
      "Querying ViZieR for host galaxy data via 2MASS...\n",
      "\n",
      "\n",
      "Querying Legacy Survey for host galaxy data...\n",
      "\n",
      "\n",
      "Querying ViZieR for host galaxy data via GALEX...\n",
      "\n",
      "\n",
      "Querying PS1 for host galaxy data...\n",
      "\n"
     ]
    },
    {
     "name": "stderr",
     "output_type": "stream",
     "text": [
      "/var/folders/x7/yl76x1s54ml4dckx50h4dfm9mztcwv/T/ipykernel_68053/4101882693.py:46: SettingWithCopyWarning: \n",
      "A value is trying to be set on a copy of a slice from a DataFrame\n",
      "\n",
      "See the caveats in the documentation: https://pandas.pydata.org/pandas-docs/stable/user_guide/indexing.html#returning-a-view-versus-a-copy\n",
      "  closest_match_df.drop(columns=['Ra', 'Dec'], axis=1, inplace=True)\n",
      "/Users/pxr754/opt/anaconda3/lib/python3.9/site-packages/extinctions/reddening.py:53: YAMLLoadWarning: calling yaml.load() without Loader=... is deprecated, as the default Loader is unsafe. Please read https://msg.pyyaml.org/load for full details.\n",
      "  self.maps = yaml.load(open(pmap))\n",
      "WARNING: AstropyDeprecationWarning: \"verbose\" was deprecated in version 1.15.0 and will be removed in a future version.  [extinctions.reddening]\n"
     ]
    },
    {
     "name": "stdout",
     "output_type": "stream",
     "text": [
      "Collection Notes Compiled for NGC1194.\n",
      "INFO: Loading the maps from /Users/pxr754/.extinction/maps//maps.yaml\n",
      " -  sfd is loaded\n",
      "\n",
      "Querying SDSS for host galaxy data...\n",
      "\n",
      "\n",
      "Querying PS1 for host galaxy data...\n",
      "\n",
      "\n",
      "Querying ViZieR for host galaxy data via 2MASS...\n",
      "\n",
      "\n",
      "Querying Legacy Survey for host galaxy data...\n",
      "\n",
      "\n",
      "Querying ViZieR for host galaxy data via GALEX...\n",
      "\n",
      "Raw Data Collected for NGC2549.\n",
      "\n",
      "Querying SDSS for host galaxy data...\n",
      "\n",
      "\n",
      "Querying PS1 for host galaxy data...\n",
      "\n",
      "\n",
      "Querying ViZieR for host galaxy data via 2MASS...\n",
      "\n",
      "\n",
      "Querying Legacy Survey for host galaxy data...\n",
      "\n",
      "\n",
      "Querying ViZieR for host galaxy data via GALEX...\n",
      "\n",
      "\n",
      "Querying PS1 for host galaxy data...\n",
      "\n",
      "Collection Notes Compiled for NGC2549.\n",
      "INFO: Loading the maps from /Users/pxr754/.extinction/maps//maps.yaml\n",
      " -  sfd is loaded\n"
     ]
    },
    {
     "name": "stderr",
     "output_type": "stream",
     "text": [
      "/Users/pxr754/opt/anaconda3/lib/python3.9/site-packages/extinctions/reddening.py:53: YAMLLoadWarning: calling yaml.load() without Loader=... is deprecated, as the default Loader is unsafe. Please read https://msg.pyyaml.org/load for full details.\n",
      "  self.maps = yaml.load(open(pmap))\n",
      "WARNING: AstropyDeprecationWarning: \"verbose\" was deprecated in version 1.15.0 and will be removed in a future version.  [extinctions.reddening]\n"
     ]
    },
    {
     "name": "stdout",
     "output_type": "stream",
     "text": [
      "\n",
      "Querying SDSS for host galaxy data...\n",
      "\n",
      "\n",
      "Querying PS1 for host galaxy data...\n",
      "\n"
     ]
    },
    {
     "name": "stderr",
     "output_type": "stream",
     "text": [
      "/var/folders/x7/yl76x1s54ml4dckx50h4dfm9mztcwv/T/ipykernel_68053/4101882693.py:46: SettingWithCopyWarning: \n",
      "A value is trying to be set on a copy of a slice from a DataFrame\n",
      "\n",
      "See the caveats in the documentation: https://pandas.pydata.org/pandas-docs/stable/user_guide/indexing.html#returning-a-view-versus-a-copy\n",
      "  closest_match_df.drop(columns=['Ra', 'Dec'], axis=1, inplace=True)\n"
     ]
    },
    {
     "name": "stdout",
     "output_type": "stream",
     "text": [
      "\n",
      "Querying ViZieR for host galaxy data via 2MASS...\n",
      "\n",
      "\n",
      "Querying Legacy Survey for host galaxy data...\n",
      "\n",
      "\n",
      "Querying ViZieR for host galaxy data via GALEX...\n",
      "\n",
      "Raw Data Collected for NGC3115.\n",
      "\n",
      "Querying SDSS for host galaxy data...\n",
      "\n",
      "\n",
      "Querying PS1 for host galaxy data...\n",
      "\n"
     ]
    },
    {
     "name": "stderr",
     "output_type": "stream",
     "text": [
      "/var/folders/x7/yl76x1s54ml4dckx50h4dfm9mztcwv/T/ipykernel_68053/4101882693.py:46: SettingWithCopyWarning: \n",
      "A value is trying to be set on a copy of a slice from a DataFrame\n",
      "\n",
      "See the caveats in the documentation: https://pandas.pydata.org/pandas-docs/stable/user_guide/indexing.html#returning-a-view-versus-a-copy\n",
      "  closest_match_df.drop(columns=['Ra', 'Dec'], axis=1, inplace=True)\n"
     ]
    },
    {
     "name": "stdout",
     "output_type": "stream",
     "text": [
      "\n",
      "Querying ViZieR for host galaxy data via 2MASS...\n",
      "\n",
      "\n",
      "Querying Legacy Survey for host galaxy data...\n",
      "\n",
      "\n",
      "Querying ViZieR for host galaxy data via GALEX...\n",
      "\n",
      "\n",
      "Querying PS1 for host galaxy data...\n",
      "\n"
     ]
    },
    {
     "name": "stderr",
     "output_type": "stream",
     "text": [
      "/var/folders/x7/yl76x1s54ml4dckx50h4dfm9mztcwv/T/ipykernel_68053/4101882693.py:46: SettingWithCopyWarning: \n",
      "A value is trying to be set on a copy of a slice from a DataFrame\n",
      "\n",
      "See the caveats in the documentation: https://pandas.pydata.org/pandas-docs/stable/user_guide/indexing.html#returning-a-view-versus-a-copy\n",
      "  closest_match_df.drop(columns=['Ra', 'Dec'], axis=1, inplace=True)\n",
      "/Users/pxr754/opt/anaconda3/lib/python3.9/site-packages/extinctions/reddening.py:53: YAMLLoadWarning: calling yaml.load() without Loader=... is deprecated, as the default Loader is unsafe. Please read https://msg.pyyaml.org/load for full details.\n",
      "  self.maps = yaml.load(open(pmap))\n",
      "WARNING: AstropyDeprecationWarning: \"verbose\" was deprecated in version 1.15.0 and will be removed in a future version.  [extinctions.reddening]\n"
     ]
    },
    {
     "name": "stdout",
     "output_type": "stream",
     "text": [
      "Collection Notes Compiled for NGC3115.\n",
      "INFO: Loading the maps from /Users/pxr754/.extinction/maps//maps.yaml\n",
      " -  sfd is loaded\n",
      "\n",
      "Querying SDSS for host galaxy data...\n",
      "\n",
      "\n",
      "Querying PS1 for host galaxy data...\n",
      "\n",
      "\n",
      "Querying ViZieR for host galaxy data via 2MASS...\n",
      "\n",
      "\n",
      "Querying Legacy Survey for host galaxy data...\n",
      "\n",
      "\n",
      "Querying ViZieR for host galaxy data via GALEX...\n",
      "\n",
      "Raw Data Collected for NGC3245.\n",
      "\n",
      "Querying SDSS for host galaxy data...\n",
      "\n",
      "\n",
      "Querying PS1 for host galaxy data...\n",
      "\n",
      "\n",
      "Querying ViZieR for host galaxy data via 2MASS...\n",
      "\n",
      "\n",
      "Querying Legacy Survey for host galaxy data...\n",
      "\n",
      "\n",
      "Querying ViZieR for host galaxy data via GALEX...\n",
      "\n",
      "\n",
      "Querying PS1 for host galaxy data...\n",
      "\n",
      "Collection Notes Compiled for NGC3245.\n",
      "INFO: Loading the maps from /Users/pxr754/.extinction/maps//maps.yaml\n",
      " -  sfd is loaded\n"
     ]
    },
    {
     "name": "stderr",
     "output_type": "stream",
     "text": [
      "/Users/pxr754/opt/anaconda3/lib/python3.9/site-packages/extinctions/reddening.py:53: YAMLLoadWarning: calling yaml.load() without Loader=... is deprecated, as the default Loader is unsafe. Please read https://msg.pyyaml.org/load for full details.\n",
      "  self.maps = yaml.load(open(pmap))\n",
      "WARNING: AstropyDeprecationWarning: \"verbose\" was deprecated in version 1.15.0 and will be removed in a future version.  [extinctions.reddening]\n"
     ]
    },
    {
     "name": "stdout",
     "output_type": "stream",
     "text": [
      "\n",
      "Querying SDSS for host galaxy data...\n",
      "\n",
      "\n",
      "Querying PS1 for host galaxy data...\n",
      "\n",
      "\n",
      "Querying ViZieR for host galaxy data via 2MASS...\n",
      "\n",
      "\n",
      "Querying Legacy Survey for host galaxy data...\n",
      "\n",
      "\n",
      "Querying ViZieR for host galaxy data via GALEX...\n",
      "\n",
      "Raw Data Collected for NGC3585.\n",
      "\n",
      "Querying SDSS for host galaxy data...\n",
      "\n",
      "\n",
      "Querying PS1 for host galaxy data...\n",
      "\n",
      "\n",
      "Querying ViZieR for host galaxy data via 2MASS...\n",
      "\n",
      "\n",
      "Querying Legacy Survey for host galaxy data...\n",
      "\n",
      "\n",
      "Querying ViZieR for host galaxy data via GALEX...\n",
      "\n",
      "\n",
      "Querying PS1 for host galaxy data...\n",
      "\n",
      "Collection Notes Compiled for NGC3585.\n",
      "INFO: Loading the maps from /Users/pxr754/.extinction/maps//maps.yaml\n",
      " -  sfd is loaded\n"
     ]
    },
    {
     "name": "stderr",
     "output_type": "stream",
     "text": [
      "/Users/pxr754/opt/anaconda3/lib/python3.9/site-packages/extinctions/reddening.py:53: YAMLLoadWarning: calling yaml.load() without Loader=... is deprecated, as the default Loader is unsafe. Please read https://msg.pyyaml.org/load for full details.\n",
      "  self.maps = yaml.load(open(pmap))\n",
      "WARNING: AstropyDeprecationWarning: \"verbose\" was deprecated in version 1.15.0 and will be removed in a future version.  [extinctions.reddening]\n"
     ]
    },
    {
     "name": "stdout",
     "output_type": "stream",
     "text": [
      "\n",
      "Querying SDSS for host galaxy data...\n",
      "\n",
      "\n",
      "Querying PS1 for host galaxy data...\n",
      "\n"
     ]
    },
    {
     "name": "stderr",
     "output_type": "stream",
     "text": [
      "/var/folders/x7/yl76x1s54ml4dckx50h4dfm9mztcwv/T/ipykernel_68053/4101882693.py:46: SettingWithCopyWarning: \n",
      "A value is trying to be set on a copy of a slice from a DataFrame\n",
      "\n",
      "See the caveats in the documentation: https://pandas.pydata.org/pandas-docs/stable/user_guide/indexing.html#returning-a-view-versus-a-copy\n",
      "  closest_match_df.drop(columns=['Ra', 'Dec'], axis=1, inplace=True)\n"
     ]
    },
    {
     "name": "stdout",
     "output_type": "stream",
     "text": [
      "\n",
      "Querying ViZieR for host galaxy data via 2MASS...\n",
      "\n",
      "\n",
      "Querying Legacy Survey for host galaxy data...\n",
      "\n",
      "\n",
      "Querying ViZieR for host galaxy data via GALEX...\n",
      "\n",
      "Raw Data Collected for NGC3998.\n",
      "\n",
      "Querying SDSS for host galaxy data...\n",
      "\n",
      "\n",
      "Querying PS1 for host galaxy data...\n",
      "\n"
     ]
    },
    {
     "name": "stderr",
     "output_type": "stream",
     "text": [
      "/var/folders/x7/yl76x1s54ml4dckx50h4dfm9mztcwv/T/ipykernel_68053/4101882693.py:46: SettingWithCopyWarning: \n",
      "A value is trying to be set on a copy of a slice from a DataFrame\n",
      "\n",
      "See the caveats in the documentation: https://pandas.pydata.org/pandas-docs/stable/user_guide/indexing.html#returning-a-view-versus-a-copy\n",
      "  closest_match_df.drop(columns=['Ra', 'Dec'], axis=1, inplace=True)\n"
     ]
    },
    {
     "name": "stdout",
     "output_type": "stream",
     "text": [
      "\n",
      "Querying ViZieR for host galaxy data via 2MASS...\n",
      "\n",
      "\n",
      "Querying Legacy Survey for host galaxy data...\n",
      "\n",
      "\n",
      "Querying ViZieR for host galaxy data via GALEX...\n",
      "\n",
      "\n",
      "Querying PS1 for host galaxy data...\n",
      "\n"
     ]
    },
    {
     "name": "stderr",
     "output_type": "stream",
     "text": [
      "/var/folders/x7/yl76x1s54ml4dckx50h4dfm9mztcwv/T/ipykernel_68053/4101882693.py:46: SettingWithCopyWarning: \n",
      "A value is trying to be set on a copy of a slice from a DataFrame\n",
      "\n",
      "See the caveats in the documentation: https://pandas.pydata.org/pandas-docs/stable/user_guide/indexing.html#returning-a-view-versus-a-copy\n",
      "  closest_match_df.drop(columns=['Ra', 'Dec'], axis=1, inplace=True)\n",
      "/Users/pxr754/opt/anaconda3/lib/python3.9/site-packages/extinctions/reddening.py:53: YAMLLoadWarning: calling yaml.load() without Loader=... is deprecated, as the default Loader is unsafe. Please read https://msg.pyyaml.org/load for full details.\n",
      "  self.maps = yaml.load(open(pmap))\n",
      "WARNING: AstropyDeprecationWarning: \"verbose\" was deprecated in version 1.15.0 and will be removed in a future version.  [extinctions.reddening]\n"
     ]
    },
    {
     "name": "stdout",
     "output_type": "stream",
     "text": [
      "Collection Notes Compiled for NGC3998.\n",
      "INFO: Loading the maps from /Users/pxr754/.extinction/maps//maps.yaml\n",
      " -  sfd is loaded\n",
      "\n",
      "Querying SDSS for host galaxy data...\n",
      "\n",
      "\n",
      "Querying PS1 for host galaxy data...\n",
      "\n",
      "\n",
      "Querying ViZieR for host galaxy data via 2MASS...\n",
      "\n",
      "\n",
      "Querying Legacy Survey for host galaxy data...\n",
      "\n",
      "\n",
      "Querying ViZieR for host galaxy data via GALEX...\n",
      "\n",
      "Raw Data Collected for NGC4026.\n",
      "\n",
      "Querying SDSS for host galaxy data...\n",
      "\n",
      "\n",
      "Querying PS1 for host galaxy data...\n",
      "\n",
      "\n",
      "Querying ViZieR for host galaxy data via 2MASS...\n",
      "\n",
      "\n",
      "Querying Legacy Survey for host galaxy data...\n",
      "\n",
      "\n",
      "Querying ViZieR for host galaxy data via GALEX...\n",
      "\n",
      "\n",
      "Querying PS1 for host galaxy data...\n",
      "\n",
      "Collection Notes Compiled for NGC4026.\n",
      "INFO: Loading the maps from /Users/pxr754/.extinction/maps//maps.yaml\n",
      " -  sfd is loaded\n"
     ]
    },
    {
     "name": "stderr",
     "output_type": "stream",
     "text": [
      "/Users/pxr754/opt/anaconda3/lib/python3.9/site-packages/extinctions/reddening.py:53: YAMLLoadWarning: calling yaml.load() without Loader=... is deprecated, as the default Loader is unsafe. Please read https://msg.pyyaml.org/load for full details.\n",
      "  self.maps = yaml.load(open(pmap))\n",
      "WARNING: AstropyDeprecationWarning: \"verbose\" was deprecated in version 1.15.0 and will be removed in a future version.  [extinctions.reddening]\n"
     ]
    },
    {
     "name": "stdout",
     "output_type": "stream",
     "text": [
      "\n",
      "Querying SDSS for host galaxy data...\n",
      "\n",
      "\n",
      "Querying PS1 for host galaxy data...\n",
      "\n"
     ]
    },
    {
     "name": "stderr",
     "output_type": "stream",
     "text": [
      "/var/folders/x7/yl76x1s54ml4dckx50h4dfm9mztcwv/T/ipykernel_68053/4101882693.py:46: SettingWithCopyWarning: \n",
      "A value is trying to be set on a copy of a slice from a DataFrame\n",
      "\n",
      "See the caveats in the documentation: https://pandas.pydata.org/pandas-docs/stable/user_guide/indexing.html#returning-a-view-versus-a-copy\n",
      "  closest_match_df.drop(columns=['Ra', 'Dec'], axis=1, inplace=True)\n",
      "/var/folders/x7/yl76x1s54ml4dckx50h4dfm9mztcwv/T/ipykernel_68053/3868000565.py:13: RuntimeWarning: divide by zero encountered in log10\n",
      "  return 22.5 - 2.5*np.log10(input_flux)\n",
      "/var/folders/x7/yl76x1s54ml4dckx50h4dfm9mztcwv/T/ipykernel_68053/3868000565.py:52: RuntimeWarning: divide by zero encountered in divide\n",
      "  flux_error = 1./np.sqrt(hdu_data[field][idx])\n"
     ]
    },
    {
     "name": "stdout",
     "output_type": "stream",
     "text": [
      "\n",
      "Querying ViZieR for host galaxy data via 2MASS...\n",
      "\n",
      "\n",
      "Querying Legacy Survey for host galaxy data...\n",
      "\n",
      "\n",
      "Querying ViZieR for host galaxy data via GALEX...\n",
      "\n",
      "Raw Data Collected for NGC4258.\n",
      "\n",
      "Querying SDSS for host galaxy data...\n",
      "\n",
      "\n",
      "Querying PS1 for host galaxy data...\n",
      "\n"
     ]
    },
    {
     "name": "stderr",
     "output_type": "stream",
     "text": [
      "/var/folders/x7/yl76x1s54ml4dckx50h4dfm9mztcwv/T/ipykernel_68053/4101882693.py:46: SettingWithCopyWarning: \n",
      "A value is trying to be set on a copy of a slice from a DataFrame\n",
      "\n",
      "See the caveats in the documentation: https://pandas.pydata.org/pandas-docs/stable/user_guide/indexing.html#returning-a-view-versus-a-copy\n",
      "  closest_match_df.drop(columns=['Ra', 'Dec'], axis=1, inplace=True)\n",
      "/var/folders/x7/yl76x1s54ml4dckx50h4dfm9mztcwv/T/ipykernel_68053/3868000565.py:13: RuntimeWarning: divide by zero encountered in log10\n",
      "  return 22.5 - 2.5*np.log10(input_flux)\n",
      "/var/folders/x7/yl76x1s54ml4dckx50h4dfm9mztcwv/T/ipykernel_68053/3868000565.py:52: RuntimeWarning: divide by zero encountered in divide\n",
      "  flux_error = 1./np.sqrt(hdu_data[field][idx])\n"
     ]
    },
    {
     "name": "stdout",
     "output_type": "stream",
     "text": [
      "\n",
      "Querying ViZieR for host galaxy data via 2MASS...\n",
      "\n",
      "\n",
      "Querying Legacy Survey for host galaxy data...\n",
      "\n",
      "\n",
      "Querying ViZieR for host galaxy data via GALEX...\n",
      "\n",
      "\n",
      "Querying PS1 for host galaxy data...\n",
      "\n"
     ]
    },
    {
     "name": "stderr",
     "output_type": "stream",
     "text": [
      "/var/folders/x7/yl76x1s54ml4dckx50h4dfm9mztcwv/T/ipykernel_68053/4101882693.py:46: SettingWithCopyWarning: \n",
      "A value is trying to be set on a copy of a slice from a DataFrame\n",
      "\n",
      "See the caveats in the documentation: https://pandas.pydata.org/pandas-docs/stable/user_guide/indexing.html#returning-a-view-versus-a-copy\n",
      "  closest_match_df.drop(columns=['Ra', 'Dec'], axis=1, inplace=True)\n",
      "/Users/pxr754/opt/anaconda3/lib/python3.9/site-packages/extinctions/reddening.py:53: YAMLLoadWarning: calling yaml.load() without Loader=... is deprecated, as the default Loader is unsafe. Please read https://msg.pyyaml.org/load for full details.\n",
      "  self.maps = yaml.load(open(pmap))\n",
      "WARNING: AstropyDeprecationWarning: \"verbose\" was deprecated in version 1.15.0 and will be removed in a future version.  [extinctions.reddening]\n"
     ]
    },
    {
     "name": "stdout",
     "output_type": "stream",
     "text": [
      "Collection Notes Compiled for NGC4258.\n",
      "INFO: Loading the maps from /Users/pxr754/.extinction/maps//maps.yaml\n",
      " -  sfd is loaded\n",
      "\n",
      "Querying SDSS for host galaxy data...\n",
      "\n",
      "\n",
      "Querying PS1 for host galaxy data...\n",
      "\n"
     ]
    },
    {
     "name": "stderr",
     "output_type": "stream",
     "text": [
      "/var/folders/x7/yl76x1s54ml4dckx50h4dfm9mztcwv/T/ipykernel_68053/4101882693.py:46: SettingWithCopyWarning: \n",
      "A value is trying to be set on a copy of a slice from a DataFrame\n",
      "\n",
      "See the caveats in the documentation: https://pandas.pydata.org/pandas-docs/stable/user_guide/indexing.html#returning-a-view-versus-a-copy\n",
      "  closest_match_df.drop(columns=['Ra', 'Dec'], axis=1, inplace=True)\n"
     ]
    },
    {
     "name": "stdout",
     "output_type": "stream",
     "text": [
      "\n",
      "Querying ViZieR for host galaxy data via 2MASS...\n",
      "\n",
      "\n",
      "Querying Legacy Survey for host galaxy data...\n",
      "\n",
      "\n",
      "Querying ViZieR for host galaxy data via GALEX...\n",
      "\n",
      "Raw Data Collected for NGC4526.\n",
      "\n",
      "Querying SDSS for host galaxy data...\n",
      "\n",
      "\n",
      "Querying PS1 for host galaxy data...\n",
      "\n"
     ]
    },
    {
     "name": "stderr",
     "output_type": "stream",
     "text": [
      "/var/folders/x7/yl76x1s54ml4dckx50h4dfm9mztcwv/T/ipykernel_68053/4101882693.py:46: SettingWithCopyWarning: \n",
      "A value is trying to be set on a copy of a slice from a DataFrame\n",
      "\n",
      "See the caveats in the documentation: https://pandas.pydata.org/pandas-docs/stable/user_guide/indexing.html#returning-a-view-versus-a-copy\n",
      "  closest_match_df.drop(columns=['Ra', 'Dec'], axis=1, inplace=True)\n"
     ]
    },
    {
     "name": "stdout",
     "output_type": "stream",
     "text": [
      "\n",
      "Querying ViZieR for host galaxy data via 2MASS...\n",
      "\n",
      "\n",
      "Querying Legacy Survey for host galaxy data...\n",
      "\n",
      "\n",
      "Querying ViZieR for host galaxy data via GALEX...\n",
      "\n",
      "\n",
      "Querying PS1 for host galaxy data...\n",
      "\n"
     ]
    },
    {
     "name": "stderr",
     "output_type": "stream",
     "text": [
      "/var/folders/x7/yl76x1s54ml4dckx50h4dfm9mztcwv/T/ipykernel_68053/4101882693.py:46: SettingWithCopyWarning: \n",
      "A value is trying to be set on a copy of a slice from a DataFrame\n",
      "\n",
      "See the caveats in the documentation: https://pandas.pydata.org/pandas-docs/stable/user_guide/indexing.html#returning-a-view-versus-a-copy\n",
      "  closest_match_df.drop(columns=['Ra', 'Dec'], axis=1, inplace=True)\n",
      "/Users/pxr754/opt/anaconda3/lib/python3.9/site-packages/extinctions/reddening.py:53: YAMLLoadWarning: calling yaml.load() without Loader=... is deprecated, as the default Loader is unsafe. Please read https://msg.pyyaml.org/load for full details.\n",
      "  self.maps = yaml.load(open(pmap))\n",
      "WARNING: AstropyDeprecationWarning: \"verbose\" was deprecated in version 1.15.0 and will be removed in a future version.  [extinctions.reddening]\n"
     ]
    },
    {
     "name": "stdout",
     "output_type": "stream",
     "text": [
      "Collection Notes Compiled for NGC4526.\n",
      "INFO: Loading the maps from /Users/pxr754/.extinction/maps//maps.yaml\n",
      " -  sfd is loaded\n",
      "\n",
      "Querying SDSS for host galaxy data...\n",
      "\n",
      "\n",
      "Querying PS1 for host galaxy data...\n",
      "\n"
     ]
    },
    {
     "name": "stderr",
     "output_type": "stream",
     "text": [
      "/var/folders/x7/yl76x1s54ml4dckx50h4dfm9mztcwv/T/ipykernel_68053/4101882693.py:46: SettingWithCopyWarning: \n",
      "A value is trying to be set on a copy of a slice from a DataFrame\n",
      "\n",
      "See the caveats in the documentation: https://pandas.pydata.org/pandas-docs/stable/user_guide/indexing.html#returning-a-view-versus-a-copy\n",
      "  closest_match_df.drop(columns=['Ra', 'Dec'], axis=1, inplace=True)\n"
     ]
    },
    {
     "name": "stdout",
     "output_type": "stream",
     "text": [
      "\n",
      "Querying ViZieR for host galaxy data via 2MASS...\n",
      "\n",
      "\n",
      "Querying Legacy Survey for host galaxy data...\n",
      "\n",
      "\n",
      "Querying ViZieR for host galaxy data via GALEX...\n",
      "\n",
      "Raw Data Collected for NGC4564.\n",
      "\n",
      "Querying SDSS for host galaxy data...\n",
      "\n",
      "\n",
      "Querying PS1 for host galaxy data...\n",
      "\n"
     ]
    },
    {
     "name": "stderr",
     "output_type": "stream",
     "text": [
      "/var/folders/x7/yl76x1s54ml4dckx50h4dfm9mztcwv/T/ipykernel_68053/4101882693.py:46: SettingWithCopyWarning: \n",
      "A value is trying to be set on a copy of a slice from a DataFrame\n",
      "\n",
      "See the caveats in the documentation: https://pandas.pydata.org/pandas-docs/stable/user_guide/indexing.html#returning-a-view-versus-a-copy\n",
      "  closest_match_df.drop(columns=['Ra', 'Dec'], axis=1, inplace=True)\n"
     ]
    },
    {
     "name": "stdout",
     "output_type": "stream",
     "text": [
      "\n",
      "Querying ViZieR for host galaxy data via 2MASS...\n",
      "\n",
      "\n",
      "Querying Legacy Survey for host galaxy data...\n",
      "\n",
      "\n",
      "Querying ViZieR for host galaxy data via GALEX...\n",
      "\n",
      "\n",
      "Querying PS1 for host galaxy data...\n",
      "\n"
     ]
    },
    {
     "name": "stderr",
     "output_type": "stream",
     "text": [
      "/var/folders/x7/yl76x1s54ml4dckx50h4dfm9mztcwv/T/ipykernel_68053/4101882693.py:46: SettingWithCopyWarning: \n",
      "A value is trying to be set on a copy of a slice from a DataFrame\n",
      "\n",
      "See the caveats in the documentation: https://pandas.pydata.org/pandas-docs/stable/user_guide/indexing.html#returning-a-view-versus-a-copy\n",
      "  closest_match_df.drop(columns=['Ra', 'Dec'], axis=1, inplace=True)\n",
      "/Users/pxr754/opt/anaconda3/lib/python3.9/site-packages/extinctions/reddening.py:53: YAMLLoadWarning: calling yaml.load() without Loader=... is deprecated, as the default Loader is unsafe. Please read https://msg.pyyaml.org/load for full details.\n",
      "  self.maps = yaml.load(open(pmap))\n",
      "WARNING: AstropyDeprecationWarning: \"verbose\" was deprecated in version 1.15.0 and will be removed in a future version.  [extinctions.reddening]\n"
     ]
    },
    {
     "name": "stdout",
     "output_type": "stream",
     "text": [
      "Collection Notes Compiled for NGC4564.\n",
      "INFO: Loading the maps from /Users/pxr754/.extinction/maps//maps.yaml\n",
      " -  sfd is loaded\n",
      "\n",
      "Querying SDSS for host galaxy data...\n",
      "\n",
      "\n",
      "Querying PS1 for host galaxy data...\n",
      "\n"
     ]
    },
    {
     "name": "stderr",
     "output_type": "stream",
     "text": [
      "/var/folders/x7/yl76x1s54ml4dckx50h4dfm9mztcwv/T/ipykernel_68053/4101882693.py:46: SettingWithCopyWarning: \n",
      "A value is trying to be set on a copy of a slice from a DataFrame\n",
      "\n",
      "See the caveats in the documentation: https://pandas.pydata.org/pandas-docs/stable/user_guide/indexing.html#returning-a-view-versus-a-copy\n",
      "  closest_match_df.drop(columns=['Ra', 'Dec'], axis=1, inplace=True)\n",
      "/var/folders/x7/yl76x1s54ml4dckx50h4dfm9mztcwv/T/ipykernel_68053/3868000565.py:13: RuntimeWarning: divide by zero encountered in log10\n",
      "  return 22.5 - 2.5*np.log10(input_flux)\n",
      "/var/folders/x7/yl76x1s54ml4dckx50h4dfm9mztcwv/T/ipykernel_68053/3868000565.py:52: RuntimeWarning: divide by zero encountered in divide\n",
      "  flux_error = 1./np.sqrt(hdu_data[field][idx])\n"
     ]
    },
    {
     "name": "stdout",
     "output_type": "stream",
     "text": [
      "\n",
      "Querying ViZieR for host galaxy data via 2MASS...\n",
      "\n",
      "\n",
      "Querying Legacy Survey for host galaxy data...\n",
      "\n",
      "\n",
      "Querying ViZieR for host galaxy data via GALEX...\n",
      "\n",
      "Raw Data Collected for NGC4594.\n",
      "\n",
      "Querying SDSS for host galaxy data...\n",
      "\n",
      "\n",
      "Querying PS1 for host galaxy data...\n",
      "\n"
     ]
    },
    {
     "name": "stderr",
     "output_type": "stream",
     "text": [
      "/var/folders/x7/yl76x1s54ml4dckx50h4dfm9mztcwv/T/ipykernel_68053/4101882693.py:46: SettingWithCopyWarning: \n",
      "A value is trying to be set on a copy of a slice from a DataFrame\n",
      "\n",
      "See the caveats in the documentation: https://pandas.pydata.org/pandas-docs/stable/user_guide/indexing.html#returning-a-view-versus-a-copy\n",
      "  closest_match_df.drop(columns=['Ra', 'Dec'], axis=1, inplace=True)\n",
      "/var/folders/x7/yl76x1s54ml4dckx50h4dfm9mztcwv/T/ipykernel_68053/3868000565.py:13: RuntimeWarning: divide by zero encountered in log10\n",
      "  return 22.5 - 2.5*np.log10(input_flux)\n",
      "/var/folders/x7/yl76x1s54ml4dckx50h4dfm9mztcwv/T/ipykernel_68053/3868000565.py:52: RuntimeWarning: divide by zero encountered in divide\n",
      "  flux_error = 1./np.sqrt(hdu_data[field][idx])\n"
     ]
    },
    {
     "name": "stdout",
     "output_type": "stream",
     "text": [
      "\n",
      "Querying ViZieR for host galaxy data via 2MASS...\n",
      "\n",
      "\n",
      "Querying Legacy Survey for host galaxy data...\n",
      "\n",
      "\n",
      "Querying ViZieR for host galaxy data via GALEX...\n",
      "\n",
      "\n",
      "Querying PS1 for host galaxy data...\n",
      "\n"
     ]
    },
    {
     "name": "stderr",
     "output_type": "stream",
     "text": [
      "/var/folders/x7/yl76x1s54ml4dckx50h4dfm9mztcwv/T/ipykernel_68053/4101882693.py:46: SettingWithCopyWarning: \n",
      "A value is trying to be set on a copy of a slice from a DataFrame\n",
      "\n",
      "See the caveats in the documentation: https://pandas.pydata.org/pandas-docs/stable/user_guide/indexing.html#returning-a-view-versus-a-copy\n",
      "  closest_match_df.drop(columns=['Ra', 'Dec'], axis=1, inplace=True)\n",
      "/Users/pxr754/opt/anaconda3/lib/python3.9/site-packages/extinctions/reddening.py:53: YAMLLoadWarning: calling yaml.load() without Loader=... is deprecated, as the default Loader is unsafe. Please read https://msg.pyyaml.org/load for full details.\n",
      "  self.maps = yaml.load(open(pmap))\n",
      "WARNING: AstropyDeprecationWarning: \"verbose\" was deprecated in version 1.15.0 and will be removed in a future version.  [extinctions.reddening]\n"
     ]
    },
    {
     "name": "stdout",
     "output_type": "stream",
     "text": [
      "Collection Notes Compiled for NGC4594.\n",
      "INFO: Loading the maps from /Users/pxr754/.extinction/maps//maps.yaml\n",
      " -  sfd is loaded\n",
      "\n",
      "Querying SDSS for host galaxy data...\n",
      "\n",
      "\n",
      "Querying PS1 for host galaxy data...\n",
      "\n"
     ]
    },
    {
     "name": "stderr",
     "output_type": "stream",
     "text": [
      "/var/folders/x7/yl76x1s54ml4dckx50h4dfm9mztcwv/T/ipykernel_68053/4101882693.py:46: SettingWithCopyWarning: \n",
      "A value is trying to be set on a copy of a slice from a DataFrame\n",
      "\n",
      "See the caveats in the documentation: https://pandas.pydata.org/pandas-docs/stable/user_guide/indexing.html#returning-a-view-versus-a-copy\n",
      "  closest_match_df.drop(columns=['Ra', 'Dec'], axis=1, inplace=True)\n",
      "/var/folders/x7/yl76x1s54ml4dckx50h4dfm9mztcwv/T/ipykernel_68053/3868000565.py:13: RuntimeWarning: divide by zero encountered in log10\n",
      "  return 22.5 - 2.5*np.log10(input_flux)\n",
      "/var/folders/x7/yl76x1s54ml4dckx50h4dfm9mztcwv/T/ipykernel_68053/3868000565.py:52: RuntimeWarning: divide by zero encountered in divide\n",
      "  flux_error = 1./np.sqrt(hdu_data[field][idx])\n"
     ]
    },
    {
     "name": "stdout",
     "output_type": "stream",
     "text": [
      "\n",
      "Querying ViZieR for host galaxy data via 2MASS...\n",
      "\n",
      "\n",
      "Querying Legacy Survey for host galaxy data...\n",
      "\n",
      "\n",
      "Querying ViZieR for host galaxy data via GALEX...\n",
      "\n",
      "Raw Data Collected for NGC7457.\n",
      "\n",
      "Querying SDSS for host galaxy data...\n",
      "\n",
      "\n",
      "Querying PS1 for host galaxy data...\n",
      "\n"
     ]
    },
    {
     "name": "stderr",
     "output_type": "stream",
     "text": [
      "/var/folders/x7/yl76x1s54ml4dckx50h4dfm9mztcwv/T/ipykernel_68053/4101882693.py:46: SettingWithCopyWarning: \n",
      "A value is trying to be set on a copy of a slice from a DataFrame\n",
      "\n",
      "See the caveats in the documentation: https://pandas.pydata.org/pandas-docs/stable/user_guide/indexing.html#returning-a-view-versus-a-copy\n",
      "  closest_match_df.drop(columns=['Ra', 'Dec'], axis=1, inplace=True)\n",
      "/var/folders/x7/yl76x1s54ml4dckx50h4dfm9mztcwv/T/ipykernel_68053/3868000565.py:13: RuntimeWarning: divide by zero encountered in log10\n",
      "  return 22.5 - 2.5*np.log10(input_flux)\n",
      "/var/folders/x7/yl76x1s54ml4dckx50h4dfm9mztcwv/T/ipykernel_68053/3868000565.py:52: RuntimeWarning: divide by zero encountered in divide\n",
      "  flux_error = 1./np.sqrt(hdu_data[field][idx])\n"
     ]
    },
    {
     "name": "stdout",
     "output_type": "stream",
     "text": [
      "\n",
      "Querying ViZieR for host galaxy data via 2MASS...\n",
      "\n",
      "\n",
      "Querying Legacy Survey for host galaxy data...\n",
      "\n",
      "\n",
      "Querying ViZieR for host galaxy data via GALEX...\n",
      "\n",
      "\n",
      "Querying PS1 for host galaxy data...\n",
      "\n"
     ]
    },
    {
     "name": "stderr",
     "output_type": "stream",
     "text": [
      "/var/folders/x7/yl76x1s54ml4dckx50h4dfm9mztcwv/T/ipykernel_68053/4101882693.py:46: SettingWithCopyWarning: \n",
      "A value is trying to be set on a copy of a slice from a DataFrame\n",
      "\n",
      "See the caveats in the documentation: https://pandas.pydata.org/pandas-docs/stable/user_guide/indexing.html#returning-a-view-versus-a-copy\n",
      "  closest_match_df.drop(columns=['Ra', 'Dec'], axis=1, inplace=True)\n",
      "/Users/pxr754/opt/anaconda3/lib/python3.9/site-packages/extinctions/reddening.py:53: YAMLLoadWarning: calling yaml.load() without Loader=... is deprecated, as the default Loader is unsafe. Please read https://msg.pyyaml.org/load for full details.\n",
      "  self.maps = yaml.load(open(pmap))\n",
      "WARNING: AstropyDeprecationWarning: \"verbose\" was deprecated in version 1.15.0 and will be removed in a future version.  [extinctions.reddening]\n"
     ]
    },
    {
     "name": "stdout",
     "output_type": "stream",
     "text": [
      "Collection Notes Compiled for NGC7457.\n",
      "INFO: Loading the maps from /Users/pxr754/.extinction/maps//maps.yaml\n",
      " -  sfd is loaded\n",
      "\n",
      "Querying SDSS for host galaxy data...\n",
      "\n",
      "\n",
      "Querying PS1 for host galaxy data...\n",
      "\n"
     ]
    },
    {
     "name": "stderr",
     "output_type": "stream",
     "text": [
      "/var/folders/x7/yl76x1s54ml4dckx50h4dfm9mztcwv/T/ipykernel_68053/4101882693.py:46: SettingWithCopyWarning: \n",
      "A value is trying to be set on a copy of a slice from a DataFrame\n",
      "\n",
      "See the caveats in the documentation: https://pandas.pydata.org/pandas-docs/stable/user_guide/indexing.html#returning-a-view-versus-a-copy\n",
      "  closest_match_df.drop(columns=['Ra', 'Dec'], axis=1, inplace=True)\n"
     ]
    },
    {
     "name": "stdout",
     "output_type": "stream",
     "text": [
      "\n",
      "Querying ViZieR for host galaxy data via 2MASS...\n",
      "\n",
      "\n",
      "Querying Legacy Survey for host galaxy data...\n",
      "\n",
      "\n",
      "Querying ViZieR for host galaxy data via GALEX...\n",
      "\n",
      "Raw Data Collected for NGC1068.\n",
      "\n",
      "Querying SDSS for host galaxy data...\n",
      "\n",
      "\n",
      "Querying PS1 for host galaxy data...\n",
      "\n"
     ]
    },
    {
     "name": "stderr",
     "output_type": "stream",
     "text": [
      "/var/folders/x7/yl76x1s54ml4dckx50h4dfm9mztcwv/T/ipykernel_68053/4101882693.py:46: SettingWithCopyWarning: \n",
      "A value is trying to be set on a copy of a slice from a DataFrame\n",
      "\n",
      "See the caveats in the documentation: https://pandas.pydata.org/pandas-docs/stable/user_guide/indexing.html#returning-a-view-versus-a-copy\n",
      "  closest_match_df.drop(columns=['Ra', 'Dec'], axis=1, inplace=True)\n"
     ]
    },
    {
     "name": "stdout",
     "output_type": "stream",
     "text": [
      "\n",
      "Querying ViZieR for host galaxy data via 2MASS...\n",
      "\n",
      "\n",
      "Querying Legacy Survey for host galaxy data...\n",
      "\n",
      "\n",
      "Querying ViZieR for host galaxy data via GALEX...\n",
      "\n",
      "\n",
      "Querying PS1 for host galaxy data...\n",
      "\n"
     ]
    },
    {
     "name": "stderr",
     "output_type": "stream",
     "text": [
      "/var/folders/x7/yl76x1s54ml4dckx50h4dfm9mztcwv/T/ipykernel_68053/4101882693.py:46: SettingWithCopyWarning: \n",
      "A value is trying to be set on a copy of a slice from a DataFrame\n",
      "\n",
      "See the caveats in the documentation: https://pandas.pydata.org/pandas-docs/stable/user_guide/indexing.html#returning-a-view-versus-a-copy\n",
      "  closest_match_df.drop(columns=['Ra', 'Dec'], axis=1, inplace=True)\n",
      "/Users/pxr754/opt/anaconda3/lib/python3.9/site-packages/extinctions/reddening.py:53: YAMLLoadWarning: calling yaml.load() without Loader=... is deprecated, as the default Loader is unsafe. Please read https://msg.pyyaml.org/load for full details.\n",
      "  self.maps = yaml.load(open(pmap))\n",
      "WARNING: AstropyDeprecationWarning: \"verbose\" was deprecated in version 1.15.0 and will be removed in a future version.  [extinctions.reddening]\n"
     ]
    },
    {
     "name": "stdout",
     "output_type": "stream",
     "text": [
      "Collection Notes Compiled for NGC1068.\n",
      "INFO: Loading the maps from /Users/pxr754/.extinction/maps//maps.yaml\n",
      " -  sfd is loaded\n",
      "\n",
      "Querying SDSS for host galaxy data...\n",
      "\n",
      "\n",
      "Querying PS1 for host galaxy data...\n",
      "\n"
     ]
    },
    {
     "name": "stderr",
     "output_type": "stream",
     "text": [
      "/var/folders/x7/yl76x1s54ml4dckx50h4dfm9mztcwv/T/ipykernel_68053/4101882693.py:46: SettingWithCopyWarning: \n",
      "A value is trying to be set on a copy of a slice from a DataFrame\n",
      "\n",
      "See the caveats in the documentation: https://pandas.pydata.org/pandas-docs/stable/user_guide/indexing.html#returning-a-view-versus-a-copy\n",
      "  closest_match_df.drop(columns=['Ra', 'Dec'], axis=1, inplace=True)\n"
     ]
    },
    {
     "name": "stdout",
     "output_type": "stream",
     "text": [
      "\n",
      "Querying ViZieR for host galaxy data via 2MASS...\n",
      "\n",
      "\n",
      "Querying Legacy Survey for host galaxy data...\n",
      "\n",
      "\n",
      "Querying ViZieR for host galaxy data via GALEX...\n",
      "\n",
      "Raw Data Collected for NGC1300.\n",
      "\n",
      "Querying SDSS for host galaxy data...\n",
      "\n",
      "\n",
      "Querying PS1 for host galaxy data...\n",
      "\n"
     ]
    },
    {
     "name": "stderr",
     "output_type": "stream",
     "text": [
      "/var/folders/x7/yl76x1s54ml4dckx50h4dfm9mztcwv/T/ipykernel_68053/4101882693.py:46: SettingWithCopyWarning: \n",
      "A value is trying to be set on a copy of a slice from a DataFrame\n",
      "\n",
      "See the caveats in the documentation: https://pandas.pydata.org/pandas-docs/stable/user_guide/indexing.html#returning-a-view-versus-a-copy\n",
      "  closest_match_df.drop(columns=['Ra', 'Dec'], axis=1, inplace=True)\n"
     ]
    },
    {
     "name": "stdout",
     "output_type": "stream",
     "text": [
      "\n",
      "Querying ViZieR for host galaxy data via 2MASS...\n",
      "\n",
      "\n",
      "Querying Legacy Survey for host galaxy data...\n",
      "\n",
      "\n",
      "Querying ViZieR for host galaxy data via GALEX...\n",
      "\n",
      "\n",
      "Querying PS1 for host galaxy data...\n",
      "\n"
     ]
    },
    {
     "name": "stderr",
     "output_type": "stream",
     "text": [
      "/var/folders/x7/yl76x1s54ml4dckx50h4dfm9mztcwv/T/ipykernel_68053/4101882693.py:46: SettingWithCopyWarning: \n",
      "A value is trying to be set on a copy of a slice from a DataFrame\n",
      "\n",
      "See the caveats in the documentation: https://pandas.pydata.org/pandas-docs/stable/user_guide/indexing.html#returning-a-view-versus-a-copy\n",
      "  closest_match_df.drop(columns=['Ra', 'Dec'], axis=1, inplace=True)\n",
      "/Users/pxr754/opt/anaconda3/lib/python3.9/site-packages/extinctions/reddening.py:53: YAMLLoadWarning: calling yaml.load() without Loader=... is deprecated, as the default Loader is unsafe. Please read https://msg.pyyaml.org/load for full details.\n",
      "  self.maps = yaml.load(open(pmap))\n",
      "WARNING: AstropyDeprecationWarning: \"verbose\" was deprecated in version 1.15.0 and will be removed in a future version.  [extinctions.reddening]\n"
     ]
    },
    {
     "name": "stdout",
     "output_type": "stream",
     "text": [
      "Collection Notes Compiled for NGC1300.\n",
      "INFO: Loading the maps from /Users/pxr754/.extinction/maps//maps.yaml\n",
      " -  sfd is loaded\n",
      "\n",
      "Querying SDSS for host galaxy data...\n",
      "\n",
      "\n",
      "Querying PS1 for host galaxy data...\n",
      "\n",
      "\n",
      "Querying ViZieR for host galaxy data via 2MASS...\n",
      "\n",
      "\n",
      "Querying Legacy Survey for host galaxy data...\n",
      "\n",
      "\n",
      "Querying ViZieR for host galaxy data via GALEX...\n",
      "\n",
      "Raw Data Collected for NGC2273.\n",
      "\n",
      "Querying SDSS for host galaxy data...\n",
      "\n",
      "\n",
      "Querying PS1 for host galaxy data...\n",
      "\n",
      "\n",
      "Querying ViZieR for host galaxy data via 2MASS...\n",
      "\n",
      "\n",
      "Querying Legacy Survey for host galaxy data...\n",
      "\n",
      "\n",
      "Querying ViZieR for host galaxy data via GALEX...\n",
      "\n",
      "\n",
      "Querying PS1 for host galaxy data...\n",
      "\n",
      "Collection Notes Compiled for NGC2273.\n",
      "INFO: Loading the maps from /Users/pxr754/.extinction/maps//maps.yaml\n"
     ]
    },
    {
     "name": "stderr",
     "output_type": "stream",
     "text": [
      "/Users/pxr754/opt/anaconda3/lib/python3.9/site-packages/extinctions/reddening.py:53: YAMLLoadWarning: calling yaml.load() without Loader=... is deprecated, as the default Loader is unsafe. Please read https://msg.pyyaml.org/load for full details.\n",
      "  self.maps = yaml.load(open(pmap))\n",
      "WARNING: AstropyDeprecationWarning: \"verbose\" was deprecated in version 1.15.0 and will be removed in a future version.  [extinctions.reddening]\n"
     ]
    },
    {
     "name": "stdout",
     "output_type": "stream",
     "text": [
      " -  sfd is loaded\n",
      "\n",
      "Querying SDSS for host galaxy data...\n",
      "\n",
      "\n",
      "Querying PS1 for host galaxy data...\n",
      "\n"
     ]
    },
    {
     "name": "stderr",
     "output_type": "stream",
     "text": [
      "/var/folders/x7/yl76x1s54ml4dckx50h4dfm9mztcwv/T/ipykernel_68053/4101882693.py:46: SettingWithCopyWarning: \n",
      "A value is trying to be set on a copy of a slice from a DataFrame\n",
      "\n",
      "See the caveats in the documentation: https://pandas.pydata.org/pandas-docs/stable/user_guide/indexing.html#returning-a-view-versus-a-copy\n",
      "  closest_match_df.drop(columns=['Ra', 'Dec'], axis=1, inplace=True)\n"
     ]
    },
    {
     "name": "stdout",
     "output_type": "stream",
     "text": [
      "\n",
      "Querying ViZieR for host galaxy data via 2MASS...\n",
      "\n",
      "\n",
      "Querying Legacy Survey for host galaxy data...\n",
      "\n",
      "\n",
      "Querying ViZieR for host galaxy data via GALEX...\n",
      "\n",
      "Raw Data Collected for NGC2748.\n",
      "\n",
      "Querying SDSS for host galaxy data...\n",
      "\n",
      "\n",
      "Querying PS1 for host galaxy data...\n",
      "\n"
     ]
    },
    {
     "name": "stderr",
     "output_type": "stream",
     "text": [
      "/var/folders/x7/yl76x1s54ml4dckx50h4dfm9mztcwv/T/ipykernel_68053/4101882693.py:46: SettingWithCopyWarning: \n",
      "A value is trying to be set on a copy of a slice from a DataFrame\n",
      "\n",
      "See the caveats in the documentation: https://pandas.pydata.org/pandas-docs/stable/user_guide/indexing.html#returning-a-view-versus-a-copy\n",
      "  closest_match_df.drop(columns=['Ra', 'Dec'], axis=1, inplace=True)\n"
     ]
    },
    {
     "name": "stdout",
     "output_type": "stream",
     "text": [
      "\n",
      "Querying ViZieR for host galaxy data via 2MASS...\n",
      "\n",
      "\n",
      "Querying Legacy Survey for host galaxy data...\n",
      "\n",
      "\n",
      "Querying ViZieR for host galaxy data via GALEX...\n",
      "\n",
      "\n",
      "Querying PS1 for host galaxy data...\n",
      "\n"
     ]
    },
    {
     "name": "stderr",
     "output_type": "stream",
     "text": [
      "/var/folders/x7/yl76x1s54ml4dckx50h4dfm9mztcwv/T/ipykernel_68053/4101882693.py:46: SettingWithCopyWarning: \n",
      "A value is trying to be set on a copy of a slice from a DataFrame\n",
      "\n",
      "See the caveats in the documentation: https://pandas.pydata.org/pandas-docs/stable/user_guide/indexing.html#returning-a-view-versus-a-copy\n",
      "  closest_match_df.drop(columns=['Ra', 'Dec'], axis=1, inplace=True)\n",
      "/Users/pxr754/opt/anaconda3/lib/python3.9/site-packages/extinctions/reddening.py:53: YAMLLoadWarning: calling yaml.load() without Loader=... is deprecated, as the default Loader is unsafe. Please read https://msg.pyyaml.org/load for full details.\n",
      "  self.maps = yaml.load(open(pmap))\n",
      "WARNING: AstropyDeprecationWarning: \"verbose\" was deprecated in version 1.15.0 and will be removed in a future version.  [extinctions.reddening]\n"
     ]
    },
    {
     "name": "stdout",
     "output_type": "stream",
     "text": [
      "Collection Notes Compiled for NGC2748.\n",
      "INFO: Loading the maps from /Users/pxr754/.extinction/maps//maps.yaml\n",
      " -  sfd is loaded\n",
      "\n",
      "Querying SDSS for host galaxy data...\n",
      "\n",
      "\n",
      "Querying PS1 for host galaxy data...\n",
      "\n"
     ]
    },
    {
     "name": "stderr",
     "output_type": "stream",
     "text": [
      "/var/folders/x7/yl76x1s54ml4dckx50h4dfm9mztcwv/T/ipykernel_68053/4101882693.py:46: SettingWithCopyWarning: \n",
      "A value is trying to be set on a copy of a slice from a DataFrame\n",
      "\n",
      "See the caveats in the documentation: https://pandas.pydata.org/pandas-docs/stable/user_guide/indexing.html#returning-a-view-versus-a-copy\n",
      "  closest_match_df.drop(columns=['Ra', 'Dec'], axis=1, inplace=True)\n"
     ]
    },
    {
     "name": "stdout",
     "output_type": "stream",
     "text": [
      "\n",
      "Querying ViZieR for host galaxy data via 2MASS...\n",
      "\n",
      "\n",
      "Querying Legacy Survey for host galaxy data...\n",
      "\n",
      "\n",
      "Querying ViZieR for host galaxy data via GALEX...\n",
      "\n",
      "Raw Data Collected for NGC2787.\n",
      "\n",
      "Querying SDSS for host galaxy data...\n",
      "\n",
      "\n",
      "Querying PS1 for host galaxy data...\n",
      "\n"
     ]
    },
    {
     "name": "stderr",
     "output_type": "stream",
     "text": [
      "/var/folders/x7/yl76x1s54ml4dckx50h4dfm9mztcwv/T/ipykernel_68053/4101882693.py:46: SettingWithCopyWarning: \n",
      "A value is trying to be set on a copy of a slice from a DataFrame\n",
      "\n",
      "See the caveats in the documentation: https://pandas.pydata.org/pandas-docs/stable/user_guide/indexing.html#returning-a-view-versus-a-copy\n",
      "  closest_match_df.drop(columns=['Ra', 'Dec'], axis=1, inplace=True)\n"
     ]
    },
    {
     "name": "stdout",
     "output_type": "stream",
     "text": [
      "\n",
      "Querying ViZieR for host galaxy data via 2MASS...\n",
      "\n",
      "\n",
      "Querying Legacy Survey for host galaxy data...\n",
      "\n",
      "\n",
      "Querying ViZieR for host galaxy data via GALEX...\n",
      "\n",
      "\n",
      "Querying PS1 for host galaxy data...\n",
      "\n"
     ]
    },
    {
     "name": "stderr",
     "output_type": "stream",
     "text": [
      "/var/folders/x7/yl76x1s54ml4dckx50h4dfm9mztcwv/T/ipykernel_68053/4101882693.py:46: SettingWithCopyWarning: \n",
      "A value is trying to be set on a copy of a slice from a DataFrame\n",
      "\n",
      "See the caveats in the documentation: https://pandas.pydata.org/pandas-docs/stable/user_guide/indexing.html#returning-a-view-versus-a-copy\n",
      "  closest_match_df.drop(columns=['Ra', 'Dec'], axis=1, inplace=True)\n",
      "/Users/pxr754/opt/anaconda3/lib/python3.9/site-packages/extinctions/reddening.py:53: YAMLLoadWarning: calling yaml.load() without Loader=... is deprecated, as the default Loader is unsafe. Please read https://msg.pyyaml.org/load for full details.\n",
      "  self.maps = yaml.load(open(pmap))\n",
      "WARNING: AstropyDeprecationWarning: \"verbose\" was deprecated in version 1.15.0 and will be removed in a future version.  [extinctions.reddening]\n"
     ]
    },
    {
     "name": "stdout",
     "output_type": "stream",
     "text": [
      "Collection Notes Compiled for NGC2787.\n",
      "INFO: Loading the maps from /Users/pxr754/.extinction/maps//maps.yaml\n",
      " -  sfd is loaded\n",
      "\n",
      "Querying SDSS for host galaxy data...\n",
      "\n",
      "\n",
      "Querying PS1 for host galaxy data...\n",
      "\n",
      "\n",
      "Querying ViZieR for host galaxy data via 2MASS...\n",
      "\n",
      "\n",
      "Querying Legacy Survey for host galaxy data...\n",
      "\n",
      "\n",
      "Querying ViZieR for host galaxy data via GALEX...\n",
      "\n",
      "Raw Data Collected for NGC3227.\n",
      "\n",
      "Querying SDSS for host galaxy data...\n",
      "\n",
      "\n",
      "Querying PS1 for host galaxy data...\n",
      "\n",
      "\n",
      "Querying ViZieR for host galaxy data via 2MASS...\n",
      "\n",
      "\n",
      "Querying Legacy Survey for host galaxy data...\n",
      "\n",
      "\n",
      "Querying ViZieR for host galaxy data via GALEX...\n",
      "\n",
      "\n",
      "Querying PS1 for host galaxy data...\n",
      "\n",
      "Collection Notes Compiled for NGC3227.\n",
      "INFO: Loading the maps from /Users/pxr754/.extinction/maps//maps.yaml\n"
     ]
    },
    {
     "name": "stderr",
     "output_type": "stream",
     "text": [
      "/Users/pxr754/opt/anaconda3/lib/python3.9/site-packages/extinctions/reddening.py:53: YAMLLoadWarning: calling yaml.load() without Loader=... is deprecated, as the default Loader is unsafe. Please read https://msg.pyyaml.org/load for full details.\n",
      "  self.maps = yaml.load(open(pmap))\n",
      "WARNING: AstropyDeprecationWarning: \"verbose\" was deprecated in version 1.15.0 and will be removed in a future version.  [extinctions.reddening]\n"
     ]
    },
    {
     "name": "stdout",
     "output_type": "stream",
     "text": [
      " -  sfd is loaded\n",
      "\n",
      "Querying SDSS for host galaxy data...\n",
      "\n",
      "\n",
      "Querying PS1 for host galaxy data...\n",
      "\n",
      "\n",
      "Querying ViZieR for host galaxy data via 2MASS...\n",
      "\n",
      "\n",
      "Querying Legacy Survey for host galaxy data...\n",
      "\n",
      "\n",
      "Querying ViZieR for host galaxy data via GALEX...\n",
      "\n",
      "Raw Data Collected for NGC3368.\n",
      "\n",
      "Querying SDSS for host galaxy data...\n",
      "\n",
      "\n",
      "Querying PS1 for host galaxy data...\n",
      "\n",
      "\n",
      "Querying ViZieR for host galaxy data via 2MASS...\n",
      "\n",
      "\n",
      "Querying Legacy Survey for host galaxy data...\n",
      "\n",
      "\n",
      "Querying ViZieR for host galaxy data via GALEX...\n",
      "\n",
      "\n",
      "Querying PS1 for host galaxy data...\n",
      "\n",
      "Collection Notes Compiled for NGC3368.\n",
      "INFO: Loading the maps from /Users/pxr754/.extinction/maps//maps.yaml\n"
     ]
    },
    {
     "name": "stderr",
     "output_type": "stream",
     "text": [
      "/Users/pxr754/opt/anaconda3/lib/python3.9/site-packages/extinctions/reddening.py:53: YAMLLoadWarning: calling yaml.load() without Loader=... is deprecated, as the default Loader is unsafe. Please read https://msg.pyyaml.org/load for full details.\n",
      "  self.maps = yaml.load(open(pmap))\n",
      "WARNING: AstropyDeprecationWarning: \"verbose\" was deprecated in version 1.15.0 and will be removed in a future version.  [extinctions.reddening]\n"
     ]
    },
    {
     "name": "stdout",
     "output_type": "stream",
     "text": [
      " -  sfd is loaded\n",
      "\n",
      "Querying SDSS for host galaxy data...\n",
      "\n",
      "\n",
      "Querying PS1 for host galaxy data...\n",
      "\n"
     ]
    },
    {
     "name": "stderr",
     "output_type": "stream",
     "text": [
      "/var/folders/x7/yl76x1s54ml4dckx50h4dfm9mztcwv/T/ipykernel_68053/4101882693.py:46: SettingWithCopyWarning: \n",
      "A value is trying to be set on a copy of a slice from a DataFrame\n",
      "\n",
      "See the caveats in the documentation: https://pandas.pydata.org/pandas-docs/stable/user_guide/indexing.html#returning-a-view-versus-a-copy\n",
      "  closest_match_df.drop(columns=['Ra', 'Dec'], axis=1, inplace=True)\n"
     ]
    },
    {
     "name": "stdout",
     "output_type": "stream",
     "text": [
      "\n",
      "Querying ViZieR for host galaxy data via 2MASS...\n",
      "\n",
      "\n",
      "Querying Legacy Survey for host galaxy data...\n",
      "\n",
      "\n",
      "Querying ViZieR for host galaxy data via GALEX...\n",
      "\n",
      "Raw Data Collected for NGC3384.\n",
      "\n",
      "Querying SDSS for host galaxy data...\n",
      "\n",
      "\n",
      "Querying PS1 for host galaxy data...\n",
      "\n"
     ]
    },
    {
     "name": "stderr",
     "output_type": "stream",
     "text": [
      "/var/folders/x7/yl76x1s54ml4dckx50h4dfm9mztcwv/T/ipykernel_68053/4101882693.py:46: SettingWithCopyWarning: \n",
      "A value is trying to be set on a copy of a slice from a DataFrame\n",
      "\n",
      "See the caveats in the documentation: https://pandas.pydata.org/pandas-docs/stable/user_guide/indexing.html#returning-a-view-versus-a-copy\n",
      "  closest_match_df.drop(columns=['Ra', 'Dec'], axis=1, inplace=True)\n"
     ]
    },
    {
     "name": "stdout",
     "output_type": "stream",
     "text": [
      "\n",
      "Querying ViZieR for host galaxy data via 2MASS...\n",
      "\n",
      "\n",
      "Querying Legacy Survey for host galaxy data...\n",
      "\n",
      "\n",
      "Querying ViZieR for host galaxy data via GALEX...\n",
      "\n",
      "\n",
      "Querying PS1 for host galaxy data...\n",
      "\n"
     ]
    },
    {
     "name": "stderr",
     "output_type": "stream",
     "text": [
      "/var/folders/x7/yl76x1s54ml4dckx50h4dfm9mztcwv/T/ipykernel_68053/4101882693.py:46: SettingWithCopyWarning: \n",
      "A value is trying to be set on a copy of a slice from a DataFrame\n",
      "\n",
      "See the caveats in the documentation: https://pandas.pydata.org/pandas-docs/stable/user_guide/indexing.html#returning-a-view-versus-a-copy\n",
      "  closest_match_df.drop(columns=['Ra', 'Dec'], axis=1, inplace=True)\n",
      "/Users/pxr754/opt/anaconda3/lib/python3.9/site-packages/extinctions/reddening.py:53: YAMLLoadWarning: calling yaml.load() without Loader=... is deprecated, as the default Loader is unsafe. Please read https://msg.pyyaml.org/load for full details.\n",
      "  self.maps = yaml.load(open(pmap))\n",
      "WARNING: AstropyDeprecationWarning: \"verbose\" was deprecated in version 1.15.0 and will be removed in a future version.  [extinctions.reddening]\n"
     ]
    },
    {
     "name": "stdout",
     "output_type": "stream",
     "text": [
      "Collection Notes Compiled for NGC3384.\n",
      "INFO: Loading the maps from /Users/pxr754/.extinction/maps//maps.yaml\n",
      " -  sfd is loaded\n",
      "\n",
      "Querying SDSS for host galaxy data...\n",
      "\n",
      "\n",
      "Querying PS1 for host galaxy data...\n",
      "\n"
     ]
    },
    {
     "name": "stderr",
     "output_type": "stream",
     "text": [
      "/var/folders/x7/yl76x1s54ml4dckx50h4dfm9mztcwv/T/ipykernel_68053/4101882693.py:46: SettingWithCopyWarning: \n",
      "A value is trying to be set on a copy of a slice from a DataFrame\n",
      "\n",
      "See the caveats in the documentation: https://pandas.pydata.org/pandas-docs/stable/user_guide/indexing.html#returning-a-view-versus-a-copy\n",
      "  closest_match_df.drop(columns=['Ra', 'Dec'], axis=1, inplace=True)\n"
     ]
    },
    {
     "name": "stdout",
     "output_type": "stream",
     "text": [
      "\n",
      "Querying ViZieR for host galaxy data via 2MASS...\n",
      "\n",
      "\n",
      "Querying Legacy Survey for host galaxy data...\n",
      "\n",
      "\n",
      "Querying ViZieR for host galaxy data via GALEX...\n",
      "\n",
      "Raw Data Collected for NGC3393.\n",
      "\n",
      "Querying SDSS for host galaxy data...\n",
      "\n",
      "\n",
      "Querying PS1 for host galaxy data...\n",
      "\n"
     ]
    },
    {
     "name": "stderr",
     "output_type": "stream",
     "text": [
      "/var/folders/x7/yl76x1s54ml4dckx50h4dfm9mztcwv/T/ipykernel_68053/4101882693.py:46: SettingWithCopyWarning: \n",
      "A value is trying to be set on a copy of a slice from a DataFrame\n",
      "\n",
      "See the caveats in the documentation: https://pandas.pydata.org/pandas-docs/stable/user_guide/indexing.html#returning-a-view-versus-a-copy\n",
      "  closest_match_df.drop(columns=['Ra', 'Dec'], axis=1, inplace=True)\n"
     ]
    },
    {
     "name": "stdout",
     "output_type": "stream",
     "text": [
      "\n",
      "Querying ViZieR for host galaxy data via 2MASS...\n",
      "\n",
      "\n",
      "Querying Legacy Survey for host galaxy data...\n",
      "\n",
      "\n",
      "Querying ViZieR for host galaxy data via GALEX...\n",
      "\n",
      "\n",
      "Querying PS1 for host galaxy data...\n",
      "\n"
     ]
    },
    {
     "name": "stderr",
     "output_type": "stream",
     "text": [
      "/var/folders/x7/yl76x1s54ml4dckx50h4dfm9mztcwv/T/ipykernel_68053/4101882693.py:46: SettingWithCopyWarning: \n",
      "A value is trying to be set on a copy of a slice from a DataFrame\n",
      "\n",
      "See the caveats in the documentation: https://pandas.pydata.org/pandas-docs/stable/user_guide/indexing.html#returning-a-view-versus-a-copy\n",
      "  closest_match_df.drop(columns=['Ra', 'Dec'], axis=1, inplace=True)\n",
      "/Users/pxr754/opt/anaconda3/lib/python3.9/site-packages/extinctions/reddening.py:53: YAMLLoadWarning: calling yaml.load() without Loader=... is deprecated, as the default Loader is unsafe. Please read https://msg.pyyaml.org/load for full details.\n",
      "  self.maps = yaml.load(open(pmap))\n",
      "WARNING: AstropyDeprecationWarning: \"verbose\" was deprecated in version 1.15.0 and will be removed in a future version.  [extinctions.reddening]\n"
     ]
    },
    {
     "name": "stdout",
     "output_type": "stream",
     "text": [
      "Collection Notes Compiled for NGC3393.\n",
      "INFO: Loading the maps from /Users/pxr754/.extinction/maps//maps.yaml\n",
      " -  sfd is loaded\n",
      "\n",
      "Querying SDSS for host galaxy data...\n",
      "\n",
      "\n",
      "Querying PS1 for host galaxy data...\n",
      "\n",
      "\n",
      "Querying ViZieR for host galaxy data via 2MASS...\n",
      "\n",
      "\n",
      "Querying Legacy Survey for host galaxy data...\n",
      "\n",
      "\n",
      "Querying ViZieR for host galaxy data via GALEX...\n",
      "\n",
      "Raw Data Collected for NGC3489.\n",
      "\n",
      "Querying SDSS for host galaxy data...\n",
      "\n",
      "\n",
      "Querying PS1 for host galaxy data...\n",
      "\n",
      "\n",
      "Querying ViZieR for host galaxy data via 2MASS...\n",
      "\n",
      "\n",
      "Querying Legacy Survey for host galaxy data...\n",
      "\n",
      "\n",
      "Querying ViZieR for host galaxy data via GALEX...\n",
      "\n",
      "\n",
      "Querying PS1 for host galaxy data...\n",
      "\n",
      "Collection Notes Compiled for NGC3489.\n",
      "INFO: Loading the maps from /Users/pxr754/.extinction/maps//maps.yaml\n"
     ]
    },
    {
     "name": "stderr",
     "output_type": "stream",
     "text": [
      "/Users/pxr754/opt/anaconda3/lib/python3.9/site-packages/extinctions/reddening.py:53: YAMLLoadWarning: calling yaml.load() without Loader=... is deprecated, as the default Loader is unsafe. Please read https://msg.pyyaml.org/load for full details.\n",
      "  self.maps = yaml.load(open(pmap))\n",
      "WARNING: AstropyDeprecationWarning: \"verbose\" was deprecated in version 1.15.0 and will be removed in a future version.  [extinctions.reddening]\n"
     ]
    },
    {
     "name": "stdout",
     "output_type": "stream",
     "text": [
      " -  sfd is loaded\n",
      "\n",
      "Querying SDSS for host galaxy data...\n",
      "\n",
      "\n",
      "Querying PS1 for host galaxy data...\n",
      "\n"
     ]
    },
    {
     "name": "stderr",
     "output_type": "stream",
     "text": [
      "/var/folders/x7/yl76x1s54ml4dckx50h4dfm9mztcwv/T/ipykernel_68053/4101882693.py:46: SettingWithCopyWarning: \n",
      "A value is trying to be set on a copy of a slice from a DataFrame\n",
      "\n",
      "See the caveats in the documentation: https://pandas.pydata.org/pandas-docs/stable/user_guide/indexing.html#returning-a-view-versus-a-copy\n",
      "  closest_match_df.drop(columns=['Ra', 'Dec'], axis=1, inplace=True)\n"
     ]
    },
    {
     "name": "stdout",
     "output_type": "stream",
     "text": [
      "\n",
      "Querying ViZieR for host galaxy data via 2MASS...\n",
      "\n",
      "\n",
      "Querying Legacy Survey for host galaxy data...\n",
      "\n",
      "\n",
      "Querying ViZieR for host galaxy data via GALEX...\n",
      "\n",
      "Raw Data Collected for NGC3945.\n",
      "\n",
      "Querying SDSS for host galaxy data...\n",
      "\n",
      "\n",
      "Querying PS1 for host galaxy data...\n",
      "\n"
     ]
    },
    {
     "name": "stderr",
     "output_type": "stream",
     "text": [
      "/var/folders/x7/yl76x1s54ml4dckx50h4dfm9mztcwv/T/ipykernel_68053/4101882693.py:46: SettingWithCopyWarning: \n",
      "A value is trying to be set on a copy of a slice from a DataFrame\n",
      "\n",
      "See the caveats in the documentation: https://pandas.pydata.org/pandas-docs/stable/user_guide/indexing.html#returning-a-view-versus-a-copy\n",
      "  closest_match_df.drop(columns=['Ra', 'Dec'], axis=1, inplace=True)\n"
     ]
    },
    {
     "name": "stdout",
     "output_type": "stream",
     "text": [
      "\n",
      "Querying ViZieR for host galaxy data via 2MASS...\n",
      "\n",
      "\n",
      "Querying Legacy Survey for host galaxy data...\n",
      "\n",
      "\n",
      "Querying ViZieR for host galaxy data via GALEX...\n",
      "\n",
      "\n",
      "Querying PS1 for host galaxy data...\n",
      "\n"
     ]
    },
    {
     "name": "stderr",
     "output_type": "stream",
     "text": [
      "/var/folders/x7/yl76x1s54ml4dckx50h4dfm9mztcwv/T/ipykernel_68053/4101882693.py:46: SettingWithCopyWarning: \n",
      "A value is trying to be set on a copy of a slice from a DataFrame\n",
      "\n",
      "See the caveats in the documentation: https://pandas.pydata.org/pandas-docs/stable/user_guide/indexing.html#returning-a-view-versus-a-copy\n",
      "  closest_match_df.drop(columns=['Ra', 'Dec'], axis=1, inplace=True)\n",
      "/Users/pxr754/opt/anaconda3/lib/python3.9/site-packages/extinctions/reddening.py:53: YAMLLoadWarning: calling yaml.load() without Loader=... is deprecated, as the default Loader is unsafe. Please read https://msg.pyyaml.org/load for full details.\n",
      "  self.maps = yaml.load(open(pmap))\n",
      "WARNING: AstropyDeprecationWarning: \"verbose\" was deprecated in version 1.15.0 and will be removed in a future version.  [extinctions.reddening]\n"
     ]
    },
    {
     "name": "stdout",
     "output_type": "stream",
     "text": [
      "Collection Notes Compiled for NGC3945.\n",
      "INFO: Loading the maps from /Users/pxr754/.extinction/maps//maps.yaml\n",
      " -  sfd is loaded\n",
      "\n",
      "Querying SDSS for host galaxy data...\n",
      "\n",
      "\n",
      "Querying PS1 for host galaxy data...\n",
      "\n"
     ]
    },
    {
     "name": "stderr",
     "output_type": "stream",
     "text": [
      "/var/folders/x7/yl76x1s54ml4dckx50h4dfm9mztcwv/T/ipykernel_68053/4101882693.py:46: SettingWithCopyWarning: \n",
      "A value is trying to be set on a copy of a slice from a DataFrame\n",
      "\n",
      "See the caveats in the documentation: https://pandas.pydata.org/pandas-docs/stable/user_guide/indexing.html#returning-a-view-versus-a-copy\n",
      "  closest_match_df.drop(columns=['Ra', 'Dec'], axis=1, inplace=True)\n",
      "/var/folders/x7/yl76x1s54ml4dckx50h4dfm9mztcwv/T/ipykernel_68053/3868000565.py:13: RuntimeWarning: invalid value encountered in log10\n",
      "  return 22.5 - 2.5*np.log10(input_flux)\n"
     ]
    },
    {
     "name": "stdout",
     "output_type": "stream",
     "text": [
      "\n",
      "Querying ViZieR for host galaxy data via 2MASS...\n",
      "\n",
      "\n",
      "Querying Legacy Survey for host galaxy data...\n",
      "\n",
      "\n",
      "Querying ViZieR for host galaxy data via GALEX...\n",
      "\n",
      "Raw Data Collected for NGC4388.\n",
      "\n",
      "Querying SDSS for host galaxy data...\n",
      "\n",
      "\n",
      "Querying PS1 for host galaxy data...\n",
      "\n"
     ]
    },
    {
     "name": "stderr",
     "output_type": "stream",
     "text": [
      "/var/folders/x7/yl76x1s54ml4dckx50h4dfm9mztcwv/T/ipykernel_68053/4101882693.py:46: SettingWithCopyWarning: \n",
      "A value is trying to be set on a copy of a slice from a DataFrame\n",
      "\n",
      "See the caveats in the documentation: https://pandas.pydata.org/pandas-docs/stable/user_guide/indexing.html#returning-a-view-versus-a-copy\n",
      "  closest_match_df.drop(columns=['Ra', 'Dec'], axis=1, inplace=True)\n",
      "/var/folders/x7/yl76x1s54ml4dckx50h4dfm9mztcwv/T/ipykernel_68053/3868000565.py:13: RuntimeWarning: invalid value encountered in log10\n",
      "  return 22.5 - 2.5*np.log10(input_flux)\n"
     ]
    },
    {
     "name": "stdout",
     "output_type": "stream",
     "text": [
      "\n",
      "Querying ViZieR for host galaxy data via 2MASS...\n",
      "\n",
      "\n",
      "Querying Legacy Survey for host galaxy data...\n",
      "\n",
      "\n",
      "Querying ViZieR for host galaxy data via GALEX...\n",
      "\n",
      "\n",
      "Querying PS1 for host galaxy data...\n",
      "\n"
     ]
    },
    {
     "name": "stderr",
     "output_type": "stream",
     "text": [
      "/var/folders/x7/yl76x1s54ml4dckx50h4dfm9mztcwv/T/ipykernel_68053/4101882693.py:46: SettingWithCopyWarning: \n",
      "A value is trying to be set on a copy of a slice from a DataFrame\n",
      "\n",
      "See the caveats in the documentation: https://pandas.pydata.org/pandas-docs/stable/user_guide/indexing.html#returning-a-view-versus-a-copy\n",
      "  closest_match_df.drop(columns=['Ra', 'Dec'], axis=1, inplace=True)\n",
      "/Users/pxr754/opt/anaconda3/lib/python3.9/site-packages/extinctions/reddening.py:53: YAMLLoadWarning: calling yaml.load() without Loader=... is deprecated, as the default Loader is unsafe. Please read https://msg.pyyaml.org/load for full details.\n",
      "  self.maps = yaml.load(open(pmap))\n",
      "WARNING: AstropyDeprecationWarning: \"verbose\" was deprecated in version 1.15.0 and will be removed in a future version.  [extinctions.reddening]\n"
     ]
    },
    {
     "name": "stdout",
     "output_type": "stream",
     "text": [
      "Collection Notes Compiled for NGC4388.\n",
      "INFO: Loading the maps from /Users/pxr754/.extinction/maps//maps.yaml\n",
      " -  sfd is loaded\n",
      "\n",
      "Querying SDSS for host galaxy data...\n",
      "\n",
      "\n",
      "Querying PS1 for host galaxy data...\n",
      "\n"
     ]
    },
    {
     "name": "stderr",
     "output_type": "stream",
     "text": [
      "/var/folders/x7/yl76x1s54ml4dckx50h4dfm9mztcwv/T/ipykernel_68053/4101882693.py:46: SettingWithCopyWarning: \n",
      "A value is trying to be set on a copy of a slice from a DataFrame\n",
      "\n",
      "See the caveats in the documentation: https://pandas.pydata.org/pandas-docs/stable/user_guide/indexing.html#returning-a-view-versus-a-copy\n",
      "  closest_match_df.drop(columns=['Ra', 'Dec'], axis=1, inplace=True)\n"
     ]
    },
    {
     "name": "stdout",
     "output_type": "stream",
     "text": [
      "\n",
      "Querying ViZieR for host galaxy data via 2MASS...\n",
      "\n",
      "\n",
      "Querying Legacy Survey for host galaxy data...\n",
      "\n",
      "\n",
      "Querying ViZieR for host galaxy data via GALEX...\n",
      "\n",
      "Raw Data Collected for NGC4736.\n",
      "\n",
      "Querying SDSS for host galaxy data...\n",
      "\n",
      "\n",
      "Querying PS1 for host galaxy data...\n",
      "\n"
     ]
    },
    {
     "name": "stderr",
     "output_type": "stream",
     "text": [
      "/var/folders/x7/yl76x1s54ml4dckx50h4dfm9mztcwv/T/ipykernel_68053/4101882693.py:46: SettingWithCopyWarning: \n",
      "A value is trying to be set on a copy of a slice from a DataFrame\n",
      "\n",
      "See the caveats in the documentation: https://pandas.pydata.org/pandas-docs/stable/user_guide/indexing.html#returning-a-view-versus-a-copy\n",
      "  closest_match_df.drop(columns=['Ra', 'Dec'], axis=1, inplace=True)\n"
     ]
    },
    {
     "name": "stdout",
     "output_type": "stream",
     "text": [
      "\n",
      "Querying ViZieR for host galaxy data via 2MASS...\n",
      "\n",
      "\n",
      "Querying Legacy Survey for host galaxy data...\n",
      "\n",
      "\n",
      "Querying ViZieR for host galaxy data via GALEX...\n",
      "\n",
      "\n",
      "Querying PS1 for host galaxy data...\n",
      "\n"
     ]
    },
    {
     "name": "stderr",
     "output_type": "stream",
     "text": [
      "/var/folders/x7/yl76x1s54ml4dckx50h4dfm9mztcwv/T/ipykernel_68053/4101882693.py:46: SettingWithCopyWarning: \n",
      "A value is trying to be set on a copy of a slice from a DataFrame\n",
      "\n",
      "See the caveats in the documentation: https://pandas.pydata.org/pandas-docs/stable/user_guide/indexing.html#returning-a-view-versus-a-copy\n",
      "  closest_match_df.drop(columns=['Ra', 'Dec'], axis=1, inplace=True)\n",
      "/Users/pxr754/opt/anaconda3/lib/python3.9/site-packages/extinctions/reddening.py:53: YAMLLoadWarning: calling yaml.load() without Loader=... is deprecated, as the default Loader is unsafe. Please read https://msg.pyyaml.org/load for full details.\n",
      "  self.maps = yaml.load(open(pmap))\n",
      "WARNING: AstropyDeprecationWarning: \"verbose\" was deprecated in version 1.15.0 and will be removed in a future version.  [extinctions.reddening]\n"
     ]
    },
    {
     "name": "stdout",
     "output_type": "stream",
     "text": [
      "Collection Notes Compiled for NGC4736.\n",
      "INFO: Loading the maps from /Users/pxr754/.extinction/maps//maps.yaml\n",
      " -  sfd is loaded\n",
      "\n",
      "Querying SDSS for host galaxy data...\n",
      "\n",
      "\n",
      "Querying PS1 for host galaxy data...\n",
      "\n"
     ]
    },
    {
     "name": "stderr",
     "output_type": "stream",
     "text": [
      "/var/folders/x7/yl76x1s54ml4dckx50h4dfm9mztcwv/T/ipykernel_68053/4101882693.py:46: SettingWithCopyWarning: \n",
      "A value is trying to be set on a copy of a slice from a DataFrame\n",
      "\n",
      "See the caveats in the documentation: https://pandas.pydata.org/pandas-docs/stable/user_guide/indexing.html#returning-a-view-versus-a-copy\n",
      "  closest_match_df.drop(columns=['Ra', 'Dec'], axis=1, inplace=True)\n",
      "/var/folders/x7/yl76x1s54ml4dckx50h4dfm9mztcwv/T/ipykernel_68053/3868000565.py:13: RuntimeWarning: divide by zero encountered in log10\n",
      "  return 22.5 - 2.5*np.log10(input_flux)\n",
      "/var/folders/x7/yl76x1s54ml4dckx50h4dfm9mztcwv/T/ipykernel_68053/3868000565.py:52: RuntimeWarning: divide by zero encountered in divide\n",
      "  flux_error = 1./np.sqrt(hdu_data[field][idx])\n"
     ]
    },
    {
     "name": "stdout",
     "output_type": "stream",
     "text": [
      "\n",
      "Querying ViZieR for host galaxy data via 2MASS...\n",
      "\n",
      "\n",
      "Querying Legacy Survey for host galaxy data...\n",
      "\n",
      "\n",
      "Querying ViZieR for host galaxy data via GALEX...\n",
      "\n",
      "Raw Data Collected for NGC4826.\n",
      "\n",
      "Querying SDSS for host galaxy data...\n",
      "\n",
      "\n",
      "Querying PS1 for host galaxy data...\n",
      "\n"
     ]
    },
    {
     "name": "stderr",
     "output_type": "stream",
     "text": [
      "/var/folders/x7/yl76x1s54ml4dckx50h4dfm9mztcwv/T/ipykernel_68053/4101882693.py:46: SettingWithCopyWarning: \n",
      "A value is trying to be set on a copy of a slice from a DataFrame\n",
      "\n",
      "See the caveats in the documentation: https://pandas.pydata.org/pandas-docs/stable/user_guide/indexing.html#returning-a-view-versus-a-copy\n",
      "  closest_match_df.drop(columns=['Ra', 'Dec'], axis=1, inplace=True)\n",
      "/var/folders/x7/yl76x1s54ml4dckx50h4dfm9mztcwv/T/ipykernel_68053/3868000565.py:13: RuntimeWarning: divide by zero encountered in log10\n",
      "  return 22.5 - 2.5*np.log10(input_flux)\n",
      "/var/folders/x7/yl76x1s54ml4dckx50h4dfm9mztcwv/T/ipykernel_68053/3868000565.py:52: RuntimeWarning: divide by zero encountered in divide\n",
      "  flux_error = 1./np.sqrt(hdu_data[field][idx])\n"
     ]
    },
    {
     "name": "stdout",
     "output_type": "stream",
     "text": [
      "\n",
      "Querying ViZieR for host galaxy data via 2MASS...\n",
      "\n",
      "\n",
      "Querying Legacy Survey for host galaxy data...\n",
      "\n",
      "\n",
      "Querying ViZieR for host galaxy data via GALEX...\n",
      "\n",
      "\n",
      "Querying PS1 for host galaxy data...\n",
      "\n"
     ]
    },
    {
     "name": "stderr",
     "output_type": "stream",
     "text": [
      "/var/folders/x7/yl76x1s54ml4dckx50h4dfm9mztcwv/T/ipykernel_68053/4101882693.py:46: SettingWithCopyWarning: \n",
      "A value is trying to be set on a copy of a slice from a DataFrame\n",
      "\n",
      "See the caveats in the documentation: https://pandas.pydata.org/pandas-docs/stable/user_guide/indexing.html#returning-a-view-versus-a-copy\n",
      "  closest_match_df.drop(columns=['Ra', 'Dec'], axis=1, inplace=True)\n",
      "/Users/pxr754/opt/anaconda3/lib/python3.9/site-packages/extinctions/reddening.py:53: YAMLLoadWarning: calling yaml.load() without Loader=... is deprecated, as the default Loader is unsafe. Please read https://msg.pyyaml.org/load for full details.\n",
      "  self.maps = yaml.load(open(pmap))\n",
      "WARNING: AstropyDeprecationWarning: \"verbose\" was deprecated in version 1.15.0 and will be removed in a future version.  [extinctions.reddening]\n"
     ]
    },
    {
     "name": "stdout",
     "output_type": "stream",
     "text": [
      "Collection Notes Compiled for NGC4826.\n",
      "INFO: Loading the maps from /Users/pxr754/.extinction/maps//maps.yaml\n",
      " -  sfd is loaded\n",
      "\n",
      "Querying SDSS for host galaxy data...\n",
      "\n",
      "\n",
      "Querying PS1 for host galaxy data...\n",
      "\n",
      "\n",
      "Querying ViZieR for host galaxy data via 2MASS...\n",
      "\n",
      "\n",
      "Querying Legacy Survey for host galaxy data...\n",
      "\n",
      "\n",
      "Querying ViZieR for host galaxy data via GALEX...\n",
      "\n",
      "Raw Data Collected for NGC4945.\n",
      "\n",
      "Querying SDSS for host galaxy data...\n",
      "\n",
      "\n",
      "Querying PS1 for host galaxy data...\n",
      "\n",
      "\n",
      "Querying ViZieR for host galaxy data via 2MASS...\n",
      "\n",
      "\n",
      "Querying Legacy Survey for host galaxy data...\n",
      "\n",
      "\n",
      "Querying ViZieR for host galaxy data via GALEX...\n",
      "\n",
      "\n",
      "Querying PS1 for host galaxy data...\n",
      "\n",
      "Collection Notes Compiled for NGC4945.\n",
      "INFO: Loading the maps from /Users/pxr754/.extinction/maps//maps.yaml\n",
      " -  sfd is loaded\n"
     ]
    },
    {
     "name": "stderr",
     "output_type": "stream",
     "text": [
      "/Users/pxr754/opt/anaconda3/lib/python3.9/site-packages/extinctions/reddening.py:53: YAMLLoadWarning: calling yaml.load() without Loader=... is deprecated, as the default Loader is unsafe. Please read https://msg.pyyaml.org/load for full details.\n",
      "  self.maps = yaml.load(open(pmap))\n",
      "WARNING: AstropyDeprecationWarning: \"verbose\" was deprecated in version 1.15.0 and will be removed in a future version.  [extinctions.reddening]\n"
     ]
    },
    {
     "name": "stdout",
     "output_type": "stream",
     "text": [
      "\n",
      "Querying SDSS for host galaxy data...\n",
      "\n",
      "\n",
      "Querying PS1 for host galaxy data...\n",
      "\n"
     ]
    },
    {
     "name": "stderr",
     "output_type": "stream",
     "text": [
      "/var/folders/x7/yl76x1s54ml4dckx50h4dfm9mztcwv/T/ipykernel_68053/4101882693.py:46: SettingWithCopyWarning: \n",
      "A value is trying to be set on a copy of a slice from a DataFrame\n",
      "\n",
      "See the caveats in the documentation: https://pandas.pydata.org/pandas-docs/stable/user_guide/indexing.html#returning-a-view-versus-a-copy\n",
      "  closest_match_df.drop(columns=['Ra', 'Dec'], axis=1, inplace=True)\n",
      "/var/folders/x7/yl76x1s54ml4dckx50h4dfm9mztcwv/T/ipykernel_68053/3868000565.py:13: RuntimeWarning: divide by zero encountered in log10\n",
      "  return 22.5 - 2.5*np.log10(input_flux)\n",
      "/var/folders/x7/yl76x1s54ml4dckx50h4dfm9mztcwv/T/ipykernel_68053/3868000565.py:52: RuntimeWarning: divide by zero encountered in divide\n",
      "  flux_error = 1./np.sqrt(hdu_data[field][idx])\n"
     ]
    },
    {
     "name": "stdout",
     "output_type": "stream",
     "text": [
      "\n",
      "Querying ViZieR for host galaxy data via 2MASS...\n",
      "\n",
      "\n",
      "Querying Legacy Survey for host galaxy data...\n",
      "\n",
      "\n",
      "Querying ViZieR for host galaxy data via GALEX...\n",
      "\n",
      "Raw Data Collected for NGC6264.\n",
      "\n",
      "Querying SDSS for host galaxy data...\n",
      "\n",
      "\n",
      "Querying PS1 for host galaxy data...\n",
      "\n"
     ]
    },
    {
     "name": "stderr",
     "output_type": "stream",
     "text": [
      "/var/folders/x7/yl76x1s54ml4dckx50h4dfm9mztcwv/T/ipykernel_68053/4101882693.py:46: SettingWithCopyWarning: \n",
      "A value is trying to be set on a copy of a slice from a DataFrame\n",
      "\n",
      "See the caveats in the documentation: https://pandas.pydata.org/pandas-docs/stable/user_guide/indexing.html#returning-a-view-versus-a-copy\n",
      "  closest_match_df.drop(columns=['Ra', 'Dec'], axis=1, inplace=True)\n",
      "/var/folders/x7/yl76x1s54ml4dckx50h4dfm9mztcwv/T/ipykernel_68053/3868000565.py:13: RuntimeWarning: divide by zero encountered in log10\n",
      "  return 22.5 - 2.5*np.log10(input_flux)\n",
      "/var/folders/x7/yl76x1s54ml4dckx50h4dfm9mztcwv/T/ipykernel_68053/3868000565.py:52: RuntimeWarning: divide by zero encountered in divide\n",
      "  flux_error = 1./np.sqrt(hdu_data[field][idx])\n"
     ]
    },
    {
     "name": "stdout",
     "output_type": "stream",
     "text": [
      "\n",
      "Querying ViZieR for host galaxy data via 2MASS...\n",
      "\n",
      "\n",
      "Querying Legacy Survey for host galaxy data...\n",
      "\n",
      "\n",
      "Querying ViZieR for host galaxy data via GALEX...\n",
      "\n",
      "\n",
      "Querying PS1 for host galaxy data...\n",
      "\n"
     ]
    },
    {
     "name": "stderr",
     "output_type": "stream",
     "text": [
      "/var/folders/x7/yl76x1s54ml4dckx50h4dfm9mztcwv/T/ipykernel_68053/4101882693.py:46: SettingWithCopyWarning: \n",
      "A value is trying to be set on a copy of a slice from a DataFrame\n",
      "\n",
      "See the caveats in the documentation: https://pandas.pydata.org/pandas-docs/stable/user_guide/indexing.html#returning-a-view-versus-a-copy\n",
      "  closest_match_df.drop(columns=['Ra', 'Dec'], axis=1, inplace=True)\n",
      "/Users/pxr754/opt/anaconda3/lib/python3.9/site-packages/extinctions/reddening.py:53: YAMLLoadWarning: calling yaml.load() without Loader=... is deprecated, as the default Loader is unsafe. Please read https://msg.pyyaml.org/load for full details.\n",
      "  self.maps = yaml.load(open(pmap))\n",
      "WARNING: AstropyDeprecationWarning: \"verbose\" was deprecated in version 1.15.0 and will be removed in a future version.  [extinctions.reddening]\n"
     ]
    },
    {
     "name": "stdout",
     "output_type": "stream",
     "text": [
      "Collection Notes Compiled for NGC6264.\n",
      "INFO: Loading the maps from /Users/pxr754/.extinction/maps//maps.yaml\n",
      " -  sfd is loaded\n",
      "\n",
      "Querying SDSS for host galaxy data...\n",
      "\n",
      "\n",
      "Querying PS1 for host galaxy data...\n",
      "\n",
      "\n",
      "Querying ViZieR for host galaxy data via 2MASS...\n",
      "\n",
      "\n",
      "Querying Legacy Survey for host galaxy data...\n",
      "\n",
      "\n",
      "Querying ViZieR for host galaxy data via GALEX...\n",
      "\n",
      "Raw Data Collected for NGC6323.\n",
      "\n",
      "Querying SDSS for host galaxy data...\n",
      "\n",
      "\n",
      "Querying PS1 for host galaxy data...\n",
      "\n",
      "\n",
      "Querying ViZieR for host galaxy data via 2MASS...\n",
      "\n",
      "\n",
      "Querying Legacy Survey for host galaxy data...\n",
      "\n",
      "\n",
      "Querying ViZieR for host galaxy data via GALEX...\n",
      "\n",
      "\n",
      "Querying PS1 for host galaxy data...\n",
      "\n",
      "Collection Notes Compiled for NGC6323.\n",
      "INFO: Loading the maps from /Users/pxr754/.extinction/maps//maps.yaml\n",
      " -  sfd is loaded\n"
     ]
    },
    {
     "name": "stderr",
     "output_type": "stream",
     "text": [
      "/Users/pxr754/opt/anaconda3/lib/python3.9/site-packages/extinctions/reddening.py:53: YAMLLoadWarning: calling yaml.load() without Loader=... is deprecated, as the default Loader is unsafe. Please read https://msg.pyyaml.org/load for full details.\n",
      "  self.maps = yaml.load(open(pmap))\n",
      "WARNING: AstropyDeprecationWarning: \"verbose\" was deprecated in version 1.15.0 and will be removed in a future version.  [extinctions.reddening]\n"
     ]
    },
    {
     "name": "stdout",
     "output_type": "stream",
     "text": [
      "\n",
      "Querying SDSS for host galaxy data...\n",
      "\n",
      "\n",
      "Querying PS1 for host galaxy data...\n",
      "\n",
      "\n",
      "Querying ViZieR for host galaxy data via 2MASS...\n",
      "\n",
      "\n",
      "Querying Legacy Survey for host galaxy data...\n",
      "\n",
      "\n",
      "Querying ViZieR for host galaxy data via GALEX...\n",
      "\n",
      "Raw Data Collected for NGC7582.\n"
     ]
    },
    {
     "name": "stderr",
     "output_type": "stream",
     "text": [
      "/var/folders/x7/yl76x1s54ml4dckx50h4dfm9mztcwv/T/ipykernel_68053/3868000565.py:13: RuntimeWarning: invalid value encountered in log10\n",
      "  return 22.5 - 2.5*np.log10(input_flux)\n"
     ]
    },
    {
     "name": "stdout",
     "output_type": "stream",
     "text": [
      "\n",
      "Querying SDSS for host galaxy data...\n",
      "\n",
      "\n",
      "Querying PS1 for host galaxy data...\n",
      "\n",
      "\n",
      "Querying ViZieR for host galaxy data via 2MASS...\n",
      "\n",
      "\n",
      "Querying Legacy Survey for host galaxy data...\n",
      "\n"
     ]
    },
    {
     "name": "stderr",
     "output_type": "stream",
     "text": [
      "/var/folders/x7/yl76x1s54ml4dckx50h4dfm9mztcwv/T/ipykernel_68053/3868000565.py:13: RuntimeWarning: invalid value encountered in log10\n",
      "  return 22.5 - 2.5*np.log10(input_flux)\n"
     ]
    },
    {
     "name": "stdout",
     "output_type": "stream",
     "text": [
      "\n",
      "Querying ViZieR for host galaxy data via GALEX...\n",
      "\n",
      "\n",
      "Querying PS1 for host galaxy data...\n",
      "\n",
      "Collection Notes Compiled for NGC7582.\n",
      "INFO: Loading the maps from /Users/pxr754/.extinction/maps//maps.yaml\n",
      " -  sfd is loaded\n"
     ]
    },
    {
     "name": "stderr",
     "output_type": "stream",
     "text": [
      "/Users/pxr754/opt/anaconda3/lib/python3.9/site-packages/extinctions/reddening.py:53: YAMLLoadWarning: calling yaml.load() without Loader=... is deprecated, as the default Loader is unsafe. Please read https://msg.pyyaml.org/load for full details.\n",
      "  self.maps = yaml.load(open(pmap))\n",
      "WARNING: AstropyDeprecationWarning: \"verbose\" was deprecated in version 1.15.0 and will be removed in a future version.  [extinctions.reddening]\n"
     ]
    },
    {
     "name": "stdout",
     "output_type": "stream",
     "text": [
      "\n",
      "Querying SDSS for host galaxy data...\n",
      "\n",
      "\n",
      "Querying PS1 for host galaxy data...\n",
      "\n",
      "\n",
      "Querying ViZieR for host galaxy data via 2MASS...\n",
      "\n",
      "\n",
      "Querying Legacy Survey for host galaxy data...\n",
      "\n",
      "\n",
      "Querying ViZieR for host galaxy data via GALEX...\n",
      "\n",
      "Raw Data Collected for IC2560.\n",
      "\n",
      "Querying SDSS for host galaxy data...\n",
      "\n",
      "\n",
      "Querying PS1 for host galaxy data...\n",
      "\n",
      "\n",
      "Querying ViZieR for host galaxy data via 2MASS...\n",
      "\n",
      "\n",
      "Querying Legacy Survey for host galaxy data...\n",
      "\n",
      "\n",
      "Querying ViZieR for host galaxy data via GALEX...\n",
      "\n",
      "\n",
      "Querying PS1 for host galaxy data...\n",
      "\n",
      "Collection Notes Compiled for IC2560.\n",
      "INFO: Loading the maps from /Users/pxr754/.extinction/maps//maps.yaml\n",
      " -  sfd is loaded\n"
     ]
    },
    {
     "name": "stderr",
     "output_type": "stream",
     "text": [
      "/Users/pxr754/opt/anaconda3/lib/python3.9/site-packages/extinctions/reddening.py:53: YAMLLoadWarning: calling yaml.load() without Loader=... is deprecated, as the default Loader is unsafe. Please read https://msg.pyyaml.org/load for full details.\n",
      "  self.maps = yaml.load(open(pmap))\n",
      "WARNING: AstropyDeprecationWarning: \"verbose\" was deprecated in version 1.15.0 and will be removed in a future version.  [extinctions.reddening]\n"
     ]
    },
    {
     "name": "stdout",
     "output_type": "stream",
     "text": [
      "\n",
      "Querying SDSS for host galaxy data...\n",
      "\n",
      "\n",
      "Querying PS1 for host galaxy data...\n",
      "\n",
      "\n",
      "Querying ViZieR for host galaxy data via 2MASS...\n",
      "\n",
      "\n",
      "Querying Legacy Survey for host galaxy data...\n",
      "\n",
      "\n",
      "Querying ViZieR for host galaxy data via GALEX...\n",
      "\n",
      "Raw Data Collected for UGC3789.\n",
      "\n",
      "Querying SDSS for host galaxy data...\n",
      "\n",
      "\n",
      "Querying PS1 for host galaxy data...\n",
      "\n",
      "\n",
      "Querying ViZieR for host galaxy data via 2MASS...\n",
      "\n",
      "\n",
      "Querying Legacy Survey for host galaxy data...\n",
      "\n",
      "\n",
      "Querying ViZieR for host galaxy data via GALEX...\n",
      "\n",
      "\n",
      "Querying PS1 for host galaxy data...\n",
      "\n",
      "Collection Notes Compiled for UGC3789.\n",
      "INFO: Loading the maps from /Users/pxr754/.extinction/maps//maps.yaml\n",
      " -  sfd is loaded\n"
     ]
    },
    {
     "name": "stderr",
     "output_type": "stream",
     "text": [
      "/Users/pxr754/opt/anaconda3/lib/python3.9/site-packages/extinctions/reddening.py:53: YAMLLoadWarning: calling yaml.load() without Loader=... is deprecated, as the default Loader is unsafe. Please read https://msg.pyyaml.org/load for full details.\n",
      "  self.maps = yaml.load(open(pmap))\n",
      "WARNING: AstropyDeprecationWarning: \"verbose\" was deprecated in version 1.15.0 and will be removed in a future version.  [extinctions.reddening]\n"
     ]
    },
    {
     "name": "stdout",
     "output_type": "stream",
     "text": [
      "\n",
      "Querying SDSS for host galaxy data...\n",
      "\n",
      "\n",
      "Querying PS1 for host galaxy data...\n",
      "\n"
     ]
    },
    {
     "name": "stderr",
     "output_type": "stream",
     "text": [
      "/var/folders/x7/yl76x1s54ml4dckx50h4dfm9mztcwv/T/ipykernel_68053/4101882693.py:46: SettingWithCopyWarning: \n",
      "A value is trying to be set on a copy of a slice from a DataFrame\n",
      "\n",
      "See the caveats in the documentation: https://pandas.pydata.org/pandas-docs/stable/user_guide/indexing.html#returning-a-view-versus-a-copy\n",
      "  closest_match_df.drop(columns=['Ra', 'Dec'], axis=1, inplace=True)\n"
     ]
    },
    {
     "name": "stdout",
     "output_type": "stream",
     "text": [
      "\n",
      "Querying ViZieR for host galaxy data via 2MASS...\n",
      "\n",
      "\n",
      "Querying Legacy Survey for host galaxy data...\n",
      "\n",
      "\n",
      "Querying ViZieR for host galaxy data via GALEX...\n",
      "\n",
      "Raw Data Collected for NGC3379.\n",
      "\n",
      "Querying SDSS for host galaxy data...\n",
      "\n",
      "\n",
      "Querying PS1 for host galaxy data...\n",
      "\n"
     ]
    },
    {
     "name": "stderr",
     "output_type": "stream",
     "text": [
      "/var/folders/x7/yl76x1s54ml4dckx50h4dfm9mztcwv/T/ipykernel_68053/4101882693.py:46: SettingWithCopyWarning: \n",
      "A value is trying to be set on a copy of a slice from a DataFrame\n",
      "\n",
      "See the caveats in the documentation: https://pandas.pydata.org/pandas-docs/stable/user_guide/indexing.html#returning-a-view-versus-a-copy\n",
      "  closest_match_df.drop(columns=['Ra', 'Dec'], axis=1, inplace=True)\n"
     ]
    },
    {
     "name": "stdout",
     "output_type": "stream",
     "text": [
      "\n",
      "Querying ViZieR for host galaxy data via 2MASS...\n",
      "\n",
      "\n",
      "Querying Legacy Survey for host galaxy data...\n",
      "\n",
      "\n",
      "Querying ViZieR for host galaxy data via GALEX...\n",
      "\n",
      "\n",
      "Querying PS1 for host galaxy data...\n",
      "\n",
      "Collection Notes Compiled for NGC3379.\n",
      "INFO: Loading the maps from /Users/pxr754/.extinction/maps//maps.yaml\n",
      " -  sfd is loaded\n"
     ]
    },
    {
     "name": "stderr",
     "output_type": "stream",
     "text": [
      "/var/folders/x7/yl76x1s54ml4dckx50h4dfm9mztcwv/T/ipykernel_68053/4101882693.py:46: SettingWithCopyWarning: \n",
      "A value is trying to be set on a copy of a slice from a DataFrame\n",
      "\n",
      "See the caveats in the documentation: https://pandas.pydata.org/pandas-docs/stable/user_guide/indexing.html#returning-a-view-versus-a-copy\n",
      "  closest_match_df.drop(columns=['Ra', 'Dec'], axis=1, inplace=True)\n",
      "/Users/pxr754/opt/anaconda3/lib/python3.9/site-packages/extinctions/reddening.py:53: YAMLLoadWarning: calling yaml.load() without Loader=... is deprecated, as the default Loader is unsafe. Please read https://msg.pyyaml.org/load for full details.\n",
      "  self.maps = yaml.load(open(pmap))\n",
      "WARNING: AstropyDeprecationWarning: \"verbose\" was deprecated in version 1.15.0 and will be removed in a future version.  [extinctions.reddening]\n"
     ]
    }
   ],
   "source": [
    "# read in .txt file of targets (target_name,ra,dec,z)\n",
    "with open('path/to/txt-file') as file:\n",
    "    name = []\n",
    "    z = []\n",
    "    ra = []\n",
    "    dec = []\n",
    "    \n",
    "    for line in file:\n",
    "        data = line.split(',')\n",
    "        name.append(data[0])\n",
    "        ra.append(float(data[8]))\n",
    "        dec.append(float(data[9]))\n",
    "        z.append(float(data[10]))\n",
    "\n",
    "\n",
    "for i in range(len(name)):\n",
    "    \n",
    "    # dictionary of raw data\n",
    "    raw_data = retrieve_SDSS(ra[i], dec[i], name[i])[0] | retrieve_pans(ra[i], dec[i])[0] | retrieve_2mass(ra[i], dec[i])[0] | retrieve_legacy(ra[i], dec[i])[0] | retrieve_galex(ra[i],dec[i])[0]\n",
    "    print(f'Raw Data Collected for {name[i]}.')\n",
    "\n",
    "    # dictionary of data collection notes\n",
    "    data_notes = retrieve_SDSS(ra[i], dec[i], name[i])[1] | retrieve_pans(ra[i], dec[i])[1] | retrieve_2mass(ra[i], dec[i])[1] | retrieve_legacy(ra[i], dec[i])[1] | retrieve_galex(ra[i],dec[i])[1] | bulge_to_total(ra[i],dec[i])\n",
    "    print(f'Collection Notes Compiled for {name[i]}.')    \n",
    "        \n",
    "    # adding a systematic error\n",
    "    syst_err = dict.fromkeys(['SDSS_err_u','SDSS_err_g','SDSS_err_r','SDSS_err_i','SDSS_err_z',\n",
    "                              'PSTARRS_e_g','PSTARRS_e_r','PSTARRS_e_i','PSTARRS_e_z','PSTARRS_e_y',\n",
    "                              '2MASS_e_J','2MASS_e_H','2MASS_e_K',\n",
    "                              'mag_err_g', 'mag_err_r', 'mag_err_i', 'mag_err_z',\n",
    "                              'mag_err_w1','mag_err_w2','mag_err_w3','mag_err_w4',\n",
    "                              'GALEX_e_FUV', 'GALEX_e_NUV'], 0.1)\n",
    "    \n",
    "    syst_data = {key: np.sqrt(raw_data[key]**2 + syst_err.get(key, 0)**2)         \n",
    "                        for key in raw_data.keys()}\n",
    "    \n",
    "    # zero values remain zero\n",
    "    for key, value in raw_data.items():\n",
    "        if value <= 0:\n",
    "            syst_data[key] = 0                                          \n",
    "     \n",
    "    \n",
    "    # dictionary of extinction corrected results\n",
    "    ext_values = ext(ra[i], dec[i])                                     \n",
    "    extcor_data = {key: syst_data[key] - ext_values.get(key, 0)         \n",
    "                           for key in syst_data.keys()}\n",
    "    \n",
    "    # zero values remain zero\n",
    "    for key, value in extcor_data.items():\n",
    "        if value < 0:\n",
    "            extcor_data[key] = 0                                        \n",
    "    \n",
    "    \n",
    "    # AB magnitude conversion\n",
    "    if extcor_data['2MASS_J'] > 0:\n",
    "        extcor_data['2MASS_J'] = extcor_data['2MASS_J'] + 0.91\n",
    "    \n",
    "    if extcor_data['2MASS_H'] > 0:\n",
    "        extcor_data['2MASS_H'] = extcor_data['2MASS_H'] + 1.39\n",
    "    \n",
    "    if extcor_data['2MASS_K'] > 0:\n",
    "        extcor_data['2MASS_K'] = extcor_data['2MASS_K'] + 1.85\n",
    "    \n",
    "    \n",
    "    # rounding to 4dp\n",
    "    arr = np.array(list(extcor_data.values()))\n",
    "    rounded_arr = np.round(arr, 4)\n",
    "\n",
    "    \n",
    "    # dictionary of final data values\n",
    "    fin_data = {key : rounded_arr[idx] for idx, key in enumerate(extcor_data)}\n",
    "    \n",
    "    # build .json\n",
    "    tde = {f'{name[i]}': \n",
    "            {\"redshift\": f'{z[i]}', \n",
    "             \"type\":\"TDE\", \n",
    "             \"photometry\": [], \"notes\": [] }}\n",
    "\n",
    "    keys = list(fin_data.keys())\n",
    "\n",
    "    for key in keys:\n",
    "        if (key[0:4] == 'SDSS'):\n",
    "            if (key[5:6] != 'e'):\n",
    "                if fin_data[key] and fin_data['SDSS_err_' + f'{key[5]}'] > 0: # if both magnitude and error on magnitude are larger than 0.\n",
    "                    tde[f'{name[i]}'][\"photometry\"].append({\"band\":f\"{key[5]}\", \"mag\": f\"{fin_data[f'{key}']}\", \"err\": f\"{fin_data['SDSS_err_' + f'{key[5]}']}\", \"limit\": False, \"instrument\": \"\", \"telescope\":\"SDSS\"})\n",
    "    \n",
    "        if (key[0:7] == 'PSTARRS'):\n",
    "            if (key[8:9] != 'e'):\n",
    "                if fin_data[key] > 0:\n",
    "                    tde[f'{name[i]}'][\"photometry\"].append({\"band\":f\"{key[8]}\", \"mag\": f\"{fin_data[f'{key}']}\", \"err\": f\"{fin_data['PSTARRS_e_' + f'{key[8]}']}\", \"limit\": False, \"instrument\": \"\", \"telescope\":\"PS1\"})\n",
    "                \n",
    "        if (key[0:5] == '2MASS'):\n",
    "            if (key[6:7] != 'e'):\n",
    "                if fin_data[key] > 0:\n",
    "                    tde[f'{name[i]}'][\"photometry\"].append({\"band\":f\"{key[6]}\", \"mag\": f\"{fin_data[f'{key}']}\", \"err\": f\"{fin_data['2MASS_e_' + f'{key[6]}']}\", \"limit\": False, \"instrument\": \"\", \"telescope\":\"2MASS\"})\n",
    "\n",
    "        if (key[0:3] == 'mag'):\n",
    "            if (key[4:7] != 'err'):\n",
    "                if fin_data[key] > 0:\n",
    "                    if (key[4] != 'w'):\n",
    "                        tde[f'{name[i]}'][\"photometry\"].append({\"band\":f\"{key[4]}\", \"mag\": f\"{fin_data[f'{key}']}\", \"err\": f\"{fin_data['mag_err_' + f'{key[4]}']}\", \"limit\": False, \"instrument\": \"\", \"telescope\":\"DECam\"})\n",
    "                    else:\n",
    "                        if fin_data['mag_err_w' +f'{key[5]}'] <= 0.5:\n",
    "                            tde[f'{name[i]}'][\"photometry\"].append({\"band\":f\"W{key[5]}\", \"mag\": f\"{fin_data[f'{key}']}\", \"err\": f\"{fin_data['mag_err_w' + f'{key[5]}']}\", \"limit\": False, \"instrument\": \"\", \"telescope\":\"WISE\"})\n",
    "        \n",
    "        if (key[0:5] == 'GALEX'):\n",
    "            if (key[6:7] != 'e'):\n",
    "                if fin_data[key] > 0:\n",
    "                    tde[f'{name[i]}'][\"photometry\"].append({\"band\":f\"{key[6:9]}\", \"mag\": f\"{fin_data[f'{key}']}\", \"err\": f\"{fin_data['GALEX_e_' + f'{key[6:9]}']}\", \"limit\": False, \"instrument\": \"\", \"telescope\":\"GALEX\"})\n",
    "\n",
    " \n",
    "    tde[f'{name[i]}'][\"notes\"].append(f\"{data_notes['SDSS']},{data_notes['PANS']},{data_notes['2MASS']},{data_notes['LEGACY']},{data_notes['GALEX']},{data_notes['(B/T)g']}\")\n",
    "\n",
    "    with open(f'path/to/data/folder', 'w') as outfile:\n",
    "        json.dump(tde, outfile, indent=2)"
   ]
  }
 ],
 "metadata": {
  "kernelspec": {
   "display_name": "base",
   "language": "python",
   "name": "python3"
  },
  "language_info": {
   "codemirror_mode": {
    "name": "ipython",
    "version": 3
   },
   "file_extension": ".py",
   "mimetype": "text/x-python",
   "name": "python",
   "nbconvert_exporter": "python",
   "pygments_lexer": "ipython3",
   "version": "3.9.12"
  }
 },
 "nbformat": 4,
 "nbformat_minor": 5
}
